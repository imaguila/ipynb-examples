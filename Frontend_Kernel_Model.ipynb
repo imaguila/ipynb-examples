{
  "nbformat": 4,
  "nbformat_minor": 0,
  "metadata": {
    "colab": {
      "provenance": []
    }
  },
  "cells": [
    {
      "cell_type": "markdown",
      "source": [
        "#The Frontend/Kernel Model"
      ],
      "metadata": {
        "id": "XrH2p5N3OsLn"
      }
    },
    {
      "cell_type": "markdown",
      "source": [
        "The traditional IPython (`ipython`) consists of a single process that combines a terminal based UI with the process that runs the users code.\n",
        "\n",
        "While this traditional application still exists, the modern IPython consists of two processes:\n",
        "\n",
        "* Kernel: this is the process that runs the users code.\n",
        "* Frontend: this is the process that provides the user interface where the user types code and sees results.\n",
        "\n",
        "IPython currently has 3 frontends:\n",
        "\n",
        "* Terminal Console (`ipython console`)\n",
        "* Qt Console (`ipython qtconsole`)\n",
        "* Notebook (`ipython notebook`)\n",
        "\n",
        "The Kernel and Frontend communicate over a ZeroMQ/JSON based messaging protocol, which allows multiple Frontends (even of different types) to communicate with a single Kernel. This opens the door for all sorts of interesting things, such as connecting a Console or Qt Console to a Notebook's Kernel.  For example, you may want to connect a Qt console to your Notebook's Kernel and use it as a help\n",
        "browser, calling `??` on objects in the Qt console (whose pager is more flexible than the\n",
        "one in the notebook).  \n",
        "\n",
        "This Notebook describes how you would connect another Frontend to a Kernel that is associated with a Notebook."
      ],
      "metadata": {
        "id": "I_PFaxpgOsLq"
      }
    },
    {
      "cell_type": "markdown",
      "source": [
        "##Manual connection"
      ],
      "metadata": {
        "id": "xqJe7MrmOsLr"
      }
    },
    {
      "cell_type": "markdown",
      "source": [
        "To connect another Frontend to a Kernel manually, you first need to find out the connection information for the Kernel using the `%connect_info` magic:"
      ],
      "metadata": {
        "id": "JKUMs1OSOsLr"
      }
    },
    {
      "cell_type": "code",
      "source": [
        "%connect_info"
      ],
      "outputs": [
        {
          "output_type": "stream",
          "text": [
            "{\n",
            "  \"stdin_port\": 52858, \n",
            "  \"ip\": \"127.0.0.1\", \n",
            "  \"hb_port\": 52859, \n",
            "  \"key\": \"7efd45ca-d8a2-41b0-9cea-d9116d0fb883\", \n",
            "  \"shell_port\": 52856, \n",
            "  \"iopub_port\": 52857\n",
            "}\n",
            "\n",
            "Paste the above JSON into a file, and connect with:\n",
            "    $> ipython <app> --existing <file>\n",
            "or, if you are local, you can connect with just:\n",
            "    $> ipython <app> --existing kernel-b3bac7c1-8b2c-4536-8082-8d1df24f99ac.json \n",
            "or even just:\n",
            "    $> ipython <app> --existing \n",
            "if this is the most recent IPython session you have started.\n"
          ],
          "name": "stdout"
        }
      ],
      "metadata": {
        "id": "MuLlHT15OsLr",
        "outputId": "337e67f7-1523-447e-d0c1-219ff4e4d8aa"
      },
      "execution_count": null
    },
    {
      "cell_type": "markdown",
      "source": [
        "You can see that this magic displays everything you need to connect to this Notebook's Kernel."
      ],
      "metadata": {
        "id": "GzGRUlOXOsLs"
      }
    },
    {
      "cell_type": "markdown",
      "source": [
        "##Automatic connection using a new Qt Console"
      ],
      "metadata": {
        "id": "l3Q6vZwfOsLs"
      }
    },
    {
      "cell_type": "markdown",
      "source": [
        "You can also start a new Qt Console connected to your current Kernel by using the `%qtconsole` magic. This will detect the necessary connection\n",
        "information and start the Qt Console for you automatically."
      ],
      "metadata": {
        "id": "BKSf2ShtOsLs"
      }
    },
    {
      "cell_type": "code",
      "source": [
        "a = 10"
      ],
      "outputs": [],
      "metadata": {
        "id": "LGiAlsO1OsLs"
      },
      "execution_count": null
    },
    {
      "cell_type": "code",
      "source": [
        "%qtconsole"
      ],
      "outputs": [],
      "metadata": {
        "id": "TqEl52cFOsLt"
      },
      "execution_count": null
    },
    {
      "cell_type": "markdown",
      "source": [
        "##The kernel's `raw_input` and `%debug`"
      ],
      "metadata": {
        "id": "xmTtLuUtOsLt"
      }
    },
    {
      "cell_type": "markdown",
      "source": [
        "The Notebook has added support for `raw_input` and `%debug`, as of 1.0."
      ],
      "metadata": {
        "id": "nE19YyAMOsLt"
      }
    },
    {
      "cell_type": "code",
      "source": [
        "# Python 3 compat\n",
        "try:\n",
        "    raw_input\n",
        "except NameError:\n",
        "    raw_input = input"
      ],
      "outputs": [],
      "metadata": {
        "id": "i65DLnTDOsLt"
      },
      "execution_count": null
    },
    {
      "cell_type": "code",
      "source": [
        "name = raw_input(\"What is your name? \")\n",
        "name"
      ],
      "outputs": [
        {
          "output_type": "stream",
          "text": [
            "What is your name? Sir Robin\n"
          ],
          "name": "stdout"
        },
        {
          "output_type": "execute_result",
          "data": {},
          "metadata": {},
          "execution_count": 2
        }
      ],
      "metadata": {
        "id": "v7yOfo2-OsLu",
        "outputId": "a14e86fb-7ead-46de-96dd-c5f6617f1e05"
      },
      "execution_count": null
    },
    {
      "cell_type": "markdown",
      "source": [
        "**Python 2-only**: the eval input works as well (`input` is just `eval(raw_input(prompt))`)"
      ],
      "metadata": {
        "id": "286-dYt0OsLu"
      }
    },
    {
      "cell_type": "code",
      "source": [
        "fingers = input(\"How many fingers? \")\n",
        "fingers, type(fingers)"
      ],
      "outputs": [
        {
          "output_type": "stream",
          "text": [
            "How many fingers? 4\n"
          ],
          "name": "stdout"
        },
        {
          "output_type": "execute_result",
          "data": {},
          "metadata": {},
          "execution_count": 3
        }
      ],
      "metadata": {
        "id": "nlh6GH5wOsLu",
        "outputId": "01e560fb-558a-47e9-90ee-0c139ec5d3a6"
      },
      "execution_count": null
    },
    {
      "cell_type": "code",
      "source": [
        "def div(x, y):\n",
        "    return x/y\n",
        "\n",
        "div(1,0)"
      ],
      "outputs": [
        {
          "output_type": "error",
          "ename": "ZeroDivisionError",
          "evalue": "integer division or modulo by zero",
          "traceback": [
            "\u001b[1;31m---------------------------------------------------------------------------\u001b[0m\n\u001b[1;31mZeroDivisionError\u001b[0m                         Traceback (most recent call last)",
            "\u001b[1;32m<ipython-input-4-a5097cc0c0c5>\u001b[0m in \u001b[0;36m<module>\u001b[1;34m()\u001b[0m\n\u001b[0;32m      2\u001b[0m     \u001b[1;32mreturn\u001b[0m \u001b[0mx\u001b[0m\u001b[1;33m/\u001b[0m\u001b[0my\u001b[0m\u001b[1;33m\u001b[0m\u001b[0m\n\u001b[0;32m      3\u001b[0m \u001b[1;33m\u001b[0m\u001b[0m\n\u001b[1;32m----> 4\u001b[1;33m \u001b[0mdiv\u001b[0m\u001b[1;33m(\u001b[0m\u001b[1;36m1\u001b[0m\u001b[1;33m,\u001b[0m\u001b[1;36m0\u001b[0m\u001b[1;33m)\u001b[0m\u001b[1;33m\u001b[0m\u001b[0m\n\u001b[0m",
            "\u001b[1;32m<ipython-input-4-a5097cc0c0c5>\u001b[0m in \u001b[0;36mdiv\u001b[1;34m(x, y)\u001b[0m\n\u001b[0;32m      1\u001b[0m \u001b[1;32mdef\u001b[0m \u001b[0mdiv\u001b[0m\u001b[1;33m(\u001b[0m\u001b[0mx\u001b[0m\u001b[1;33m,\u001b[0m \u001b[0my\u001b[0m\u001b[1;33m)\u001b[0m\u001b[1;33m:\u001b[0m\u001b[1;33m\u001b[0m\u001b[0m\n\u001b[1;32m----> 2\u001b[1;33m     \u001b[1;32mreturn\u001b[0m \u001b[0mx\u001b[0m\u001b[1;33m/\u001b[0m\u001b[0my\u001b[0m\u001b[1;33m\u001b[0m\u001b[0m\n\u001b[0m\u001b[0;32m      3\u001b[0m \u001b[1;33m\u001b[0m\u001b[0m\n\u001b[0;32m      4\u001b[0m \u001b[0mdiv\u001b[0m\u001b[1;33m(\u001b[0m\u001b[1;36m1\u001b[0m\u001b[1;33m,\u001b[0m\u001b[1;36m0\u001b[0m\u001b[1;33m)\u001b[0m\u001b[1;33m\u001b[0m\u001b[0m\n",
            "\u001b[1;31mZeroDivisionError\u001b[0m: integer division or modulo by zero"
          ]
        }
      ],
      "metadata": {
        "id": "j08zdWZ2OsLu",
        "outputId": "d64aa1a5-0bf0-4861-d4ef-6e60d7ef9e8c"
      },
      "execution_count": null
    },
    {
      "cell_type": "code",
      "source": [
        "%debug"
      ],
      "outputs": [
        {
          "output_type": "stream",
          "text": [
            "> \u001b[1;32m<ipython-input-4-a5097cc0c0c5>\u001b[0m(2)\u001b[0;36mdiv\u001b[1;34m()\u001b[0m\n",
            "\u001b[1;32m      1 \u001b[1;33m\u001b[1;32mdef\u001b[0m \u001b[0mdiv\u001b[0m\u001b[1;33m(\u001b[0m\u001b[0mx\u001b[0m\u001b[1;33m,\u001b[0m \u001b[0my\u001b[0m\u001b[1;33m)\u001b[0m\u001b[1;33m:\u001b[0m\u001b[1;33m\u001b[0m\u001b[0m\n",
            "\u001b[0m\u001b[1;32m----> 2 \u001b[1;33m    \u001b[1;32mreturn\u001b[0m \u001b[0mx\u001b[0m\u001b[1;33m/\u001b[0m\u001b[0my\u001b[0m\u001b[1;33m\u001b[0m\u001b[0m\n",
            "\u001b[0m\u001b[1;32m      3 \u001b[1;33m\u001b[1;33m\u001b[0m\u001b[0m\n",
            "\u001b[0m\n"
          ],
          "name": "stdout"
        },
        {
          "output_type": "stream",
          "text": [
            "ipdb> x\n"
          ],
          "name": "stdout"
        },
        {
          "output_type": "stream",
          "text": [
            "1\n"
          ],
          "name": "stdout"
        },
        {
          "output_type": "stream",
          "text": [
            "ipdb> y\n"
          ],
          "name": "stdout"
        },
        {
          "output_type": "stream",
          "text": [
            "0\n"
          ],
          "name": "stdout"
        },
        {
          "output_type": "stream",
          "text": [
            "ipdb> exit\n"
          ],
          "name": "stdout"
        }
      ],
      "metadata": {
        "id": "pV9SJaxiOsLu",
        "outputId": "fae3f0bf-48a0-4d71-c2bf-dc7b55d95692"
      },
      "execution_count": null
    }
  ]
}