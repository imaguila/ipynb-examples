{
  "cells": [
    {
      "attachments": {},
      "cell_type": "markdown",
      "metadata": {
        "id": "XrH2p5N3OsLn"
      },
      "source": [
        "# The Frontend/Kernel Model"
      ]
    },
    {
      "cell_type": "markdown",
      "metadata": {
        "id": "I_PFaxpgOsLq"
      },
      "source": [
        "The traditional IPython (`ipython`) consists of a single process that combines a terminal based UI with the process that runs the users code.\n",
        "\n",
        "While this traditional application still exists, the modern IPython consists of two processes:\n",
        "\n",
        "* Kernel: this is the process that runs the users code.\n",
        "* Frontend: this is the process that provides the user interface where the user types code and sees results.\n",
        "\n",
        "IPython currently has 3 frontends:\n",
        "\n",
        "* Terminal Console (`ipython console`)\n",
        "* Qt Console (`ipython qtconsole`)\n",
        "* Notebook (`ipython notebook`)\n",
        "\n",
        "The Kernel and Frontend communicate over a ZeroMQ/JSON based messaging protocol, which allows multiple Frontends (even of different types) to communicate with a single Kernel. This opens the door for all sorts of interesting things, such as connecting a Console or Qt Console to a Notebook's Kernel.  For example, you may want to connect a Qt console to your Notebook's Kernel and use it as a help\n",
        "browser, calling `??` on objects in the Qt console (whose pager is more flexible than the\n",
        "one in the notebook).  \n",
        "\n",
        "This Notebook describes how you would connect another Frontend to a Kernel that is associated with a Notebook."
      ]
    },
    {
      "attachments": {},
      "cell_type": "markdown",
      "metadata": {
        "id": "xqJe7MrmOsLr"
      },
      "source": [
        "## Manual connection"
      ]
    },
    {
      "cell_type": "markdown",
      "metadata": {
        "id": "JKUMs1OSOsLr"
      },
      "source": [
        "To connect another Frontend to a Kernel manually, you first need to find out the connection information for the Kernel using the `%connect_info` magic:"
      ]
    },
    {
      "cell_type": "code",
      "execution_count": null,
      "metadata": {
        "id": "MuLlHT15OsLr",
        "outputId": "337e67f7-1523-447e-d0c1-219ff4e4d8aa"
      },
      "outputs": [
        {
          "name": "stdout",
          "output_type": "stream",
          "text": [
            "{\n",
            "  \"stdin_port\": 52858, \n",
            "  \"ip\": \"127.0.0.1\", \n",
            "  \"hb_port\": 52859, \n",
            "  \"key\": \"7efd45ca-d8a2-41b0-9cea-d9116d0fb883\", \n",
            "  \"shell_port\": 52856, \n",
            "  \"iopub_port\": 52857\n",
            "}\n",
            "\n",
            "Paste the above JSON into a file, and connect with:\n",
            "    $> ipython <app> --existing <file>\n",
            "or, if you are local, you can connect with just:\n",
            "    $> ipython <app> --existing kernel-b3bac7c1-8b2c-4536-8082-8d1df24f99ac.json \n",
            "or even just:\n",
            "    $> ipython <app> --existing \n",
            "if this is the most recent IPython session you have started.\n"
          ]
        }
      ],
      "source": [
        "%connect_info"
      ]
    },
    {
      "cell_type": "markdown",
      "metadata": {
        "id": "GzGRUlOXOsLs"
      },
      "source": [
        "You can see that this magic displays everything you need to connect to this Notebook's Kernel."
      ]
    },
    {
      "attachments": {},
      "cell_type": "markdown",
      "metadata": {
        "id": "l3Q6vZwfOsLs"
      },
      "source": [
        "## Automatic connection using a new Qt Console"
      ]
    },
    {
      "cell_type": "markdown",
      "metadata": {
        "id": "BKSf2ShtOsLs"
      },
      "source": [
        "You can also start a new Qt Console connected to your current Kernel by using the `%qtconsole` magic. This will detect the necessary connection\n",
        "information and start the Qt Console for you automatically."
      ]
    },
    {
      "cell_type": "code",
      "execution_count": null,
      "metadata": {
        "id": "LGiAlsO1OsLs"
      },
      "outputs": [],
      "source": [
        "a = 10"
      ]
    },
    {
      "cell_type": "code",
      "execution_count": null,
      "metadata": {
        "id": "TqEl52cFOsLt"
      },
      "outputs": [],
      "source": [
        "%qtconsole"
      ]
    },
    {
      "cell_type": "markdown",
      "metadata": {
        "id": "xmTtLuUtOsLt"
      },
      "source": [
        "##The kernel's `raw_input` and `%debug`"
      ]
    },
    {
      "cell_type": "markdown",
      "metadata": {
        "id": "nE19YyAMOsLt"
      },
      "source": [
        "The Notebook has added support for `raw_input` and `%debug`, as of 1.0."
      ]
    },
    {
      "cell_type": "code",
      "execution_count": null,
      "metadata": {
        "id": "i65DLnTDOsLt"
      },
      "outputs": [],
      "source": [
        "# Python 3 compat\n",
        "try:\n",
        "    raw_input\n",
        "except NameError:\n",
        "    raw_input = input"
      ]
    },
    {
      "cell_type": "code",
      "execution_count": null,
      "metadata": {
        "id": "v7yOfo2-OsLu",
        "outputId": "a14e86fb-7ead-46de-96dd-c5f6617f1e05"
      },
      "outputs": [
        {
          "name": "stdout",
          "output_type": "stream",
          "text": [
            "What is your name? Sir Robin\n"
          ]
        },
        {
          "data": {},
          "execution_count": 2,
          "metadata": {},
          "output_type": "execute_result"
        }
      ],
      "source": [
        "name = raw_input(\"What is your name? \")\n",
        "name"
      ]
    },
    {
      "cell_type": "markdown",
      "metadata": {
        "id": "286-dYt0OsLu"
      },
      "source": [
        "**Python 2-only**: the eval input works as well (`input` is just `eval(raw_input(prompt))`)"
      ]
    },
    {
      "cell_type": "code",
      "execution_count": null,
      "metadata": {
        "id": "nlh6GH5wOsLu",
        "outputId": "01e560fb-558a-47e9-90ee-0c139ec5d3a6"
      },
      "outputs": [
        {
          "name": "stdout",
          "output_type": "stream",
          "text": [
            "How many fingers? 4\n"
          ]
        },
        {
          "data": {},
          "execution_count": 3,
          "metadata": {},
          "output_type": "execute_result"
        }
      ],
      "source": [
        "fingers = input(\"How many fingers? \")\n",
        "fingers, type(fingers)"
      ]
    },
    {
      "cell_type": "code",
      "execution_count": null,
      "metadata": {
        "id": "j08zdWZ2OsLu",
        "outputId": "d64aa1a5-0bf0-4861-d4ef-6e60d7ef9e8c"
      },
      "outputs": [
        {
          "ename": "ZeroDivisionError",
          "evalue": "integer division or modulo by zero",
          "output_type": "error",
          "traceback": [
            "\u001b[1;31m---------------------------------------------------------------------------\u001b[0m\n\u001b[1;31mZeroDivisionError\u001b[0m                         Traceback (most recent call last)",
            "\u001b[1;32m<ipython-input-4-a5097cc0c0c5>\u001b[0m in \u001b[0;36m<module>\u001b[1;34m()\u001b[0m\n\u001b[0;32m      2\u001b[0m     \u001b[1;32mreturn\u001b[0m \u001b[0mx\u001b[0m\u001b[1;33m/\u001b[0m\u001b[0my\u001b[0m\u001b[1;33m\u001b[0m\u001b[0m\n\u001b[0;32m      3\u001b[0m \u001b[1;33m\u001b[0m\u001b[0m\n\u001b[1;32m----> 4\u001b[1;33m \u001b[0mdiv\u001b[0m\u001b[1;33m(\u001b[0m\u001b[1;36m1\u001b[0m\u001b[1;33m,\u001b[0m\u001b[1;36m0\u001b[0m\u001b[1;33m)\u001b[0m\u001b[1;33m\u001b[0m\u001b[0m\n\u001b[0m",
            "\u001b[1;32m<ipython-input-4-a5097cc0c0c5>\u001b[0m in \u001b[0;36mdiv\u001b[1;34m(x, y)\u001b[0m\n\u001b[0;32m      1\u001b[0m \u001b[1;32mdef\u001b[0m \u001b[0mdiv\u001b[0m\u001b[1;33m(\u001b[0m\u001b[0mx\u001b[0m\u001b[1;33m,\u001b[0m \u001b[0my\u001b[0m\u001b[1;33m)\u001b[0m\u001b[1;33m:\u001b[0m\u001b[1;33m\u001b[0m\u001b[0m\n\u001b[1;32m----> 2\u001b[1;33m     \u001b[1;32mreturn\u001b[0m \u001b[0mx\u001b[0m\u001b[1;33m/\u001b[0m\u001b[0my\u001b[0m\u001b[1;33m\u001b[0m\u001b[0m\n\u001b[0m\u001b[0;32m      3\u001b[0m \u001b[1;33m\u001b[0m\u001b[0m\n\u001b[0;32m      4\u001b[0m \u001b[0mdiv\u001b[0m\u001b[1;33m(\u001b[0m\u001b[1;36m1\u001b[0m\u001b[1;33m,\u001b[0m\u001b[1;36m0\u001b[0m\u001b[1;33m)\u001b[0m\u001b[1;33m\u001b[0m\u001b[0m\n",
            "\u001b[1;31mZeroDivisionError\u001b[0m: integer division or modulo by zero"
          ]
        }
      ],
      "source": [
        "def div(x, y):\n",
        "    return x/y\n",
        "\n",
        "div(1,0)"
      ]
    },
    {
      "cell_type": "code",
      "execution_count": null,
      "metadata": {
        "id": "pV9SJaxiOsLu",
        "outputId": "fae3f0bf-48a0-4d71-c2bf-dc7b55d95692"
      },
      "outputs": [
        {
          "name": "stdout",
          "output_type": "stream",
          "text": [
            "> \u001b[1;32m<ipython-input-4-a5097cc0c0c5>\u001b[0m(2)\u001b[0;36mdiv\u001b[1;34m()\u001b[0m\n",
            "\u001b[1;32m      1 \u001b[1;33m\u001b[1;32mdef\u001b[0m \u001b[0mdiv\u001b[0m\u001b[1;33m(\u001b[0m\u001b[0mx\u001b[0m\u001b[1;33m,\u001b[0m \u001b[0my\u001b[0m\u001b[1;33m)\u001b[0m\u001b[1;33m:\u001b[0m\u001b[1;33m\u001b[0m\u001b[0m\n",
            "\u001b[0m\u001b[1;32m----> 2 \u001b[1;33m    \u001b[1;32mreturn\u001b[0m \u001b[0mx\u001b[0m\u001b[1;33m/\u001b[0m\u001b[0my\u001b[0m\u001b[1;33m\u001b[0m\u001b[0m\n",
            "\u001b[0m\u001b[1;32m      3 \u001b[1;33m\u001b[1;33m\u001b[0m\u001b[0m\n",
            "\u001b[0m\n"
          ]
        },
        {
          "name": "stdout",
          "output_type": "stream",
          "text": [
            "ipdb> x\n"
          ]
        },
        {
          "name": "stdout",
          "output_type": "stream",
          "text": [
            "1\n"
          ]
        },
        {
          "name": "stdout",
          "output_type": "stream",
          "text": [
            "ipdb> y\n"
          ]
        },
        {
          "name": "stdout",
          "output_type": "stream",
          "text": [
            "0\n"
          ]
        },
        {
          "name": "stdout",
          "output_type": "stream",
          "text": [
            "ipdb> exit\n"
          ]
        }
      ],
      "source": [
        "%debug"
      ]
    }
  ],
  "metadata": {
    "colab": {
      "provenance": []
    },
    "language_info": {
      "name": "python"
    }
  },
  "nbformat": 4,
  "nbformat_minor": 0
}
