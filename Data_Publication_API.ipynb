{
  "nbformat": 4,
  "nbformat_minor": 0,
  "metadata": {
    "colab": {
      "provenance": []
    }
  },
  "cells": [
    {
      "cell_type": "markdown",
      "source": [
        "#IPython's Data Publication API"
      ],
      "metadata": {
        "id": "XzC5ZtoUOnmC"
      }
    },
    {
      "cell_type": "markdown",
      "source": [
        "IPython has an API that allows IPython Engines to publish data back to the Client.  This Notebook shows how this API works."
      ],
      "metadata": {
        "id": "ST5LFyoFOnmE"
      }
    },
    {
      "cell_type": "markdown",
      "source": [
        "##Setup"
      ],
      "metadata": {
        "id": "n3H-AoOcOnmE"
      }
    },
    {
      "cell_type": "markdown",
      "source": [
        "We begin by enabling matplotlib plotting and creating a `Client` object to work with an IPython cluster."
      ],
      "metadata": {
        "id": "egT40XCGOnmE"
      }
    },
    {
      "cell_type": "code",
      "source": [
        "%matplotlib inline"
      ],
      "outputs": [],
      "metadata": {
        "id": "natnI6IxOnmF"
      },
      "execution_count": null
    },
    {
      "cell_type": "code",
      "source": [
        "from IPython.parallel import Client"
      ],
      "outputs": [],
      "metadata": {
        "id": "m788yLiJOnmG"
      },
      "execution_count": null
    },
    {
      "cell_type": "code",
      "source": [
        "c = Client()\n",
        "dv = c[:]\n",
        "dv.block = False\n",
        "dv"
      ],
      "outputs": [
        {
          "output_type": "execute_result",
          "data": {},
          "metadata": {},
          "execution_count": 3
        }
      ],
      "metadata": {
        "id": "gJxCbIPvOnmG",
        "outputId": "ea7e7a61-652b-415b-9446-79d5df875361"
      },
      "execution_count": null
    },
    {
      "cell_type": "markdown",
      "source": [
        "##Simple publication"
      ],
      "metadata": {
        "id": "ywA8_nI5OnmH"
      }
    },
    {
      "cell_type": "markdown",
      "source": [
        "Here is a simple Python function we are going to run on the Engines.  This function uses `publish_data` to publish a simple Python dictionary when it is run."
      ],
      "metadata": {
        "id": "82xxLK1dOnmH"
      }
    },
    {
      "cell_type": "code",
      "source": [
        "def publish_it():\n",
        "    from IPython.kernel.zmq.datapub import publish_data\n",
        "    publish_data(dict(a='hi'))"
      ],
      "outputs": [],
      "metadata": {
        "id": "5v6z1o1zOnmH"
      },
      "execution_count": null
    },
    {
      "cell_type": "markdown",
      "source": [
        "We run the function on the Engines using `apply_async` and save the returned `AsyncResult` object:"
      ],
      "metadata": {
        "id": "G5q-i1JLOnmI"
      }
    },
    {
      "cell_type": "code",
      "source": [
        "ar = dv.apply_async(publish_it)"
      ],
      "outputs": [],
      "metadata": {
        "id": "X8yyGJfwOnmI"
      },
      "execution_count": null
    },
    {
      "cell_type": "markdown",
      "source": [
        "The published data from each engine is then available under the `.data` attribute of the `AsyncResult` object."
      ],
      "metadata": {
        "id": "l-RtLZIfOnmI"
      }
    },
    {
      "cell_type": "code",
      "source": [
        "ar.data"
      ],
      "outputs": [
        {
          "output_type": "execute_result",
          "data": {},
          "metadata": {},
          "execution_count": 6
        }
      ],
      "metadata": {
        "id": "YTnYCZ3-OnmI",
        "outputId": "a946838c-ce59-47a2-9048-1b64c55d3df2"
      },
      "execution_count": null
    },
    {
      "cell_type": "markdown",
      "source": [
        "Each time `publish_data` is called, the `.data` attribute is updated with the most recently published data."
      ],
      "metadata": {
        "id": "0WlozaBeOnmI"
      }
    },
    {
      "cell_type": "markdown",
      "source": [
        "##Simulation loop"
      ],
      "metadata": {
        "id": "Ah3fh2P9OnmJ"
      }
    },
    {
      "cell_type": "markdown",
      "source": [
        "In many cases, the Engines will be running a simulation loop and we will want to publish data at each time step of the simulation.  To show how this works, we create a mock simulation function that iterates over a loop and publishes a NumPy array and loop variable at each time step. By inserting a call to `time.sleep(1)`, we ensure that new data will be published every second."
      ],
      "metadata": {
        "id": "j5UkJHLVOnmJ"
      }
    },
    {
      "cell_type": "code",
      "source": [
        "def simulation_loop():\n",
        "    from IPython.kernel.zmq.datapub import publish_data\n",
        "    import time\n",
        "    import numpy as np\n",
        "    for i in range(10):\n",
        "        publish_data(dict(a=np.random.rand(20), i=i))\n",
        "        time.sleep(1)"
      ],
      "outputs": [],
      "metadata": {
        "id": "UWVujd3BOnmJ"
      },
      "execution_count": null
    },
    {
      "cell_type": "markdown",
      "source": [
        "Again, we run the `simulation_loop` function in parallel using `apply_async` and save the returned `AsyncResult` object."
      ],
      "metadata": {
        "id": "mbTIpYA5OnmJ"
      }
    },
    {
      "cell_type": "code",
      "source": [
        "ar = dv.apply_async(simulation_loop)"
      ],
      "outputs": [],
      "metadata": {
        "id": "M-AyWK2XOnmK"
      },
      "execution_count": null
    },
    {
      "cell_type": "markdown",
      "source": [
        "New data will be published by the Engines every second.  Anytime we access `ar.data`, we will get the most recently published data."
      ],
      "metadata": {
        "id": "ODAWCE4jOnmK"
      }
    },
    {
      "cell_type": "code",
      "source": [
        "import matplotlib.pyplot as plt"
      ],
      "outputs": [],
      "metadata": {
        "id": "QMqnc5haOnmK"
      },
      "execution_count": null
    },
    {
      "cell_type": "code",
      "source": [
        "data = ar.data\n",
        "for i, d in enumerate(data):\n",
        "    plt.plot(d['a'], label='engine: '+str(i))\n",
        "plt.title('Data published at time step: ' + str(data[0]['i']))\n",
        "plt.legend()"
      ],
      "outputs": [
        {
          "output_type": "execute_result",
          "data": {},
          "metadata": {},
          "execution_count": 10
        },
        {
          "output_type": "display_data",
          "data": {},
          "metadata": {}
        }
      ],
      "metadata": {
        "id": "tkl71xXnOnmK",
        "outputId": "7931d174-f601-4909-f0bb-89d5264c5b9d"
      },
      "execution_count": null
    }
  ]
}