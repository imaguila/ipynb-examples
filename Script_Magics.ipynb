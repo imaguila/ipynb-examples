{
  "nbformat": 4,
  "nbformat_minor": 0,
  "metadata": {
    "colab": {
      "provenance": []
    }
  },
  "cells": [
    {
      "cell_type": "markdown",
      "source": [
        "#Running Scripts from IPython"
      ],
      "metadata": {
        "id": "2wVHVG3LRaYQ"
      }
    },
    {
      "cell_type": "markdown",
      "source": [
        "IPython has a `%%script` cell magic, which lets you run a cell in\n",
        "a subprocess of any interpreter on your system, such as: bash, ruby, perl, zsh, R, etc.\n",
        "\n",
        "It can even be a script of your own, which expects input on stdin."
      ],
      "metadata": {
        "id": "psGAwu96RaYT"
      }
    },
    {
      "cell_type": "code",
      "source": [
        "import sys"
      ],
      "outputs": [],
      "metadata": {
        "id": "WCwxZCucRaYU"
      },
      "execution_count": null
    },
    {
      "cell_type": "markdown",
      "source": [
        "##Basic usage"
      ],
      "metadata": {
        "id": "16m9yhtdRaYW"
      }
    },
    {
      "cell_type": "markdown",
      "source": [
        "To use it, simply pass a path or shell command to the program you want to run on the `%%script` line,\n",
        "and the rest of the cell will be run by that script, and stdout/err from the subprocess are captured and displayed."
      ],
      "metadata": {
        "id": "0zu2GAL7RaYW"
      }
    },
    {
      "cell_type": "code",
      "source": [
        "%%script python\n",
        "import sys\n",
        "print 'hello from Python %s' % sys.version"
      ],
      "outputs": [
        {
          "output_type": "stream",
          "text": [
            "hello from Python 2.7.1 (r271:86832, Jul 31 2011, 19:30:53) \n",
            "[GCC 4.2.1 (Based on Apple Inc. build 5658) (LLVM build 2335.15.00)]\n"
          ],
          "name": "stdout"
        }
      ],
      "metadata": {
        "id": "woYNp4fiRaYX",
        "outputId": "0e339d77-40d9-470e-9e16-8d76525344ca"
      },
      "execution_count": null
    },
    {
      "cell_type": "code",
      "source": [
        "%%script python3\n",
        "import sys\n",
        "print('hello from Python: %s' % sys.version)"
      ],
      "outputs": [
        {
          "output_type": "stream",
          "text": [
            "hello from Python: 3.2.3 (v3.2.3:3d0686d90f55, Apr 10 2012, 11:25:50) \n",
            "[GCC 4.2.1 (Apple Inc. build 5666) (dot 3)]\n"
          ],
          "name": "stdout"
        }
      ],
      "metadata": {
        "id": "_IswJr75RaYY",
        "outputId": "e77fd44d-2e49-447b-a715-65eff29d637f"
      },
      "execution_count": null
    },
    {
      "cell_type": "markdown",
      "source": [
        "IPython also creates aliases for a few common interpreters, such as bash, ruby, perl, etc.\n",
        "\n",
        "These are all equivalent to `%%script <name>`"
      ],
      "metadata": {
        "id": "YW8fFUwlRaYZ"
      }
    },
    {
      "cell_type": "code",
      "source": [
        "%%ruby\n",
        "puts \"Hello from Ruby #{RUBY_VERSION}\""
      ],
      "outputs": [
        {
          "output_type": "stream",
          "text": [
            "Hello from Ruby 1.8.7\n"
          ],
          "name": "stdout"
        }
      ],
      "metadata": {
        "id": "w-XXbELBRaYZ",
        "outputId": "58fcbcf5-3e59-418f-fa8c-229c54777535"
      },
      "execution_count": null
    },
    {
      "cell_type": "code",
      "source": [
        "%%bash\n",
        "echo \"hello from $BASH\""
      ],
      "outputs": [
        {
          "output_type": "stream",
          "text": [
            "hello from /usr/local/bin/bash\n"
          ],
          "name": "stdout"
        }
      ],
      "metadata": {
        "id": "XpGIllUDRaYa",
        "outputId": "a3fc79e8-d2c1-46f6-b71e-29c5120db96b"
      },
      "execution_count": null
    },
    {
      "cell_type": "markdown",
      "source": [
        "##Capturing output"
      ],
      "metadata": {
        "id": "uW2ryCwvRaYa"
      }
    },
    {
      "cell_type": "markdown",
      "source": [
        "You can also capture stdout/err from these subprocesses into Python variables, instead of letting them go directly to stdout/err"
      ],
      "metadata": {
        "id": "GayYMjMCRaYb"
      }
    },
    {
      "cell_type": "code",
      "source": [
        "%%bash\n",
        "echo \"hi, stdout\"\n",
        "echo \"hello, stderr\" >&2\n"
      ],
      "outputs": [
        {
          "output_type": "stream",
          "text": [
            "hi, stdout\n"
          ],
          "name": "stdout"
        },
        {
          "output_type": "stream",
          "text": [
            "hello, stderr\n"
          ],
          "name": "stderr"
        }
      ],
      "metadata": {
        "id": "qofyVan2RaYb",
        "outputId": "bac2bcd4-c50a-475e-ea8b-9c7be32eaa7c"
      },
      "execution_count": null
    },
    {
      "cell_type": "code",
      "source": [
        "%%bash --out output --err error\n",
        "echo \"hi, stdout\"\n",
        "echo \"hello, stderr\" >&2"
      ],
      "outputs": [],
      "metadata": {
        "id": "cuXV5AFSRaYb"
      },
      "execution_count": null
    },
    {
      "cell_type": "code",
      "source": [
        "print(error)\n",
        "print(output)"
      ],
      "outputs": [
        {
          "output_type": "stream",
          "text": [
            "hello, stderr\n",
            "\n",
            "hi, stdout\n",
            "\n"
          ],
          "name": "stdout"
        }
      ],
      "metadata": {
        "id": "DhGeVkjARaYc",
        "outputId": "cf27bb2f-061f-42b7-dca9-253c011e6248"
      },
      "execution_count": null
    },
    {
      "cell_type": "markdown",
      "source": [
        "##Background Scripts"
      ],
      "metadata": {
        "id": "J6i58Wy7RaYc"
      }
    },
    {
      "cell_type": "markdown",
      "source": [
        "These scripts can be run in the background, by adding the `--bg` flag.\n",
        "\n",
        "When you do this, output is discarded unless you use the `--out/err`\n",
        "flags to store output as above."
      ],
      "metadata": {
        "id": "qMOoL-MvRaYd"
      }
    },
    {
      "cell_type": "code",
      "source": [
        "%%ruby --bg --out ruby_lines\n",
        "for n in 1...10\n",
        "    sleep 1\n",
        "    puts \"line #{n}\"\n",
        "    STDOUT.flush\n",
        "end"
      ],
      "outputs": [
        {
          "output_type": "stream",
          "text": [
            "Starting job # 0 in a separate thread.\n"
          ],
          "name": "stdout"
        }
      ],
      "metadata": {
        "id": "wBsiw8SNRaYd",
        "outputId": "26e57015-0e43-42f9-f128-7f9acbc50bbf"
      },
      "execution_count": null
    },
    {
      "cell_type": "markdown",
      "source": [
        "When you do store output of a background thread, these are the stdout/err *pipes*,\n",
        "rather than the text of the output."
      ],
      "metadata": {
        "id": "AMCIuDOrRaYd"
      }
    },
    {
      "cell_type": "code",
      "source": [
        "ruby_lines"
      ],
      "outputs": [
        {
          "output_type": "execute_result",
          "data": {},
          "execution_count": 10
        }
      ],
      "metadata": {
        "id": "LH66WqdORaYe",
        "outputId": "b81c9ef1-e0d5-4cd9-c882-5202fc1beae4"
      },
      "execution_count": null
    },
    {
      "cell_type": "code",
      "source": [
        "print(ruby_lines.read())"
      ],
      "outputs": [
        {
          "output_type": "stream",
          "text": [
            "line 1\n",
            "line 2\n",
            "line 3\n",
            "line 4\n",
            "line 5\n",
            "line 6\n",
            "line 7\n",
            "line 8\n",
            "line 9\n",
            "\n"
          ],
          "name": "stdout"
        }
      ],
      "metadata": {
        "id": "ji6bL6qtRaYe",
        "outputId": "4f285e04-874f-451c-f03e-c0ef0ed9b230"
      },
      "execution_count": null
    },
    {
      "cell_type": "markdown",
      "source": [
        "##Arguments to subcommand"
      ],
      "metadata": {
        "id": "u3LcStm-RaYf"
      }
    },
    {
      "cell_type": "markdown",
      "source": [
        "You can pass arguments the subcommand as well,\n",
        "such as  this example instructing Python to use integer division from Python 3:"
      ],
      "metadata": {
        "id": "dW6ik29iRaYf"
      }
    },
    {
      "cell_type": "code",
      "source": [
        "%%script python -Qnew\n",
        "print 1/3"
      ],
      "outputs": [
        {
          "output_type": "stream",
          "text": [
            "0.333333333333\n"
          ],
          "name": "stdout"
        }
      ],
      "metadata": {
        "id": "qsEE2wEWRaYf",
        "outputId": "1786c60a-50b3-4f6e-cd69-175182a7b39d"
      },
      "execution_count": null
    },
    {
      "cell_type": "markdown",
      "source": [
        "You can really specify *any* program for `%%script`,\n",
        "for instance here is a 'program' that echos the lines of stdin, with delays between each line."
      ],
      "metadata": {
        "id": "jJrWQF6RRaYg"
      }
    },
    {
      "cell_type": "code",
      "source": [
        "%%script --bg --out bashout bash -c \"while read line; do echo $line; sleep 1; done\"\n",
        "line 1\n",
        "line 2\n",
        "line 3\n",
        "line 4\n",
        "line 5\n"
      ],
      "outputs": [
        {
          "output_type": "stream",
          "text": [
            "Starting job # 2 in a separate thread.\n"
          ],
          "name": "stdout"
        }
      ],
      "metadata": {
        "id": "dzYkOK_GRaYg",
        "outputId": "d09caeb8-cb55-40f9-b440-8db378d2fc74"
      },
      "execution_count": null
    },
    {
      "cell_type": "markdown",
      "source": [
        "Remember, since the output of a background script is just the stdout pipe,\n",
        "you can read it as lines become available:"
      ],
      "metadata": {
        "id": "bI8Da7WkRaYh"
      }
    },
    {
      "cell_type": "code",
      "source": [
        "import time\n",
        "tic = time.time()\n",
        "line = True\n",
        "while True:\n",
        "    line = bashout.readline()\n",
        "    if not line:\n",
        "        break\n",
        "    sys.stdout.write(\"%.1fs: %s\" %(time.time()-tic, line))\n",
        "    sys.stdout.flush()\n"
      ],
      "outputs": [
        {
          "output_type": "stream",
          "text": [
            "0.0s: line 1\n"
          ],
          "name": "stdout"
        },
        {
          "output_type": "stream",
          "text": [
            "1.0s: line 2\n"
          ],
          "name": "stdout"
        },
        {
          "output_type": "stream",
          "text": [
            "2.0s: line 3\n"
          ],
          "name": "stdout"
        },
        {
          "output_type": "stream",
          "text": [
            "3.0s: line 4\n"
          ],
          "name": "stdout"
        },
        {
          "output_type": "stream",
          "text": [
            "4.0s: line 5\n"
          ],
          "name": "stdout"
        }
      ],
      "metadata": {
        "id": "gC-JG7h4RaYh",
        "outputId": "f0a72a6a-3d1f-4319-ef4d-a4ecd8423695"
      },
      "execution_count": null
    },
    {
      "cell_type": "markdown",
      "source": [
        "##Configuring the default ScriptMagics"
      ],
      "metadata": {
        "id": "ox6CVaJ6RaYi"
      }
    },
    {
      "cell_type": "markdown",
      "source": [
        "The list of aliased script magics is configurable.\n",
        "\n",
        "The default is to pick from a few common interpreters, and use them if found, but you can specify your own in ipython_config.py:\n",
        "\n",
        "    c.ScriptMagics.scripts = ['R', 'pypy', 'myprogram']\n",
        "\n",
        "And if any of these programs do not apear on your default PATH, then you would also need to specify their location with:\n",
        "\n",
        "    c.ScriptMagics.script_paths = {'myprogram': '/opt/path/to/myprogram'}"
      ],
      "metadata": {
        "id": "keNeygt7RaYi"
      }
    }
  ]
}