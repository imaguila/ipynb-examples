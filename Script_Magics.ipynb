{
  "cells": [
    {
      "attachments": {},
      "cell_type": "markdown",
      "metadata": {
        "id": "2wVHVG3LRaYQ"
      },
      "source": [
        "# Running Scripts from IPython"
      ]
    },
    {
      "cell_type": "markdown",
      "metadata": {
        "id": "psGAwu96RaYT"
      },
      "source": [
        "IPython has a `%%script` cell magic, which lets you run a cell in\n",
        "a subprocess of any interpreter on your system, such as: bash, ruby, perl, zsh, R, etc.\n",
        "\n",
        "It can even be a script of your own, which expects input on stdin."
      ]
    },
    {
      "cell_type": "code",
      "execution_count": null,
      "metadata": {
        "id": "WCwxZCucRaYU"
      },
      "outputs": [],
      "source": [
        "import sys"
      ]
    },
    {
      "attachments": {},
      "cell_type": "markdown",
      "metadata": {
        "id": "16m9yhtdRaYW"
      },
      "source": [
        "## Basic usage"
      ]
    },
    {
      "cell_type": "markdown",
      "metadata": {
        "id": "0zu2GAL7RaYW"
      },
      "source": [
        "To use it, simply pass a path or shell command to the program you want to run on the `%%script` line,\n",
        "and the rest of the cell will be run by that script, and stdout/err from the subprocess are captured and displayed."
      ]
    },
    {
      "cell_type": "code",
      "execution_count": null,
      "metadata": {
        "id": "woYNp4fiRaYX",
        "outputId": "0e339d77-40d9-470e-9e16-8d76525344ca"
      },
      "outputs": [
        {
          "name": "stdout",
          "output_type": "stream",
          "text": [
            "hello from Python 2.7.1 (r271:86832, Jul 31 2011, 19:30:53) \n",
            "[GCC 4.2.1 (Based on Apple Inc. build 5658) (LLVM build 2335.15.00)]\n"
          ]
        }
      ],
      "source": [
        "%%script python\n",
        "import sys\n",
        "print 'hello from Python %s' % sys.version"
      ]
    },
    {
      "cell_type": "code",
      "execution_count": null,
      "metadata": {
        "id": "_IswJr75RaYY",
        "outputId": "e77fd44d-2e49-447b-a715-65eff29d637f"
      },
      "outputs": [
        {
          "name": "stdout",
          "output_type": "stream",
          "text": [
            "hello from Python: 3.2.3 (v3.2.3:3d0686d90f55, Apr 10 2012, 11:25:50) \n",
            "[GCC 4.2.1 (Apple Inc. build 5666) (dot 3)]\n"
          ]
        }
      ],
      "source": [
        "%%script python3\n",
        "import sys\n",
        "print('hello from Python: %s' % sys.version)"
      ]
    },
    {
      "cell_type": "markdown",
      "metadata": {
        "id": "YW8fFUwlRaYZ"
      },
      "source": [
        "IPython also creates aliases for a few common interpreters, such as bash, ruby, perl, etc.\n",
        "\n",
        "These are all equivalent to `%%script <name>`"
      ]
    },
    {
      "cell_type": "code",
      "execution_count": null,
      "metadata": {
        "id": "w-XXbELBRaYZ",
        "outputId": "58fcbcf5-3e59-418f-fa8c-229c54777535"
      },
      "outputs": [
        {
          "name": "stdout",
          "output_type": "stream",
          "text": [
            "Hello from Ruby 1.8.7\n"
          ]
        }
      ],
      "source": [
        "%%ruby\n",
        "puts \"Hello from Ruby #{RUBY_VERSION}\""
      ]
    },
    {
      "cell_type": "code",
      "execution_count": null,
      "metadata": {
        "id": "XpGIllUDRaYa",
        "outputId": "a3fc79e8-d2c1-46f6-b71e-29c5120db96b"
      },
      "outputs": [
        {
          "name": "stdout",
          "output_type": "stream",
          "text": [
            "hello from /usr/local/bin/bash\n"
          ]
        }
      ],
      "source": [
        "%%bash\n",
        "echo \"hello from $BASH\""
      ]
    },
    {
      "attachments": {},
      "cell_type": "markdown",
      "metadata": {
        "id": "uW2ryCwvRaYa"
      },
      "source": [
        "## Capturing output"
      ]
    },
    {
      "cell_type": "markdown",
      "metadata": {
        "id": "GayYMjMCRaYb"
      },
      "source": [
        "You can also capture stdout/err from these subprocesses into Python variables, instead of letting them go directly to stdout/err"
      ]
    },
    {
      "cell_type": "code",
      "execution_count": null,
      "metadata": {
        "id": "qofyVan2RaYb",
        "outputId": "bac2bcd4-c50a-475e-ea8b-9c7be32eaa7c"
      },
      "outputs": [
        {
          "name": "stdout",
          "output_type": "stream",
          "text": [
            "hi, stdout\n"
          ]
        },
        {
          "name": "stderr",
          "output_type": "stream",
          "text": [
            "hello, stderr\n"
          ]
        }
      ],
      "source": [
        "%%bash\n",
        "echo \"hi, stdout\"\n",
        "echo \"hello, stderr\" >&2\n"
      ]
    },
    {
      "cell_type": "code",
      "execution_count": null,
      "metadata": {
        "id": "cuXV5AFSRaYb"
      },
      "outputs": [],
      "source": [
        "%%bash --out output --err error\n",
        "echo \"hi, stdout\"\n",
        "echo \"hello, stderr\" >&2"
      ]
    },
    {
      "cell_type": "code",
      "execution_count": null,
      "metadata": {
        "id": "DhGeVkjARaYc",
        "outputId": "cf27bb2f-061f-42b7-dca9-253c011e6248"
      },
      "outputs": [
        {
          "name": "stdout",
          "output_type": "stream",
          "text": [
            "hello, stderr\n",
            "\n",
            "hi, stdout\n",
            "\n"
          ]
        }
      ],
      "source": [
        "print(error)\n",
        "print(output)"
      ]
    },
    {
      "attachments": {},
      "cell_type": "markdown",
      "metadata": {
        "id": "J6i58Wy7RaYc"
      },
      "source": [
        "## Background Scripts"
      ]
    },
    {
      "cell_type": "markdown",
      "metadata": {
        "id": "qMOoL-MvRaYd"
      },
      "source": [
        "These scripts can be run in the background, by adding the `--bg` flag.\n",
        "\n",
        "When you do this, output is discarded unless you use the `--out/err`\n",
        "flags to store output as above."
      ]
    },
    {
      "cell_type": "code",
      "execution_count": null,
      "metadata": {
        "id": "wBsiw8SNRaYd",
        "outputId": "26e57015-0e43-42f9-f128-7f9acbc50bbf"
      },
      "outputs": [
        {
          "name": "stdout",
          "output_type": "stream",
          "text": [
            "Starting job # 0 in a separate thread.\n"
          ]
        }
      ],
      "source": [
        "%%ruby --bg --out ruby_lines\n",
        "for n in 1...10\n",
        "    sleep 1\n",
        "    puts \"line #{n}\"\n",
        "    STDOUT.flush\n",
        "end"
      ]
    },
    {
      "cell_type": "markdown",
      "metadata": {
        "id": "AMCIuDOrRaYd"
      },
      "source": [
        "When you do store output of a background thread, these are the stdout/err *pipes*,\n",
        "rather than the text of the output."
      ]
    },
    {
      "cell_type": "code",
      "execution_count": null,
      "metadata": {
        "id": "LH66WqdORaYe",
        "outputId": "b81c9ef1-e0d5-4cd9-c882-5202fc1beae4"
      },
      "outputs": [
        {
          "data": {},
          "execution_count": 10,
          "metadata": {},
          "output_type": "execute_result"
        }
      ],
      "source": [
        "ruby_lines"
      ]
    },
    {
      "cell_type": "code",
      "execution_count": null,
      "metadata": {
        "id": "ji6bL6qtRaYe",
        "outputId": "4f285e04-874f-451c-f03e-c0ef0ed9b230"
      },
      "outputs": [
        {
          "name": "stdout",
          "output_type": "stream",
          "text": [
            "line 1\n",
            "line 2\n",
            "line 3\n",
            "line 4\n",
            "line 5\n",
            "line 6\n",
            "line 7\n",
            "line 8\n",
            "line 9\n",
            "\n"
          ]
        }
      ],
      "source": [
        "print(ruby_lines.read())"
      ]
    },
    {
      "cell_type": "markdown",
      "metadata": {
        "id": "u3LcStm-RaYf"
      },
      "source": [
        "##Arguments to subcommand"
      ]
    },
    {
      "cell_type": "markdown",
      "metadata": {
        "id": "dW6ik29iRaYf"
      },
      "source": [
        "You can pass arguments the subcommand as well,\n",
        "such as  this example instructing Python to use integer division from Python 3:"
      ]
    },
    {
      "cell_type": "code",
      "execution_count": null,
      "metadata": {
        "id": "qsEE2wEWRaYf",
        "outputId": "1786c60a-50b3-4f6e-cd69-175182a7b39d"
      },
      "outputs": [
        {
          "name": "stdout",
          "output_type": "stream",
          "text": [
            "0.333333333333\n"
          ]
        }
      ],
      "source": [
        "%%script python -Qnew\n",
        "print 1/3"
      ]
    },
    {
      "cell_type": "markdown",
      "metadata": {
        "id": "jJrWQF6RRaYg"
      },
      "source": [
        "You can really specify *any* program for `%%script`,\n",
        "for instance here is a 'program' that echos the lines of stdin, with delays between each line."
      ]
    },
    {
      "cell_type": "code",
      "execution_count": null,
      "metadata": {
        "id": "dzYkOK_GRaYg",
        "outputId": "d09caeb8-cb55-40f9-b440-8db378d2fc74"
      },
      "outputs": [
        {
          "name": "stdout",
          "output_type": "stream",
          "text": [
            "Starting job # 2 in a separate thread.\n"
          ]
        }
      ],
      "source": [
        "%%script --bg --out bashout bash -c \"while read line; do echo $line; sleep 1; done\"\n",
        "line 1\n",
        "line 2\n",
        "line 3\n",
        "line 4\n",
        "line 5\n"
      ]
    },
    {
      "cell_type": "markdown",
      "metadata": {
        "id": "bI8Da7WkRaYh"
      },
      "source": [
        "Remember, since the output of a background script is just the stdout pipe,\n",
        "you can read it as lines become available:"
      ]
    },
    {
      "cell_type": "code",
      "execution_count": null,
      "metadata": {
        "id": "gC-JG7h4RaYh",
        "outputId": "f0a72a6a-3d1f-4319-ef4d-a4ecd8423695"
      },
      "outputs": [
        {
          "name": "stdout",
          "output_type": "stream",
          "text": [
            "0.0s: line 1\n"
          ]
        },
        {
          "name": "stdout",
          "output_type": "stream",
          "text": [
            "1.0s: line 2\n"
          ]
        },
        {
          "name": "stdout",
          "output_type": "stream",
          "text": [
            "2.0s: line 3\n"
          ]
        },
        {
          "name": "stdout",
          "output_type": "stream",
          "text": [
            "3.0s: line 4\n"
          ]
        },
        {
          "name": "stdout",
          "output_type": "stream",
          "text": [
            "4.0s: line 5\n"
          ]
        }
      ],
      "source": [
        "import time\n",
        "tic = time.time()\n",
        "line = True\n",
        "while True:\n",
        "    line = bashout.readline()\n",
        "    if not line:\n",
        "        break\n",
        "    sys.stdout.write(\"%.1fs: %s\" %(time.time()-tic, line))\n",
        "    sys.stdout.flush()\n"
      ]
    },
    {
      "cell_type": "markdown",
      "metadata": {
        "id": "ox6CVaJ6RaYi"
      },
      "source": [
        "##Configuring the default ScriptMagics"
      ]
    },
    {
      "cell_type": "markdown",
      "metadata": {
        "id": "keNeygt7RaYi"
      },
      "source": [
        "The list of aliased script magics is configurable.\n",
        "\n",
        "The default is to pick from a few common interpreters, and use them if found, but you can specify your own in ipython_config.py:\n",
        "\n",
        "    c.ScriptMagics.scripts = ['R', 'pypy', 'myprogram']\n",
        "\n",
        "And if any of these programs do not apear on your default PATH, then you would also need to specify their location with:\n",
        "\n",
        "    c.ScriptMagics.script_paths = {'myprogram': '/opt/path/to/myprogram'}"
      ]
    }
  ],
  "metadata": {
    "colab": {
      "provenance": []
    },
    "language_info": {
      "name": "python"
    }
  },
  "nbformat": 4,
  "nbformat_minor": 0
}
