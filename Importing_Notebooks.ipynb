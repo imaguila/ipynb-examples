{
  "cells": [
    {
      "attachments": {},
      "cell_type": "markdown",
      "metadata": {
        "id": "SSY5K6zxOjA5"
      },
      "source": [
        "# Importing IPython Notebooks as Modules"
      ]
    },
    {
      "cell_type": "markdown",
      "metadata": {
        "id": "ZYXWzS8oOjA7"
      },
      "source": [
        "It is a common problem that people want to import code from IPython Notebooks.\n",
        "This is made difficult by the fact that Notebooks are not plain Python files,\n",
        "and thus cannot be imported by the regular Python machinery.\n",
        "\n",
        "Fortunately, Python provides some fairly sophisticated [hooks](http://www.python.org/dev/peps/pep-0302/) into the import machinery,\n",
        "so we can actually make IPython notebooks importable without much difficulty,\n",
        "and only using public APIs."
      ]
    },
    {
      "cell_type": "code",
      "execution_count": null,
      "metadata": {
        "id": "0vc2n4qoOjA8"
      },
      "outputs": [],
      "source": [
        "import io, os, sys, types"
      ]
    },
    {
      "cell_type": "code",
      "execution_count": null,
      "metadata": {
        "id": "jvWkTJvqOjA8"
      },
      "outputs": [],
      "source": [
        "from IPython.nbformat import current\n",
        "from IPython.core.interactiveshell import InteractiveShell"
      ]
    },
    {
      "cell_type": "markdown",
      "metadata": {
        "id": "1h32zopFOjA9"
      },
      "source": [
        "Import hooks typically take the form of two objects:\n",
        "\n",
        "1. a Module **Loader**, which takes a module name (e.g. `'IPython.display'`), and returns a Module\n",
        "2. a Module **Finder**, which figures out whether a module might exist, and tells Python what **Loader** to use"
      ]
    },
    {
      "cell_type": "code",
      "execution_count": null,
      "metadata": {
        "id": "0wW-YVLXOjA9"
      },
      "outputs": [],
      "source": [
        "def find_notebook(fullname, path=None):\n",
        "    \"\"\"find a notebook, given its fully qualified name and an optional path\n",
        "    \n",
        "    This turns \"foo.bar\" into \"foo/bar.ipynb\"\n",
        "    and tries turning \"Foo_Bar\" into \"Foo Bar\" if Foo_Bar\n",
        "    does not exist.\n",
        "    \"\"\"\n",
        "    name = fullname.rsplit('.', 1)[-1]\n",
        "    if not path:\n",
        "        path = ['']\n",
        "    for d in path:\n",
        "        nb_path = os.path.join(d, name + \".ipynb\")\n",
        "        if os.path.isfile(nb_path):\n",
        "            return nb_path\n",
        "        # let import Notebook_Name find \"Notebook Name.ipynb\"\n",
        "        nb_path = nb_path.replace(\"_\", \" \")\n",
        "        if os.path.isfile(nb_path):\n",
        "            return nb_path\n",
        "            "
      ]
    },
    {
      "attachments": {},
      "cell_type": "markdown",
      "metadata": {
        "id": "3zPkepoqOjA-"
      },
      "source": [
        "## Notebook Loader"
      ]
    },
    {
      "cell_type": "markdown",
      "metadata": {
        "id": "g9aFrUTFOjA-"
      },
      "source": [
        "Here we have our Notebook Loader.\n",
        "It's actually quite simple - once we figure out the filename of the module,\n",
        "all it does is:\n",
        "\n",
        "1. load the notebook document into memory\n",
        "2. create an empty Module\n",
        "3. execute every cell in the Module namespace\n",
        "\n",
        "Since IPython cells can have extended syntax,\n",
        "the IPython transform is applied to turn each of these cells into their pure-Python counterparts before executing them.\n",
        "If all of your notebook cells are pure-Python,\n",
        "this step is unnecessary."
      ]
    },
    {
      "cell_type": "code",
      "execution_count": null,
      "metadata": {
        "id": "F3XT2thJOjA-"
      },
      "outputs": [],
      "source": [
        "class NotebookLoader(object):\n",
        "    \"\"\"Module Loader for IPython Notebooks\"\"\"\n",
        "    def __init__(self, path=None):\n",
        "        self.shell = InteractiveShell.instance()\n",
        "        self.path = path\n",
        "    \n",
        "    def load_module(self, fullname):\n",
        "        \"\"\"import a notebook as a module\"\"\"\n",
        "        path = find_notebook(fullname, self.path)\n",
        "        \n",
        "        print (\"importing IPython notebook from %s\" % path)\n",
        "                                       \n",
        "        # load the notebook object\n",
        "        with io.open(path, 'r', encoding='utf-8') as f:\n",
        "            nb = current.read(f, 'json')\n",
        "        \n",
        "        \n",
        "        # create the module and add it to sys.modules\n",
        "        # if name in sys.modules:\n",
        "        #    return sys.modules[name]\n",
        "        mod = types.ModuleType(fullname)\n",
        "        mod.__file__ = path\n",
        "        mod.__loader__ = self\n",
        "        sys.modules[fullname] = mod\n",
        "        \n",
        "        # extra work to ensure that magics that would affect the user_ns\n",
        "        # actually affect the notebook module's ns\n",
        "        save_user_ns = self.shell.user_ns\n",
        "        self.shell.user_ns = mod.__dict__\n",
        "        \n",
        "        try:\n",
        "          for cell in nb.worksheets[0].cells:\n",
        "            if cell.cell_type == 'code' and cell.language == 'python':\n",
        "                # transform the input to executable Python\n",
        "                code = self.shell.input_transformer_manager.transform_cell(cell.input)\n",
        "                # run the code in themodule\n",
        "                exec code in mod.__dict__\n",
        "        finally:\n",
        "            self.shell.user_ns = save_user_ns\n",
        "        return mod\n"
      ]
    },
    {
      "attachments": {},
      "cell_type": "markdown",
      "metadata": {
        "id": "APRu1klaOjA_"
      },
      "source": [
        "## The Module Finder"
      ]
    },
    {
      "cell_type": "markdown",
      "metadata": {
        "id": "taHueuS-OjA_"
      },
      "source": [
        "The finder is a simple object that tells you whether a name can be imported,\n",
        "and returns the appropriate loader.\n",
        "All this one does is check, when you do:\n",
        "\n",
        "```python\n",
        "import mynotebook\n",
        "```\n",
        "\n",
        "it checks whether `mynotebook.ipynb` exists.\n",
        "If a notebook is found, then it returns a NotebookLoader.\n",
        "\n",
        "Any extra logic is just for resolving paths within packages."
      ]
    },
    {
      "cell_type": "code",
      "execution_count": null,
      "metadata": {
        "id": "dIHVLjKWOjA_"
      },
      "outputs": [],
      "source": [
        "class NotebookFinder(object):\n",
        "    \"\"\"Module finder that locates IPython Notebooks\"\"\"\n",
        "    def __init__(self):\n",
        "        self.loaders = {}\n",
        "    \n",
        "    def find_module(self, fullname, path=None):\n",
        "        nb_path = find_notebook(fullname, path)\n",
        "        if not nb_path:\n",
        "            return\n",
        "        \n",
        "        key = path\n",
        "        if path:\n",
        "            # lists aren't hashable\n",
        "            key = os.path.sep.join(path)\n",
        "        \n",
        "        if key not in self.loaders:\n",
        "            self.loaders[key] = NotebookLoader(path)\n",
        "        return self.loaders[key]\n"
      ]
    },
    {
      "attachments": {},
      "cell_type": "markdown",
      "metadata": {
        "id": "bJzwpneiOjBA"
      },
      "source": [
        "## Register the hook"
      ]
    },
    {
      "cell_type": "markdown",
      "metadata": {
        "id": "f5eY_B6JOjBA"
      },
      "source": [
        "Now we register the `NotebookFinder` with `sys.meta_path`"
      ]
    },
    {
      "cell_type": "code",
      "execution_count": null,
      "metadata": {
        "id": "p2bUp1aKOjBA"
      },
      "outputs": [],
      "source": [
        "sys.meta_path.append(NotebookFinder())"
      ]
    },
    {
      "cell_type": "markdown",
      "metadata": {
        "id": "uHhxzaSfOjBA"
      },
      "source": [
        "After this point, my notebooks should be importable.\n",
        "\n",
        "Let's look at what we have in the CWD:"
      ]
    },
    {
      "cell_type": "code",
      "execution_count": null,
      "metadata": {
        "id": "Ov8g8pdMOjBA",
        "outputId": "ba7a985a-a9ab-4227-a221-750ec9caf3e3"
      },
      "outputs": [
        {
          "name": "stdout",
          "output_type": "stream",
          "text": [
            "__init__.py       __init__.pyc      bs.ipynb          mynotebook.ipynb  \u001b[34mnbs\u001b[m\u001b[m/\r\n"
          ]
        }
      ],
      "source": [
        "ls nbimp"
      ]
    },
    {
      "cell_type": "markdown",
      "metadata": {
        "id": "8-Qp77j4OjBB"
      },
      "source": [
        "So I should be able to `import nbimp.mynotebook`.\n"
      ]
    },
    {
      "attachments": {},
      "cell_type": "markdown",
      "metadata": {
        "id": "CBk-2Wv6OjBB"
      },
      "source": [
        "### Aside: displaying notebooks"
      ]
    },
    {
      "cell_type": "markdown",
      "metadata": {
        "id": "bCqGG4lDOjBB"
      },
      "source": [
        "Here is some simple code to display the contents of a notebook\n",
        "with syntax highlighting, etc."
      ]
    },
    {
      "cell_type": "code",
      "execution_count": null,
      "metadata": {
        "id": "tdAPLqjoOjBC",
        "outputId": "86bbd83c-f626-438a-d482-92f0c9aa30fb"
      },
      "outputs": [
        {
          "data": {},
          "metadata": {},
          "output_type": "display_data"
        }
      ],
      "source": [
        "from pygments import highlight\n",
        "from pygments.lexers import PythonLexer\n",
        "from pygments.formatters import HtmlFormatter\n",
        "\n",
        "from IPython.display import display, HTML\n",
        "\n",
        "formatter = HtmlFormatter()\n",
        "lexer = PythonLexer()\n",
        "\n",
        "# publish the CSS for pygments highlighting\n",
        "display(HTML(\"\"\"\n",
        "<style type='text/css'>\n",
        "%s\n",
        "</style>\n",
        "\"\"\" % formatter.get_style_defs()\n",
        "))"
      ]
    },
    {
      "cell_type": "code",
      "execution_count": null,
      "metadata": {
        "id": "7NROG_RNOjBC",
        "outputId": "8d5d1e8a-8b90-4050-ff8a-4e8c969f31b2"
      },
      "outputs": [
        {
          "data": {},
          "metadata": {},
          "output_type": "display_data"
        }
      ],
      "source": [
        "def show_notebook(fname):\n",
        "    \"\"\"display a short summary of the cells of a notebook\"\"\"\n",
        "    with io.open(fname, 'r', encoding='utf-8') as f:\n",
        "        nb = current.read(f, 'json')\n",
        "    html = []\n",
        "    for cell in nb.worksheets[0].cells:\n",
        "        html.append(\"<h4>%s cell</h4>\" % cell.cell_type)\n",
        "        if cell.cell_type == 'code':\n",
        "            html.append(highlight(cell.input, lexer, formatter))\n",
        "        else:\n",
        "            html.append(\"<pre>%s</pre>\" % cell.source)\n",
        "    display(HTML('\\n'.join(html)))\n",
        "\n",
        "show_notebook(os.path.join(\"nbimp\", \"mynotebook.ipynb\"))"
      ]
    },
    {
      "cell_type": "markdown",
      "metadata": {
        "id": "q6TAx77SOjBC"
      },
      "source": [
        "So my notebook has a heading cell and some code cells,\n",
        "one of which contains some IPython syntax.\n",
        "\n",
        "Let's see what happens when we import it"
      ]
    },
    {
      "cell_type": "code",
      "execution_count": null,
      "metadata": {
        "id": "f_52-onuOjBC",
        "outputId": "128a6d17-6110-4b42-e81b-4d1b328fd9e0"
      },
      "outputs": [
        {
          "name": "stdout",
          "output_type": "stream",
          "text": [
            "importing IPython notebook from nbimp/mynotebook.ipynb\n"
          ]
        }
      ],
      "source": [
        "from nbimp import mynotebook"
      ]
    },
    {
      "cell_type": "markdown",
      "metadata": {
        "id": "iLZII06DOjBC"
      },
      "source": [
        "Hooray, it imported!  Does it work?"
      ]
    },
    {
      "cell_type": "code",
      "execution_count": null,
      "metadata": {
        "id": "JdzXkQ3tOjBD",
        "outputId": "022dddf9-f13f-4269-cdc7-4d490131bafd"
      },
      "outputs": [
        {
          "data": {},
          "execution_count": 11,
          "metadata": {},
          "output_type": "execute_result"
        }
      ],
      "source": [
        "mynotebook.foo()"
      ]
    },
    {
      "cell_type": "markdown",
      "metadata": {
        "id": "9BETiJ-sOjBD"
      },
      "source": [
        "Hooray again!\n",
        "\n",
        "Even the function that contains IPython syntax works:"
      ]
    },
    {
      "cell_type": "code",
      "execution_count": null,
      "metadata": {
        "id": "0TSJrXw5OjBD",
        "outputId": "1dcc21e9-821d-42b1-cfcb-8f239233a677"
      },
      "outputs": [
        {
          "data": {},
          "execution_count": 12,
          "metadata": {},
          "output_type": "execute_result"
        }
      ],
      "source": [
        "mynotebook.has_ip_syntax()"
      ]
    },
    {
      "cell_type": "markdown",
      "metadata": {
        "id": "ITqlqFk0OjBD"
      },
      "source": [
        "##Notebooks in packages"
      ]
    },
    {
      "cell_type": "markdown",
      "metadata": {
        "id": "Oa2nLwbBOjBD"
      },
      "source": [
        "We also have a notebook inside the `nb` package,\n",
        "so let's make sure that works as well."
      ]
    },
    {
      "cell_type": "code",
      "execution_count": null,
      "metadata": {
        "id": "2Bk0NxkQOjBD",
        "outputId": "f076142b-6058-4c2a-ece9-9fff9a929a68"
      },
      "outputs": [
        {
          "name": "stdout",
          "output_type": "stream",
          "text": [
            "__init__.py   __init__.pyc  other.ipynb\r\n"
          ]
        }
      ],
      "source": [
        "ls nbimp/nbs"
      ]
    },
    {
      "cell_type": "markdown",
      "metadata": {
        "id": "OUtVr2usOjBE"
      },
      "source": [
        "Note that the `__init__.py` is necessary for `nb` to be considered a package,\n",
        "just like usual."
      ]
    },
    {
      "cell_type": "code",
      "execution_count": null,
      "metadata": {
        "id": "HY1H_qM8OjBE",
        "outputId": "50bd0fb8-dc48-4553-96ae-64f264efc773"
      },
      "outputs": [
        {
          "data": {},
          "metadata": {},
          "output_type": "display_data"
        }
      ],
      "source": [
        "show_notebook(os.path.join(\"nbimp\", \"nbs\", \"other.ipynb\"))"
      ]
    },
    {
      "cell_type": "code",
      "execution_count": null,
      "metadata": {
        "id": "lrRo6H0lOjBE",
        "outputId": "c85d6136-e524-4cc9-c348-93d505306f7d"
      },
      "outputs": [
        {
          "name": "stdout",
          "output_type": "stream",
          "text": [
            "importing IPython notebook from nbimp/nbs/other.ipynb\n"
          ]
        },
        {
          "data": {},
          "execution_count": 15,
          "metadata": {},
          "output_type": "execute_result"
        }
      ],
      "source": [
        "from nbimp.nbs import other\n",
        "other.bar(5)"
      ]
    },
    {
      "cell_type": "markdown",
      "metadata": {
        "id": "8um1stbqOjBE"
      },
      "source": [
        "So now we have importable notebooks, from both the local directory and inside packages.\n",
        "\n",
        "I can even put a notebook inside IPython, to further demonstrate that this is working properly:"
      ]
    },
    {
      "cell_type": "code",
      "execution_count": null,
      "metadata": {
        "id": "kifRQr7bOjBE"
      },
      "outputs": [],
      "source": [
        "import shutil\n",
        "from IPython.utils.path import get_ipython_package_dir\n",
        "\n",
        "utils = os.path.join(get_ipython_package_dir(), 'utils')\n",
        "shutil.copy(os.path.join(\"nbimp\", \"mynotebook.ipynb\"),\n",
        "            os.path.join(utils, \"inside_ipython.ipynb\")\n",
        ")"
      ]
    },
    {
      "cell_type": "markdown",
      "metadata": {
        "id": "RT0nfyvDOjBE"
      },
      "source": [
        "and import the notebook from `IPython.utils`"
      ]
    },
    {
      "cell_type": "code",
      "execution_count": null,
      "metadata": {
        "id": "WDIfk7JHOjBF",
        "outputId": "f96db77b-2001-4a34-880d-30e45e91dd81"
      },
      "outputs": [
        {
          "name": "stdout",
          "output_type": "stream",
          "text": [
            "importing IPython notebook from /Users/minrk/dev/ip/mine/IPython/utils/inside_ipython.ipynb\n"
          ]
        },
        {
          "data": {},
          "execution_count": 17,
          "metadata": {},
          "output_type": "execute_result"
        }
      ],
      "source": [
        "from IPython.utils import inside_ipython\n",
        "inside_ipython.whatsmyname()"
      ]
    },
    {
      "attachments": {},
      "cell_type": "markdown",
      "metadata": {
        "id": "lSSfO-rxOjBF"
      },
      "source": [
        "## Even Cython magics"
      ]
    },
    {
      "cell_type": "markdown",
      "metadata": {
        "id": "sTJpiYqFOjBF"
      },
      "source": [
        "With a bit of extra magic for handling the IPython interactive namespace during load,\n",
        "even magics like `%%cython` can be used:"
      ]
    },
    {
      "cell_type": "code",
      "execution_count": null,
      "metadata": {
        "id": "g-0WeemLOjBF",
        "outputId": "46956965-d0fb-4fa9-998b-64828f881bf7"
      },
      "outputs": [
        {
          "name": "stdout",
          "output_type": "stream",
          "text": [
            "importing IPython notebook from Cython Magics.ipynb\n",
            "1000000 loops, best of 3: 439 ns per loop"
          ]
        },
        {
          "name": "stdout",
          "output_type": "stream",
          "text": [
            "\n",
            "sin(1)= 0.841470984808\n"
          ]
        }
      ],
      "source": [
        "import Cython_Magics"
      ]
    },
    {
      "cell_type": "code",
      "execution_count": null,
      "metadata": {
        "id": "uYbbivoQOjBF",
        "outputId": "df0acaf1-2f49-45d0-dc90-066f10ab5a56"
      },
      "outputs": [
        {
          "data": {},
          "execution_count": 19,
          "metadata": {},
          "output_type": "execute_result"
        }
      ],
      "source": [
        "Cython_Magics.black_scholes(100.0, 100.0, 1.0, 0.3, 0.03, 0.0, -1)"
      ]
    }
  ],
  "metadata": {
    "colab": {
      "provenance": []
    },
    "language_info": {
      "name": "python"
    }
  },
  "nbformat": 4,
  "nbformat_minor": 0
}
