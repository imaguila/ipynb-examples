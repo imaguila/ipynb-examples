{
  "cells": [
    {
      "cell_type": "markdown",
      "metadata": {
        "id": "RxXzAaz5PoJx"
      },
      "source": [
        "#IPython's Rich Display System"
      ]
    },
    {
      "cell_type": "markdown",
      "metadata": {
        "id": "ZZYrk48RPoJ0"
      },
      "source": [
        "In Python, objects can declare their textual representation using the `__repr__` method.  IPython expands on this idea and allows objects to declare other, richer representations including:\n",
        "\n",
        "* HTML\n",
        "* JSON\n",
        "* PNG\n",
        "* JPEG\n",
        "* SVG\n",
        "* LaTeX\n",
        "\n",
        "A single object can declare some or all of these representations; all are handled by IPython's *display system*. This Notebook shows how you can use this display system to incorporate a broad range of content into your Notebooks."
      ]
    },
    {
      "cell_type": "markdown",
      "metadata": {
        "id": "ZRagUwOoPoJ2"
      },
      "source": [
        "##Basic display imports"
      ]
    },
    {
      "cell_type": "markdown",
      "metadata": {
        "id": "51fPwS7OPoJ3"
      },
      "source": [
        "The `display` function is a general purpose tool for displaying different representations of objects. Think of it as `print` for these rich representations."
      ]
    },
    {
      "cell_type": "code",
      "execution_count": null,
      "metadata": {
        "id": "ND687NAqPoJ3"
      },
      "outputs": [],
      "source": [
        "from IPython.display import display"
      ]
    },
    {
      "cell_type": "markdown",
      "metadata": {
        "id": "6Ob59ashPoJ5"
      },
      "source": [
        "A few points:\n",
        "\n",
        "* Calling `display` on an object will send **all** possible representations to the Notebook.\n",
        "* These representations are stored in the Notebook document.\n",
        "* In general the Notebook will use the richest available representation.\n",
        "\n",
        "If you want to display a particular representation, there are specific functions for that:"
      ]
    },
    {
      "cell_type": "code",
      "execution_count": null,
      "metadata": {
        "id": "lwrR4BChPoJ5"
      },
      "outputs": [],
      "source": [
        "from IPython.display import display_pretty, display_html, display_jpeg, display_png, display_json, display_latex, display_svg"
      ]
    },
    {
      "attachments": {},
      "cell_type": "markdown",
      "metadata": {
        "id": "MHNYFzpAPoJ6"
      },
      "source": [
        "## Images"
      ]
    },
    {
      "cell_type": "markdown",
      "metadata": {
        "id": "MZu7gYeMPoJ6"
      },
      "source": [
        "To work with images (JPEG, PNG) use the `Image` class."
      ]
    },
    {
      "cell_type": "code",
      "execution_count": null,
      "metadata": {
        "id": "5PSfbEpFPoJ6"
      },
      "outputs": [],
      "source": [
        "from IPython.display import Image"
      ]
    },
    {
      "cell_type": "code",
      "execution_count": null,
      "metadata": {
        "id": "8Ca_37XqPoJ7"
      },
      "outputs": [],
      "source": [
        "i = Image(filename='logo/logo.png')"
      ]
    },
    {
      "cell_type": "markdown",
      "metadata": {
        "id": "KSvNoZoNPoJ7"
      },
      "source": [
        "Returning an `Image` object from an expression will automatically display it:"
      ]
    },
    {
      "cell_type": "code",
      "execution_count": null,
      "metadata": {
        "id": "jTUsMNfdPoJ8",
        "outputId": "9a9842b1-785b-4b8a-8efc-9e397e323591"
      },
      "outputs": [
        {
          "data": {},
          "execution_count": 6,
          "metadata": {},
          "output_type": "execute_result"
        }
      ],
      "source": [
        "i"
      ]
    },
    {
      "cell_type": "markdown",
      "metadata": {
        "id": "wCUxtz1KPoJ9"
      },
      "source": [
        "Or you can pass it to `display`:"
      ]
    },
    {
      "cell_type": "code",
      "execution_count": null,
      "metadata": {
        "id": "mOkIuF5sPoJ9",
        "outputId": "23bef577-0ab8-496f-b885-62731bcb9488"
      },
      "outputs": [
        {
          "data": {},
          "metadata": {},
          "output_type": "display_data"
        }
      ],
      "source": [
        "display(i)"
      ]
    },
    {
      "cell_type": "markdown",
      "metadata": {
        "id": "UOfB3VwJPoJ-"
      },
      "source": [
        "An image can also be displayed from raw data or a url"
      ]
    },
    {
      "cell_type": "code",
      "execution_count": null,
      "metadata": {
        "id": "UKbELF5NPoJ-",
        "outputId": "0738cf9a-3ee9-4c4a-ed5d-bdb6e194d03b"
      },
      "outputs": [
        {
          "data": {},
          "execution_count": 2,
          "metadata": {},
          "output_type": "execute_result"
        }
      ],
      "source": [
        "Image(url='http://python.org/images/python-logo.gif')"
      ]
    },
    {
      "cell_type": "markdown",
      "metadata": {
        "id": "9XNDDtYKPoJ_"
      },
      "source": [
        "SVG images are also supported out of the box (since modern browsers do a good job of rendering them):"
      ]
    },
    {
      "cell_type": "code",
      "execution_count": 1,
      "metadata": {
        "id": "GakTrBazPoJ_",
        "outputId": "5af0974a-20f5-4ae1-f041-c05e7abe6b74"
      },
      "outputs": [
        {
          "data": {
            "image/svg+xml": "<svg xmlns:dc=\"http://purl.org/dc/elements/1.1/\" xmlns:cc=\"http://web.resource.org/cc/\" xmlns:rdf=\"http://www.w3.org/1999/02/22-rdf-syntax-ns#\" xmlns:svg=\"http://www.w3.org/2000/svg\" xmlns=\"http://www.w3.org/2000/svg\" xmlns:xlink=\"http://www.w3.org/1999/xlink\" xmlns:sodipodi=\"http://inkscape.sourceforge.net/DTD/sodipodi-0.dtd\" xmlns:inkscape=\"http://www.inkscape.org/namespaces/inkscape\" version=\"1.0\" width=\"388.84pt\" height=\"115.02pt\" id=\"svg2\" sodipodi:version=\"0.32\" inkscape:version=\"0.43\" sodipodi:docname=\"logo-python-generic.svg\" sodipodi:docbase=\"/home/sdeibel\">\n  <metadata id=\"metadata2193\">\n    <rdf:RDF>\n      <cc:Work rdf:about=\"\">\n        <dc:format>image/svg+xml</dc:format>\n        <dc:type rdf:resource=\"http://purl.org/dc/dcmitype/StillImage\"/>\n      </cc:Work>\n    </rdf:RDF>\n  </metadata>\n  <sodipodi:namedview inkscape:window-height=\"543\" inkscape:window-width=\"791\" inkscape:pageshadow=\"2\" inkscape:pageopacity=\"0.0\" borderopacity=\"1.0\" bordercolor=\"#666666\" pagecolor=\"#ffffff\" id=\"base\" inkscape:zoom=\"1.4340089\" inkscape:cx=\"243.02499\" inkscape:cy=\"71.887497\" inkscape:window-x=\"0\" inkscape:window-y=\"0\" inkscape:current-layer=\"svg2\"/>\n  <defs id=\"defs4\">\n    <linearGradient id=\"linearGradient2795\">\n      <stop style=\"stop-color:#b8b8b8;stop-opacity:0.49803922\" offset=\"0\" id=\"stop2797\"/>\n      <stop style=\"stop-color:#7f7f7f;stop-opacity:0\" offset=\"1\" id=\"stop2799\"/>\n    </linearGradient>\n    <linearGradient id=\"linearGradient2787\">\n      <stop style=\"stop-color:#7f7f7f;stop-opacity:0.5\" offset=\"0\" id=\"stop2789\"/>\n      <stop style=\"stop-color:#7f7f7f;stop-opacity:0\" offset=\"1\" id=\"stop2791\"/>\n    </linearGradient>\n    <linearGradient id=\"linearGradient3676\">\n      <stop style=\"stop-color:#b2b2b2;stop-opacity:0.5\" offset=\"0\" id=\"stop3678\"/>\n      <stop style=\"stop-color:#b3b3b3;stop-opacity:0\" offset=\"1\" id=\"stop3680\"/>\n    </linearGradient>\n    <linearGradient id=\"linearGradient3236\">\n      <stop style=\"stop-color:#f4f4f4;stop-opacity:1\" offset=\"0\" id=\"stop3244\"/>\n      <stop style=\"stop-color:#ffffff;stop-opacity:1\" offset=\"1\" id=\"stop3240\"/>\n    </linearGradient>\n    <linearGradient id=\"linearGradient4671\">\n      <stop style=\"stop-color:#ffd43b;stop-opacity:1\" offset=\"0\" id=\"stop4673\"/>\n      <stop style=\"stop-color:#ffe873;stop-opacity:1\" offset=\"1\" id=\"stop4675\"/>\n    </linearGradient>\n    <linearGradient id=\"linearGradient4689\">\n      <stop style=\"stop-color:#5a9fd4;stop-opacity:1\" offset=\"0\" id=\"stop4691\"/>\n      <stop style=\"stop-color:#306998;stop-opacity:1\" offset=\"1\" id=\"stop4693\"/>\n    </linearGradient>\n    <linearGradient x1=\"224.23996\" y1=\"144.75717\" x2=\"-65.308502\" y2=\"144.75717\" id=\"linearGradient2987\" xlink:href=\"#linearGradient4671\" gradientUnits=\"userSpaceOnUse\" gradientTransform=\"translate(100.2702,99.61116)\"/>\n    <linearGradient x1=\"172.94208\" y1=\"77.475983\" x2=\"26.670298\" y2=\"76.313133\" id=\"linearGradient2990\" xlink:href=\"#linearGradient4689\" gradientUnits=\"userSpaceOnUse\" gradientTransform=\"translate(100.2702,99.61116)\"/>\n    <linearGradient x1=\"172.94208\" y1=\"77.475983\" x2=\"26.670298\" y2=\"76.313133\" id=\"linearGradient2587\" xlink:href=\"#linearGradient4689\" gradientUnits=\"userSpaceOnUse\" gradientTransform=\"translate(100.2702,99.61116)\"/>\n    <linearGradient x1=\"224.23996\" y1=\"144.75717\" x2=\"-65.308502\" y2=\"144.75717\" id=\"linearGradient2589\" xlink:href=\"#linearGradient4671\" gradientUnits=\"userSpaceOnUse\" gradientTransform=\"translate(100.2702,99.61116)\"/>\n    <linearGradient x1=\"172.94208\" y1=\"77.475983\" x2=\"26.670298\" y2=\"76.313133\" id=\"linearGradient2248\" xlink:href=\"#linearGradient4689\" gradientUnits=\"userSpaceOnUse\" gradientTransform=\"translate(100.2702,99.61116)\"/>\n    <linearGradient x1=\"224.23996\" y1=\"144.75717\" x2=\"-65.308502\" y2=\"144.75717\" id=\"linearGradient2250\" xlink:href=\"#linearGradient4671\" gradientUnits=\"userSpaceOnUse\" gradientTransform=\"translate(100.2702,99.61116)\"/>\n    <linearGradient x1=\"224.23996\" y1=\"144.75717\" x2=\"-65.308502\" y2=\"144.75717\" id=\"linearGradient2255\" xlink:href=\"#linearGradient4671\" gradientUnits=\"userSpaceOnUse\" gradientTransform=\"matrix(0.562541,0,0,0.567972,-11.5974,-7.60954)\"/>\n    <linearGradient x1=\"172.94208\" y1=\"76.176224\" x2=\"26.670298\" y2=\"76.313133\" id=\"linearGradient2258\" xlink:href=\"#linearGradient4689\" gradientUnits=\"userSpaceOnUse\" gradientTransform=\"matrix(0.562541,0,0,0.567972,-11.5974,-7.60954)\"/>\n    <radialGradient cx=\"61.518883\" cy=\"132.28575\" r=\"29.036913\" fx=\"61.518883\" fy=\"132.28575\" id=\"radialGradient2801\" xlink:href=\"#linearGradient2795\" gradientUnits=\"userSpaceOnUse\" gradientTransform=\"matrix(1,0,0,0.177966,0,108.7434)\"/>\n    <linearGradient x1=\"150.96111\" y1=\"192.35176\" x2=\"112.03144\" y2=\"137.27299\" id=\"linearGradient1475\" xlink:href=\"#linearGradient4671\" gradientUnits=\"userSpaceOnUse\" gradientTransform=\"matrix(0.562541,0,0,0.567972,-9.399749,-5.305317)\"/>\n    <linearGradient x1=\"26.648937\" y1=\"20.603781\" x2=\"135.66525\" y2=\"114.39767\" id=\"linearGradient1478\" xlink:href=\"#linearGradient4689\" gradientUnits=\"userSpaceOnUse\" gradientTransform=\"matrix(0.562541,0,0,0.567972,-9.399749,-5.305317)\"/>\n    <radialGradient cx=\"61.518883\" cy=\"132.28575\" r=\"29.036913\" fx=\"61.518883\" fy=\"132.28575\" id=\"radialGradient1480\" xlink:href=\"#linearGradient2795\" gradientUnits=\"userSpaceOnUse\" gradientTransform=\"matrix(2.382716e-8,-0.296405,1.43676,4.683673e-7,-128.544,150.5202)\"/>\n  </defs>\n  <g id=\"g2303\">\n    <path id=\"path46\" style=\"fill:#646464;fill-opacity:1\" d=\"M 184.61344,61.929363 C 184.61344,47.367213 180.46118,39.891193 172.15666,39.481813 C 168.85239,39.325863 165.62611,39.852203 162.48754,41.070593 C 159.98254,41.967323 158.2963,42.854313 157.40931,43.751043 L 157.40931,78.509163 C 162.72147,81.842673 167.43907,83.392453 171.55234,83.148783 C 180.25649,82.573703 184.61344,75.507063 184.61344,61.929363 z M 194.85763,62.533683 C 194.85763,69.931723 193.12265,76.072393 189.63319,80.955683 C 185.7441,86.482283 180.35396,89.328433 173.46277,89.484393 C 168.26757,89.650093 162.91642,88.022323 157.40931,84.610843 L 157.40931,116.20116 L 148.50047,113.02361 L 148.50047,42.903043 C 149.96253,41.109583 151.84372,39.569543 154.12454,38.263433 C 159.42696,35.173603 165.86978,33.584823 173.45302,33.506853 L 173.57973,33.633563 C 180.50991,33.545833 185.85132,36.391993 189.60395,42.162263 C 193.10315,47.454933 194.85763,54.238913 194.85763,62.533683 z \"/>\n    <path id=\"path48\" style=\"fill:#646464;fill-opacity:1\" d=\"M 249.30487,83.265743 C 249.30487,93.188283 248.31067,100.05998 246.32227,103.88084 C 244.32411,107.7017 240.52275,110.75254 234.90842,113.02361 C 230.35653,114.81707 225.43425,115.79178 220.15133,115.95748 L 218.67952,110.34316 C 224.05016,109.61213 227.83204,108.88109 230.02513,108.15006 C 234.34309,106.688 237.30621,104.44617 238.93397,101.44406 C 240.24008,98.997543 240.88339,94.328693 240.88339,87.418003 L 240.88339,85.098203 C 234.79146,87.866373 228.40711,89.240713 221.73036,89.240713 C 217.34417,89.240713 213.47457,87.866373 210.14107,85.098203 C 206.39818,82.086343 204.52674,78.265483 204.52674,73.635623 L 204.52674,36.557693 L 213.43558,33.506853 L 213.43558,70.828453 C 213.43558,74.815013 214.7222,77.885353 217.29543,80.039463 C 219.86866,82.193563 223.20217,83.226753 227.2862,83.148783 C 231.37023,83.061053 235.74667,81.482023 240.39603,78.392203 L 240.39603,34.851953 L 249.30487,34.851953 L 249.30487,83.265743 z \"/>\n    <path id=\"path50\" style=\"fill:#646464;fill-opacity:1\" d=\"M 284.08249,88.997033 C 283.02006,89.084753 282.04535,89.123743 281.14862,89.123743 C 276.10937,89.123743 272.18129,87.924853 269.37413,85.517323 C 266.57671,83.109793 265.17314,79.786033 265.17314,75.546053 L 265.17314,40.456523 L 259.07146,40.456523 L 259.07146,34.851953 L 265.17314,34.851953 L 265.17314,19.968143 L 274.07223,16.800333 L 274.07223,34.851953 L 284.08249,34.851953 L 284.08249,40.456523 L 274.07223,40.456523 L 274.07223,75.302373 C 274.07223,78.645623 274.96896,81.014163 276.76243,82.398253 C 278.30247,83.538663 280.74899,84.191723 284.08249,84.357423 L 284.08249,88.997033 z \"/>\n    <path id=\"path52\" style=\"fill:#646464;fill-opacity:1\" d=\"M 338.02288,88.266003 L 329.11404,88.266003 L 329.11404,53.878273 C 329.11404,50.379063 328.29528,47.367213 326.66753,44.852463 C 324.78634,42.006313 322.17411,40.583233 318.82112,40.583233 C 314.73708,40.583233 309.6296,42.737343 303.4987,47.045563 L 303.4987,88.266003 L 294.58985,88.266003 L 294.58985,6.0687929 L 303.4987,3.2616329 L 303.4987,40.700203 C 309.191,36.557693 315.40963,34.481563 322.16436,34.481563 C 326.88196,34.481563 330.70282,36.070333 333.62694,39.238143 C 336.56082,42.405943 338.02288,46.353513 338.02288,51.071103 L 338.02288,88.266003 L 338.02288,88.266003 z \"/>\n    <path id=\"path54\" style=\"fill:#646464;fill-opacity:1\" d=\"M 385.37424,60.525783 C 385.37424,54.930953 384.31182,50.310833 382.19669,46.655673 C 379.68195,42.201253 375.77337,39.852203 370.49044,39.608523 C 360.72386,40.173863 355.85032,47.172273 355.85032,60.584263 C 355.85032,66.734683 356.86401,71.871393 358.91089,75.994413 C 361.52312,81.248093 365.44145,83.840823 370.66589,83.753103 C 380.47146,83.675123 385.37424,75.935933 385.37424,60.525783 z M 395.13109,60.584263 C 395.13109,68.547643 393.09395,75.175663 389.02941,80.468333 C 384.5555,86.394563 378.37584,89.367423 370.49044,89.367423 C 362.67328,89.367423 356.58135,86.394563 352.18541,80.468333 C 348.19885,75.175663 346.21044,68.547643 346.21044,60.584263 C 346.21044,53.098503 348.36455,46.801883 352.67276,41.674913 C 357.22466,36.236033 363.20937,33.506853 370.6074,33.506853 C 378.00545,33.506853 384.02914,36.236033 388.66877,41.674913 C 392.97697,46.801883 395.13109,53.098503 395.13109,60.584263 z \"/>\n    <path id=\"path56\" style=\"fill:#646464;fill-opacity:1\" d=\"M 446.20583,88.266003 L 437.29699,88.266003 L 437.29699,51.928853 C 437.29699,47.942293 436.0981,44.832973 433.70032,42.591133 C 431.30253,40.359053 428.10549,39.277123 424.11893,39.364853 C 419.8887,39.442833 415.86314,40.826913 412.04229,43.507363 L 412.04229,88.266003 L 403.13345,88.266003 L 403.13345,42.405943 C 408.26042,38.672813 412.97801,36.236033 417.28621,35.095623 C 421.35076,34.033193 424.93769,33.506853 428.02752,33.506853 C 430.14264,33.506853 432.13104,33.711543 434.00248,34.120913 C 437.50169,34.929923 440.34783,36.430973 442.54093,38.633823 C 444.98744,41.070593 446.20583,43.994723 446.20583,47.415943 L 446.20583,88.266003 z \"/>\n    <path id=\"path1948\" style=\"fill:url(#linearGradient1478);fill-opacity:1\" d=\"M 60.510156,6.3979729 C 55.926503,6.4192712 51.549217,6.8101906 47.697656,7.4917229 C 36.35144,9.4962267 34.291407,13.691825 34.291406,21.429223 L 34.291406,31.647973 L 61.103906,31.647973 L 61.103906,35.054223 L 34.291406,35.054223 L 24.228906,35.054223 C 16.436447,35.054223 9.6131468,39.73794 7.4789058,48.647973 C 5.0170858,58.860939 4.9078907,65.233996 7.4789058,75.897973 C 9.3848341,83.835825 13.936449,89.491721 21.728906,89.491723 L 30.947656,89.491723 L 30.947656,77.241723 C 30.947656,68.391821 38.6048,60.585475 47.697656,60.585473 L 74.478906,60.585473 C 81.933857,60.585473 87.885159,54.447309 87.885156,46.960473 L 87.885156,21.429223 C 87.885156,14.162884 81.755176,8.7044455 74.478906,7.4917229 C 69.872919,6.7249976 65.093809,6.3766746 60.510156,6.3979729 z M 46.010156,14.616723 C 48.779703,14.616723 51.041406,16.915369 51.041406,19.741723 C 51.041404,22.558059 48.779703,24.835473 46.010156,24.835473 C 43.23068,24.835472 40.978906,22.558058 40.978906,19.741723 C 40.978905,16.91537 43.23068,14.616723 46.010156,14.616723 z \"/>\n    <path id=\"path1950\" style=\"fill:url(#linearGradient1475);fill-opacity:1\" d=\"M 91.228906,35.054223 L 91.228906,46.960473 C 91.228906,56.191228 83.403011,63.960472 74.478906,63.960473 L 47.697656,63.960473 C 40.361823,63.960473 34.291407,70.238956 34.291406,77.585473 L 34.291406,103.11672 C 34.291406,110.38306 40.609994,114.65704 47.697656,116.74172 C 56.184987,119.23733 64.323893,119.68835 74.478906,116.74172 C 81.229061,114.78733 87.885159,110.85411 87.885156,103.11672 L 87.885156,92.897973 L 61.103906,92.897973 L 61.103906,89.491723 L 87.885156,89.491723 L 101.29141,89.491723 C 109.08387,89.491723 111.98766,84.056315 114.69765,75.897973 C 117.49698,67.499087 117.37787,59.422197 114.69765,48.647973 C 112.77187,40.890532 109.09378,35.054223 101.29141,35.054223 L 91.228906,35.054223 z M 76.166406,99.710473 C 78.945884,99.710476 81.197656,101.98789 81.197656,104.80422 C 81.197654,107.63057 78.945881,109.92922 76.166406,109.92922 C 73.396856,109.92922 71.135156,107.63057 71.135156,104.80422 C 71.135158,101.98789 73.396853,99.710473 76.166406,99.710473 z \"/>\n    <path id=\"text3004\" style=\"font-size:15.16445827px;font-style:normal;font-weight:normal;line-height:125%;fill:#646464;fill-opacity:1;stroke:none;stroke-width:1px;stroke-linecap:butt;stroke-linejoin:miter;stroke-opacity:1;font-family:Bitstream Vera Sans\" d=\"M 463.5544,26.909383 L 465.11635,26.909383 L 465.11635,17.113143 L 468.81648,17.113143 L 468.81648,15.945483 L 459.85427,15.945483 L 459.85427,17.113143 L 463.5544,17.113143 L 463.5544,26.909383 M 470.20142,26.909383 L 471.53589,26.909383 L 471.53589,17.962353 L 474.4323,26.908259 L 475.91799,26.908259 L 478.93615,17.992683 L 478.93615,26.909383 L 480.39194,26.909383 L 480.39194,15.945483 L 478.46605,15.945483 L 475.16774,25.33834 L 472.35477,15.945483 L 470.20142,15.945483 L 470.20142,26.909383\"/>\n    <path id=\"path1894\" style=\"opacity:0.44382019;fill:url(#radialGradient1480);fill-opacity:1;fill-rule:nonzero;stroke:none;stroke-width:20;stroke-miterlimit:4;stroke-dasharray:none;stroke-opacity:1\" transform=\"matrix(0.73406,0,0,0.809524,16.24958,27.00935)\" d=\"M 110.46717 132.28575 A 48.948284 8.6066771 0 1 1  12.570599,132.28575 A 48.948284 8.6066771 0 1 1  110.46717 132.28575 z\"/>\n  </g>\n</svg>",
            "text/plain": [
              "<IPython.core.display.SVG object>"
            ]
          },
          "execution_count": 1,
          "metadata": {},
          "output_type": "execute_result"
        }
      ],
      "source": [
        "from IPython.display import SVG\n",
        "SVG(filename='python-logo.svg')"
      ]
    },
    {
      "attachments": {},
      "cell_type": "markdown",
      "metadata": {
        "id": "DyRkulxuPoJ_"
      },
      "source": [
        "## Links to local files"
      ]
    },
    {
      "cell_type": "markdown",
      "metadata": {
        "id": "5yXaNhhJPoKA"
      },
      "source": [
        "If we want to create a link to one of them, we can call use the `FileLink` object."
      ]
    },
    {
      "cell_type": "code",
      "execution_count": 2,
      "metadata": {
        "id": "S2nU_x2mPoKA",
        "outputId": "408957df-fc2a-48ed-9342-09bb7d9242b6"
      },
      "outputs": [
        {
          "data": {
            "text/html": [
              "Path (<tt>Part 1 - Running Code.ipynb</tt>) doesn't exist. It may still be in the process of being generated, or you may have the incorrect path."
            ],
            "text/plain": [
              "g:\\Mi unidad\\Actuales\\Docente-MaterialesProgramación\\ipynb-examples\\copiabuena\\Part 1 - Running Code.ipynb"
            ]
          },
          "execution_count": 2,
          "metadata": {},
          "output_type": "execute_result"
        }
      ],
      "source": [
        "from IPython.display import FileLink, FileLinks\n",
        "FileLink('Part 1 - Running Code.ipynb')"
      ]
    },
    {
      "cell_type": "markdown",
      "metadata": {
        "id": "6WsbaNW4PoKA"
      },
      "source": [
        "Alternatively, if we want to link to all of the files in a directory, we can use the `FileLinks` object, passing `'.'` to indicate that we want links generated for the current working directory. Note that if there were other directories under the current directory, `FileLinks` would work in a recursive manner creating links to files in all sub-directories as well."
      ]
    },
    {
      "cell_type": "code",
      "execution_count": null,
      "metadata": {
        "id": "hmDrLDMxPoKB",
        "outputId": "a5d0610f-26ae-4ef4-ba33-81ace1545e3c"
      },
      "outputs": [
        {
          "data": {},
          "execution_count": 3,
          "metadata": {},
          "output_type": "execute_result"
        }
      ],
      "source": [
        "FileLinks('.')"
      ]
    },
    {
      "attachments": {},
      "cell_type": "markdown",
      "metadata": {
        "id": "ylcaSPhAPoKB"
      },
      "source": [
        "### Embedded vs Non-embedded Images"
      ]
    },
    {
      "cell_type": "markdown",
      "metadata": {
        "id": "CdZCKHs_PoKC"
      },
      "source": [
        "By default, image data is embedded in the Notebook document so that the images can be viewed offline. However it is also possible to tell the `Image` class to only store a *link* to the image. Let's see how this works using a webcam at Berkeley."
      ]
    },
    {
      "cell_type": "code",
      "execution_count": null,
      "metadata": {
        "id": "G1SlMkOPPoKC"
      },
      "outputs": [],
      "source": [
        "from IPython.display import Image\n",
        "\n",
        "# by default Image data are embedded\n",
        "Embed      = Image(    'http://scienceview.berkeley.edu/view/images/newview.jpg')\n",
        "\n",
        "# if kwarg `url` is given, the embedding is assumed to be false\n",
        "SoftLinked = Image(url='http://scienceview.berkeley.edu/view/images/newview.jpg')\n",
        "\n",
        "# In each case, embed can be specified explicitly with the `embed` kwarg\n",
        "# ForceEmbed = Image(url='http://scienceview.berkeley.edu/view/images/newview.jpg', embed=True)"
      ]
    },
    {
      "cell_type": "markdown",
      "metadata": {
        "id": "C1AaXWbTPoKC"
      },
      "source": [
        "Here is the embedded version. Note that this image was pulled from the webcam when this code cell was originally run and stored in the Notebook. Unless we rerun this cell, this is not todays image."
      ]
    },
    {
      "cell_type": "code",
      "execution_count": null,
      "metadata": {
        "id": "CNYSRZJuPoKD",
        "outputId": "9f4b4936-90ff-4538-e6ec-74578e3e90b0"
      },
      "outputs": [
        {
          "data": {},
          "execution_count": 5,
          "metadata": {},
          "output_type": "execute_result"
        }
      ],
      "source": [
        "Embed"
      ]
    },
    {
      "cell_type": "markdown",
      "metadata": {
        "id": "PrBbm5yaPoKD"
      },
      "source": [
        "Here is today's image from same webcam at Berkeley, (refreshed every minutes, if you reload the notebook), visible only with an active internet connection, that should be different from the previous one. Notebooks saved with this kind of image will be lighter and always reflect the current version of the source, but the image won't display offline."
      ]
    },
    {
      "cell_type": "code",
      "execution_count": null,
      "metadata": {
        "id": "5_GsysMYPoKD",
        "outputId": "97afdcaa-0396-45f8-ea67-e888f6691664"
      },
      "outputs": [
        {
          "data": {},
          "execution_count": 6,
          "metadata": {},
          "output_type": "execute_result"
        }
      ],
      "source": [
        "SoftLinked"
      ]
    },
    {
      "cell_type": "markdown",
      "metadata": {
        "id": "p7ZgRdZsPoKE"
      },
      "source": [
        "Of course, if you re-run this Notebook, the two images will be the same again."
      ]
    },
    {
      "attachments": {},
      "cell_type": "markdown",
      "metadata": {
        "id": "7h6PyAQCPoKE"
      },
      "source": [
        "## Audio"
      ]
    },
    {
      "cell_type": "markdown",
      "metadata": {
        "id": "LlRI7AWtPoKE"
      },
      "source": [
        "IPython makes it easy to work with sounds interactively. The `Audio` display class allows you to create an audio control that is embedded in the Notebook. The interface is analogous to the interface of the `Image` display class. All audio formats supported by the browser can be used. Note that no single format is presently supported in all browsers."
      ]
    },
    {
      "cell_type": "code",
      "execution_count": null,
      "metadata": {
        "id": "zuSZ_-MOPoKF",
        "outputId": "d6fa7995-39fa-4314-fc25-7643e7b304fa"
      },
      "outputs": [
        {
          "data": {},
          "execution_count": 7,
          "metadata": {},
          "output_type": "execute_result"
        }
      ],
      "source": [
        "from IPython.display import Audio\n",
        "Audio(url=\"http://www.nch.com.au/acm/8k16bitpcm.wav\")"
      ]
    },
    {
      "cell_type": "markdown",
      "metadata": {
        "id": "UhpCj9kDPoKF"
      },
      "source": [
        "A Numpy array can be auralized automatically. The Audio class normalizes and encodes the data and embed the result in the Notebook.\n",
        "\n",
        "For instance, when two sine waves with almost the same frequency are superimposed a phenomena known as [beats](https://en.wikipedia.org/wiki/Beat_%28acoustics%29) occur. This can be auralised as follows"
      ]
    },
    {
      "cell_type": "code",
      "execution_count": null,
      "metadata": {
        "id": "HjsLsVruPoKG",
        "outputId": "ff05aef1-8b0c-4b7a-8668-403235cf5380"
      },
      "outputs": [
        {
          "data": {},
          "execution_count": 8,
          "metadata": {},
          "output_type": "execute_result"
        }
      ],
      "source": [
        "import numpy as np\n",
        "max_time = 3\n",
        "f1 = 220.0\n",
        "f2 = 224.0\n",
        "rate = 8000.0\n",
        "L = 3\n",
        "times = np.linspace(0,L,rate*L)\n",
        "signal = np.sin(2*np.pi*f1*times) + np.sin(2*np.pi*f2*times)\n",
        "\n",
        "Audio(data=signal, rate=rate)"
      ]
    },
    {
      "attachments": {},
      "cell_type": "markdown",
      "metadata": {
        "id": "QVkEYqpHPoKH"
      },
      "source": [
        "## Video"
      ]
    },
    {
      "cell_type": "markdown",
      "metadata": {
        "id": "7LnNmeQ5PoKI"
      },
      "source": [
        "More exotic objects can also be displayed, as long as their representation supports the IPython display protocol.  For example, videos hosted externally on YouTube are easy to load (and writing a similar wrapper for other hosted content is trivial):"
      ]
    },
    {
      "cell_type": "code",
      "execution_count": null,
      "metadata": {
        "id": "HDw7XIvbPoKI",
        "outputId": "ab76673d-ecad-474f-bfea-9aadf125aacd"
      },
      "outputs": [
        {
          "data": {},
          "execution_count": 7,
          "metadata": {},
          "output_type": "execute_result"
        }
      ],
      "source": [
        "from IPython.display import YouTubeVideo\n",
        "# a talk about IPython at Sage Days at U. Washington, Seattle.\n",
        "# Video credit: William Stein.\n",
        "YouTubeVideo('1j_HxD4iLn8')"
      ]
    },
    {
      "cell_type": "markdown",
      "metadata": {
        "id": "hdfr8uckPoKJ"
      },
      "source": [
        "Using the nascent video capabilities of modern browsers, you may also be able to display local\n",
        "videos.  At the moment this doesn't work very well in all browsers, so it may or may not work for you;\n",
        "we will continue testing this and looking for ways to make it more robust.  \n",
        "\n",
        "The following cell loads a local file called  `animation.m4v`, encodes the raw video as base64 for http\n",
        "transport, and uses the HTML5 video tag to load it. On Chrome 15 it works correctly, displaying a control\n",
        "bar at the bottom with a play/pause button and a location slider."
      ]
    },
    {
      "cell_type": "code",
      "execution_count": null,
      "metadata": {
        "id": "Jk14ZXNYPoKJ",
        "outputId": "fd863c57-711c-47bb-ebdb-84ef43340093"
      },
      "outputs": [
        {
          "data": {},
          "execution_count": 8,
          "metadata": {},
          "output_type": "execute_result"
        }
      ],
      "source": [
        "from IPython.display import HTML\n",
        "from base64 import b64encode\n",
        "video = open(\"animation.m4v\", \"rb\").read()\n",
        "video_encoded = b64encode(video)\n",
        "video_tag = '<video controls alt=\"test\" src=\"data:video/x-m4v;base64,{0}\">'.format(video_encoded)\n",
        "HTML(data=video_tag)"
      ]
    },
    {
      "cell_type": "markdown",
      "metadata": {
        "id": "bPVdwfxEPoKK"
      },
      "source": [
        "##HTML"
      ]
    },
    {
      "cell_type": "markdown",
      "metadata": {
        "id": "0LNC4BacPoKK"
      },
      "source": [
        "Python objects can declare HTML representations that will be displayed in the Notebook. If you have some HTML you want to display, simply use the `HTML` class."
      ]
    },
    {
      "cell_type": "code",
      "execution_count": null,
      "metadata": {
        "id": "6EmfIg1lPoKK"
      },
      "outputs": [],
      "source": [
        "from IPython.display import HTML"
      ]
    },
    {
      "cell_type": "code",
      "execution_count": null,
      "metadata": {
        "id": "wgm_2r-uPoKL"
      },
      "outputs": [],
      "source": [
        "s = \"\"\"<table>\n",
        "<tr>\n",
        "<th>Header 1</th>\n",
        "<th>Header 2</th>\n",
        "</tr>\n",
        "<tr>\n",
        "<td>row 1, cell 1</td>\n",
        "<td>row 1, cell 2</td>\n",
        "</tr>\n",
        "<tr>\n",
        "<td>row 2, cell 1</td>\n",
        "<td>row 2, cell 2</td>\n",
        "</tr>\n",
        "</table>\"\"\""
      ]
    },
    {
      "cell_type": "code",
      "execution_count": null,
      "metadata": {
        "id": "SQHQ6b-8PoKL",
        "outputId": "4e7a95db-55be-43a5-c425-edcefa2681a9"
      },
      "outputs": [
        {
          "data": {},
          "execution_count": 5,
          "metadata": {},
          "output_type": "execute_result"
        }
      ],
      "source": [
        "h = HTML(s); h"
      ]
    },
    {
      "cell_type": "markdown",
      "metadata": {
        "id": "VB4zZF_qPoKM"
      },
      "source": [
        "Pandas makes use of this capability to allow `DataFrames` to be represented as HTML tables."
      ]
    },
    {
      "cell_type": "code",
      "execution_count": null,
      "metadata": {
        "id": "S9iFW8rhPoKM"
      },
      "outputs": [],
      "source": [
        "import pandas"
      ]
    },
    {
      "cell_type": "markdown",
      "metadata": {
        "id": "V8G1J-uuPoKM"
      },
      "source": [
        "By default, `DataFrames` will be represented as text; to enable HTML representations we need to set a print option:"
      ]
    },
    {
      "cell_type": "code",
      "execution_count": null,
      "metadata": {
        "id": "IzedHZwLPoKM"
      },
      "outputs": [],
      "source": [
        "pandas.core.format.set_printoptions(notebook_repr_html=True)"
      ]
    },
    {
      "cell_type": "markdown",
      "metadata": {
        "id": "jMnVFDFiPoKN"
      },
      "source": [
        "Here is a small amount of stock data for APPL:"
      ]
    },
    {
      "cell_type": "code",
      "execution_count": null,
      "metadata": {
        "id": "FlIqLrMdPoKN",
        "outputId": "7f909db7-c2ee-4b49-df9a-12b0ab96452d"
      },
      "outputs": [
        {
          "name": "stdout",
          "output_type": "stream",
          "text": [
            "Writing data.csv\n"
          ]
        }
      ],
      "source": [
        "%%file data.csv\n",
        "Date,Open,High,Low,Close,Volume,Adj Close\n",
        "2012-06-01,569.16,590.00,548.50,584.00,14077000,581.50\n",
        "2012-05-01,584.90,596.76,522.18,577.73,18827900,575.26\n",
        "2012-04-02,601.83,644.00,555.00,583.98,28759100,581.48\n",
        "2012-03-01,548.17,621.45,516.22,599.55,26486000,596.99\n",
        "2012-02-01,458.41,547.61,453.98,542.44,22001000,540.12\n",
        "2012-01-03,409.40,458.24,409.00,456.48,12949100,454.53"
      ]
    },
    {
      "cell_type": "markdown",
      "metadata": {
        "id": "Z1bnJe94PoKN"
      },
      "source": [
        "Read this as into a `DataFrame`:"
      ]
    },
    {
      "cell_type": "code",
      "execution_count": null,
      "metadata": {
        "id": "Qei_htbdPoKO"
      },
      "outputs": [],
      "source": [
        "df = pandas.read_csv('data.csv')"
      ]
    },
    {
      "cell_type": "markdown",
      "metadata": {
        "id": "j_k0pzeNPoKO"
      },
      "source": [
        "And view the HTML representation:"
      ]
    },
    {
      "cell_type": "code",
      "execution_count": null,
      "metadata": {
        "id": "Qed0CH7MPoKO",
        "outputId": "36321ac4-6dd2-4bc1-ac62-2198b4dcf1a0"
      },
      "outputs": [
        {
          "data": {},
          "execution_count": 14,
          "metadata": {},
          "output_type": "execute_result"
        }
      ],
      "source": [
        "df"
      ]
    },
    {
      "cell_type": "markdown",
      "metadata": {
        "id": "JG3GlUsBPoKP"
      },
      "source": [
        "##External sites"
      ]
    },
    {
      "cell_type": "markdown",
      "metadata": {
        "id": "O6Eonhm6PoKP"
      },
      "source": [
        "You can even embed an entire page from another site in an iframe; for example this is today's Wikipedia\n",
        "page for mobile users:"
      ]
    },
    {
      "cell_type": "code",
      "execution_count": null,
      "metadata": {
        "id": "Ye7LXkKyPoKP",
        "outputId": "03799d65-1658-44fc-c13e-a9f02678875b"
      },
      "outputs": [
        {
          "data": {},
          "execution_count": 9,
          "metadata": {},
          "output_type": "execute_result"
        }
      ],
      "source": [
        "from IPython.display import HTML\n",
        "HTML('<iframe src=http://en.mobile.wikipedia.org/?useformat=mobile width=700 height=350></iframe>')"
      ]
    },
    {
      "cell_type": "markdown",
      "metadata": {
        "id": "28ySYKtLPoKP"
      },
      "source": [
        "##LaTeX"
      ]
    },
    {
      "cell_type": "markdown",
      "metadata": {
        "id": "j7Ic60RcPoKQ"
      },
      "source": [
        "And we also support the display of mathematical expressions typeset in LaTeX, which is rendered\n",
        "in the browser thanks to the [MathJax library](http://mathjax.org)."
      ]
    },
    {
      "cell_type": "code",
      "execution_count": null,
      "metadata": {
        "id": "dEEBSbrfPoKQ",
        "outputId": "700843ef-0015-4853-8f9f-f387775e3a95"
      },
      "outputs": [
        {
          "data": {},
          "execution_count": 10,
          "metadata": {},
          "output_type": "execute_result"
        }
      ],
      "source": [
        "from IPython.display import Math\n",
        "Math(r'F(k) = \\int_{-\\infty}^{\\infty} f(x) e^{2\\pi i k} dx')"
      ]
    },
    {
      "cell_type": "markdown",
      "metadata": {
        "id": "LlayfD6VPoKR"
      },
      "source": [
        "With the `Latex` class, you have to include the delimiters yourself.  This allows you to use other LaTeX modes such as `eqnarray`:"
      ]
    },
    {
      "cell_type": "code",
      "execution_count": null,
      "metadata": {
        "id": "qj65o42GPoKY",
        "outputId": "c29c7ba7-891e-49bf-b3f9-c00cefd8e717"
      },
      "outputs": [
        {
          "data": {},
          "execution_count": 11,
          "metadata": {},
          "output_type": "execute_result"
        }
      ],
      "source": [
        "from IPython.display import Latex\n",
        "Latex(r\"\"\"\\begin{eqnarray}\n",
        "\\nabla \\times \\vec{\\mathbf{B}} -\\, \\frac1c\\, \\frac{\\partial\\vec{\\mathbf{E}}}{\\partial t} & = \\frac{4\\pi}{c}\\vec{\\mathbf{j}} \\\\\n",
        "\\nabla \\cdot \\vec{\\mathbf{E}} & = 4 \\pi \\rho \\\\\n",
        "\\nabla \\times \\vec{\\mathbf{E}}\\, +\\, \\frac1c\\, \\frac{\\partial\\vec{\\mathbf{B}}}{\\partial t} & = \\vec{\\mathbf{0}} \\\\\n",
        "\\nabla \\cdot \\vec{\\mathbf{B}} & = 0 \n",
        "\\end{eqnarray}\"\"\")"
      ]
    },
    {
      "cell_type": "markdown",
      "metadata": {
        "id": "ARzY_gvdPoKY"
      },
      "source": [
        "Or you can enter latex directly with the `%%latex` cell magic:"
      ]
    },
    {
      "cell_type": "code",
      "execution_count": null,
      "metadata": {
        "id": "vuCaUaEePoKZ",
        "outputId": "dd31ff4c-f2fb-4de4-dac4-bc1f264d66c0"
      },
      "outputs": [
        {
          "data": {},
          "metadata": {},
          "output_type": "display_data"
        }
      ],
      "source": [
        "%%latex\n",
        "\\begin{aligned}\n",
        "\\nabla \\times \\vec{\\mathbf{B}} -\\, \\frac1c\\, \\frac{\\partial\\vec{\\mathbf{E}}}{\\partial t} & = \\frac{4\\pi}{c}\\vec{\\mathbf{j}} \\\\\n",
        "\\nabla \\cdot \\vec{\\mathbf{E}} & = 4 \\pi \\rho \\\\\n",
        "\\nabla \\times \\vec{\\mathbf{E}}\\, +\\, \\frac1c\\, \\frac{\\partial\\vec{\\mathbf{B}}}{\\partial t} & = \\vec{\\mathbf{0}} \\\\\n",
        "\\nabla \\cdot \\vec{\\mathbf{B}} & = 0\n",
        "\\end{aligned}"
      ]
    }
  ],
  "metadata": {
    "colab": {
      "provenance": []
    },
    "kernelspec": {
      "display_name": "Python 3",
      "language": "python",
      "name": "python3"
    },
    "language_info": {
      "codemirror_mode": {
        "name": "ipython",
        "version": 3
      },
      "file_extension": ".py",
      "mimetype": "text/x-python",
      "name": "python",
      "nbconvert_exporter": "python",
      "pygments_lexer": "ipython3",
      "version": "3.10.10"
    }
  },
  "nbformat": 4,
  "nbformat_minor": 0
}
