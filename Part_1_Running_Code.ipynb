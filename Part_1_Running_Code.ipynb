{
  "cells": [
    {
      "attachments": {},
      "cell_type": "markdown",
      "metadata": {
        "id": "4StRIJLFMhGB"
      },
      "source": [
        "# Running Code in the IPython Notebook"
      ]
    },
    {
      "cell_type": "markdown",
      "metadata": {
        "id": "5X5dg4yOMhGD"
      },
      "source": [
        "First and foremost, the IPython Notebook is an interactive environment for writing and running Python code."
      ]
    },
    {
      "attachments": {},
      "cell_type": "markdown",
      "metadata": {
        "id": "M06aeOEVMhGD"
      },
      "source": [
        "## Code cells allow you to enter and run Python code"
      ]
    },
    {
      "cell_type": "markdown",
      "metadata": {
        "id": "5Ca2WLutMhGD"
      },
      "source": [
        "Run a code cell using `Shift-Enter` or pressing the \"Play\" button in the toolbar above:"
      ]
    },
    {
      "cell_type": "code",
      "execution_count": 1,
      "metadata": {
        "id": "Mq5Ol89QMhGE"
      },
      "outputs": [],
      "source": [
        "a = 10"
      ]
    },
    {
      "cell_type": "code",
      "execution_count": null,
      "metadata": {
        "id": "IKdPRxQmMhGF",
        "outputId": "0a8c2a36-abfc-4f9a-a0b4-4f5bfd60cf6f"
      },
      "outputs": [
        {
          "name": "stdout",
          "output_type": "stream",
          "text": [
            "10\n"
          ]
        }
      ],
      "source": [
        "print(a)"
      ]
    },
    {
      "attachments": {},
      "cell_type": "markdown",
      "metadata": {
        "id": "cJmB0ppkMhGF"
      },
      "source": [
        "## Managing the IPython Kernel"
      ]
    },
    {
      "cell_type": "markdown",
      "metadata": {
        "id": "Zd_LGAiUMhGG"
      },
      "source": [
        "Code is run in a separate process called the IPython Kernel.  The Kernel can be interrupted or restarted.  Try running the following cell and then hit the \"Stop\" button in the toolbar above."
      ]
    },
    {
      "cell_type": "code",
      "execution_count": 1,
      "metadata": {
        "id": "HJrrn2neMhGG",
        "outputId": "4f3e9cf2-951e-4e83-f94e-30f37a3831f0"
      },
      "outputs": [],
      "source": [
        "import time\n",
        "time.sleep(10)"
      ]
    },
    {
      "cell_type": "markdown",
      "metadata": {
        "id": "v8yQDircMhGG"
      },
      "source": [
        "If the Kernel dies you will be prompted to restart it. Here we call the low-level system libc.time routine with the wrong argument via\n",
        "ctypes to segfault the Python interpreter:"
      ]
    },
    {
      "cell_type": "code",
      "execution_count": null,
      "metadata": {
        "id": "Y0Eg1OzNMhGH"
      },
      "outputs": [],
      "source": [
        "import sys\n",
        "from ctypes import CDLL\n",
        "# This will crash a Linux or Mac system; equivalent calls can be made on Windows\n",
        "dll = 'dylib' if sys.platform == 'darwin' else 'so.6'\n",
        "libc = CDLL(\"libc.%s\" % dll) \n",
        "libc.time(-1)  # BOOM!!"
      ]
    },
    {
      "attachments": {},
      "cell_type": "markdown",
      "metadata": {
        "id": "1KHj_yw5MhGH"
      },
      "source": [
        "## All of the goodness of IPython works"
      ]
    },
    {
      "cell_type": "markdown",
      "metadata": {
        "id": "mc8YcmCfMhGH"
      },
      "source": [
        "Here are two system aliases:"
      ]
    },
    {
      "cell_type": "code",
      "execution_count": 4,
      "metadata": {
        "id": "sF5pVZQnMhGH",
        "outputId": "6b185a44-6f52-46ce-dde9-38f875136736"
      },
      "outputs": [
        {
          "data": {
            "text/plain": [
              "'g:\\\\Mi unidad\\\\Actuales\\\\Docente-MaterialesProgramación\\\\ipynb-examples'"
            ]
          },
          "execution_count": 4,
          "metadata": {},
          "output_type": "execute_result"
        }
      ],
      "source": [
        "pwd"
      ]
    },
    {
      "cell_type": "code",
      "execution_count": 2,
      "metadata": {
        "id": "sn5cpdujMhGH",
        "outputId": "88511d00-e87a-40b0-99fa-8d36c5db204f"
      },
      "outputs": [
        {
          "name": "stdout",
          "output_type": "stream",
          "text": [
            " El volumen de la unidad G es Google Drive\n",
            " El n�mero de serie del volumen es: 1983-1116\n",
            "\n",
            " Directorio de g:\\Mi unidad\\Actuales\\Docente-MaterialesProgramaci�n\\ipynb-examples\n",
            "\n",
            "30/03/2023  08:50    <DIR>          .\n",
            "30/03/2023  08:29    <DIR>          ..\n",
            "30/10/2013  06:33            11.903 animation.m4v\n",
            "30/03/2023  08:33             5.336 Animations_Using_clear_output.ipynb\n",
            "30/03/2023  08:34            36.764 Cell_Magics.ipynb\n",
            "30/03/2023  08:51    <DIR>          copiabuena\n",
            "30/03/2023  08:34            16.567 Custom_Display_Logic.ipynb\n",
            "30/03/2023  08:34             8.194 Cython_Magics.ipynb\n",
            "30/03/2023  08:35             6.823 Data_Publication_API.ipynb\n",
            "30/03/2023  08:35            10.617 Frontend_Kernel_Model.ipynb\n",
            "30/03/2023  08:35            19.337 Importing_Notebooks.ipynb\n",
            "30/03/2023  08:52    <DIR>          logo\n",
            "30/03/2023  08:36             6.468 Octave_Magic.ipynb\n",
            "30/03/2023  08:44            12.025 Part_1_Running_Code.ipynb\n",
            "30/03/2023  08:36            62.484 Part_2_Basic_Output.ipynb\n",
            "30/03/2023  08:44             8.505 Part_4_Markdown_Cells.ipynb\n",
            "30/03/2023  08:44            39.829 Part_5_Rich_Display_System.ipynb\n",
            "30/03/2023  08:40             4.618 Progress_Bars.ipynb\n",
            "30/10/2013  06:33            15.301 python-logo.svg\n",
            "30/03/2023  08:47            23.931 R_Magics.ipynb\n",
            "30/03/2023  08:29             3.448 README.md\n",
            "30/03/2023  08:47            12.297 Script_Magics.ipynb\n",
            "30/03/2023  08:48            15.201 SymPy_Examples.ipynb\n",
            "30/03/2023  08:48             3.797 Trapezoid_Rule.ipynb\n",
            "30/03/2023  08:48             9.230 Typesetting_Math_Using_MathJax.ipynb\n",
            "              21 archivos        332.675 bytes\n",
            "               4 dirs  202.728.165.376 bytes libres\n"
          ]
        }
      ],
      "source": [
        "ls"
      ]
    },
    {
      "cell_type": "markdown",
      "metadata": {
        "id": "MCj8rO8EMhGI"
      },
      "source": [
        "Any command line program can be run using `!` with string interpolation from Python variables:"
      ]
    },
    {
      "cell_type": "code",
      "execution_count": 5,
      "metadata": {
        "id": "_mKKd1CJMhGI"
      },
      "outputs": [
        {
          "name": "stdout",
          "output_type": "stream",
          "text": [
            "The IPython notebook is great!\n"
          ]
        }
      ],
      "source": [
        "message = 'The IPython notebook is great!'\n",
        "# note: the echo command does not run on Windows, it's a unix command.\n",
        "!echo $message"
      ]
    },
    {
      "cell_type": "markdown",
      "metadata": {
        "id": "1ujJkTwqMhGI"
      },
      "source": [
        "Tab completion works:"
      ]
    },
    {
      "cell_type": "code",
      "execution_count": null,
      "metadata": {
        "id": "u6vRe4oaMhGI"
      },
      "outputs": [],
      "source": [
        "import numpy\n",
        "numpy.random."
      ]
    },
    {
      "cell_type": "markdown",
      "metadata": {
        "id": "3wDqnMaSMhGJ"
      },
      "source": [
        "Tab completion after `(` brings up a tooltip with the docstring:"
      ]
    },
    {
      "cell_type": "code",
      "execution_count": null,
      "metadata": {
        "id": "hG0usJ86MhGJ"
      },
      "outputs": [],
      "source": [
        "numpy.random.rand("
      ]
    },
    {
      "cell_type": "markdown",
      "metadata": {
        "id": "TzlpQIVZMhGJ"
      },
      "source": [
        "Adding `?` opens the docstring in the pager below:"
      ]
    },
    {
      "cell_type": "code",
      "execution_count": null,
      "metadata": {
        "id": "9p_uvya9MhGJ"
      },
      "outputs": [],
      "source": [
        "magic?"
      ]
    },
    {
      "cell_type": "markdown",
      "metadata": {
        "id": "zNpxcQXpMhGK"
      },
      "source": [
        "Exceptions are formatted nicely:"
      ]
    },
    {
      "cell_type": "code",
      "execution_count": null,
      "metadata": {
        "id": "Y0yczJVSMhGK"
      },
      "outputs": [],
      "source": [
        "x = 1\n",
        "y = 4\n",
        "z = y/(1-x)"
      ]
    },
    {
      "attachments": {},
      "cell_type": "markdown",
      "metadata": {
        "id": "3aZZAIiYMhGL"
      },
      "source": [
        "## Working with external code"
      ]
    },
    {
      "cell_type": "markdown",
      "metadata": {
        "id": "cqQWs_wDMhGL"
      },
      "source": [
        "There are a number of ways of getting external code into code cells."
      ]
    },
    {
      "cell_type": "markdown",
      "metadata": {
        "id": "9rUrdZRvMhGL"
      },
      "source": [
        "Pasting code with `>>>` prompts works as expected:"
      ]
    },
    {
      "cell_type": "code",
      "execution_count": 11,
      "metadata": {
        "id": "Hy6Efy0OMhGM",
        "outputId": "636ba7e2-d0c2-4f48-b601-864b18407b14"
      },
      "outputs": [
        {
          "name": "stdout",
          "output_type": "stream",
          "text": [
            "Be careful not to fall off!\n"
          ]
        }
      ],
      "source": [
        ">>> the_world_is_flat = 1\n",
        ">>> if the_world_is_flat:\n",
        "...     print(\"Be careful not to fall off!\")"
      ]
    },
    {
      "cell_type": "markdown",
      "metadata": {
        "id": "PmWo4j61MhGM"
      },
      "source": [
        "The `%load` magic lets you load code from URLs or local files:"
      ]
    },
    {
      "cell_type": "code",
      "execution_count": null,
      "metadata": {
        "id": "GnlyL-2eMhGM"
      },
      "outputs": [],
      "source": [
        "%load?"
      ]
    },
    {
      "cell_type": "code",
      "execution_count": null,
      "metadata": {
        "id": "a8OxQXzQMhGM"
      },
      "outputs": [],
      "source": [
        "%matplotlib inline"
      ]
    },
    {
      "cell_type": "code",
      "execution_count": null,
      "metadata": {
        "id": "OgckErsVMhGM"
      },
      "outputs": [],
      "source": [
        "%load http://matplotlib.sourceforge.net/mpl_examples/pylab_examples/integral_demo.py"
      ]
    },
    {
      "cell_type": "code",
      "execution_count": 12,
      "metadata": {
        "id": "HpJxGTe_MhGN",
        "outputId": "3f1f3b58-f633-4141-82cb-1cee34756d6b"
      },
      "outputs": [
        {
          "data": {
            "image/png": "[encoded data removed]",
            "text/plain": [
              "<Figure size 640x480 with 1 Axes>"
            ]
          },
          "metadata": {},
          "output_type": "display_data"
        }
      ],
      "source": [
        "#!/usr/bin/env python\n",
        "\n",
        "# implement the example graphs/integral from pyx\n",
        "from pylab import *\n",
        "from matplotlib.patches import Polygon\n",
        "\n",
        "def func(x):\n",
        "    return (x-3)*(x-5)*(x-7)+85\n",
        "\n",
        "ax = subplot(111)\n",
        "\n",
        "a, b = 2, 9 # integral area\n",
        "x = arange(0, 10, 0.01)\n",
        "y = func(x)\n",
        "plot(x, y, linewidth=1)\n",
        "\n",
        "# make the shaded region\n",
        "ix = arange(a, b, 0.01)\n",
        "iy = func(ix)\n",
        "verts = [(a,0)] + list(zip(ix,iy)) + [(b,0)]\n",
        "poly = Polygon(verts, facecolor='0.8', edgecolor='k')\n",
        "ax.add_patch(poly)\n",
        "\n",
        "text(0.5 * (a + b), 30,\n",
        "     r\"$\\int_a^b f(x)\\mathrm{d}x$\", horizontalalignment='center',\n",
        "     fontsize=20)\n",
        "\n",
        "axis([0,10, 0, 180])\n",
        "figtext(0.9, 0.05, 'x')\n",
        "figtext(0.1, 0.9, 'y')\n",
        "ax.set_xticks((a,b))\n",
        "ax.set_xticklabels(('a','b'))\n",
        "ax.set_yticks([])\n",
        "show()\n"
      ]
    }
  ],
  "metadata": {
    "colab": {
      "provenance": []
    },
    "gpuClass": "standard",
    "kernelspec": {
      "display_name": "Python 3",
      "language": "python",
      "name": "python3"
    },
    "language_info": {
      "codemirror_mode": {
        "name": "ipython",
        "version": 3
      },
      "file_extension": ".py",
      "mimetype": "text/x-python",
      "name": "python",
      "nbconvert_exporter": "python",
      "pygments_lexer": "ipython3",
      "version": "3.10.10"
    }
  },
  "nbformat": 4,
  "nbformat_minor": 0
}
