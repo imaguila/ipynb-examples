{
  "nbformat": 4,
  "nbformat_minor": 0,
  "metadata": {
    "colab": {
      "provenance": []
    }
  },
  "cells": [
    {
      "cell_type": "markdown",
      "source": [
        "#Simple animations Using clear_output"
      ],
      "metadata": {
        "id": "uzDHgGgROP41"
      }
    },
    {
      "cell_type": "markdown",
      "source": [
        "Sometimes you want to clear the output area in the middle of a calculation.  This can be useful for doing simple animations. In terminals, there is the carriage-return (`'\\r'`) for overwriting a single line, but the notebook frontend can clear the whole output area, not just a single line.\n",
        "\n",
        "To clear output in the Notebook you can use the `clear_output()` function.  If you are clearing the output every frame of an animation, calling `clear_output()` will create noticeable flickering.  You can use `clear_output(wait=True)` to add the *clear_output* call to a queue.  When data becomes available to replace the existing output, the *clear_output* will be called immediately before the new data is added.  This avoids the flickering by not rendering the cleared output to the screen."
      ],
      "metadata": {
        "id": "U87jgY6hOP44"
      }
    },
    {
      "cell_type": "markdown",
      "source": [
        "##Simple example"
      ],
      "metadata": {
        "id": "Mc2jlgbFOP44"
      }
    },
    {
      "cell_type": "markdown",
      "source": [
        "Here we show our progress iterating through a list:"
      ],
      "metadata": {
        "id": "hBUOCuZzOP45"
      }
    },
    {
      "cell_type": "code",
      "source": [
        "import sys\n",
        "import time"
      ],
      "outputs": [],
      "metadata": {
        "id": "XfbuLhodOP45"
      },
      "execution_count": null
    },
    {
      "cell_type": "code",
      "source": [
        "from IPython.display import display, clear_output\n",
        "for i in range(10):\n",
        "    time.sleep(0.25)\n",
        "    clear_output(wait=True)\n",
        "    print(i)\n",
        "    sys.stdout.flush()"
      ],
      "outputs": [
        {
          "output_type": "stream",
          "text": [
            "9\n"
          ],
          "name": "stdout"
        }
      ],
      "metadata": {
        "id": "fUDw_nPwOP45",
        "outputId": "6e11aea7-fbc8-4398-8d63-f5395bf6c03f"
      },
      "execution_count": null
    },
    {
      "cell_type": "markdown",
      "source": [
        "##AsyncResult.wait_interactive"
      ],
      "metadata": {
        "id": "sirgK57lOP46"
      }
    },
    {
      "cell_type": "markdown",
      "source": [
        "The AsyncResult object has a special `wait_interactive()` method, which prints its progress interactively,\n",
        "so you can watch as your parallel computation completes.\n",
        "\n",
        "**This example assumes you have an IPython cluster running, which you can start from the [cluster panel](/#clusters)**"
      ],
      "metadata": {
        "id": "b8qe5v8XOP47"
      }
    },
    {
      "cell_type": "code",
      "source": [
        "from IPython import parallel\n",
        "rc = parallel.Client()\n",
        "view = rc.load_balanced_view()\n",
        "\n",
        "amr = view.map_async(time.sleep, [0.5]*100)\n",
        "\n",
        "amr.wait_interactive()"
      ],
      "outputs": [
        {
          "output_type": "stream",
          "text": [
            " 100/100 tasks finished after    6 s"
          ],
          "name": "stdout"
        },
        {
          "output_type": "stream",
          "text": [
            "\n",
            "done\n"
          ],
          "name": "stdout"
        }
      ],
      "metadata": {
        "id": "tGR_Nf9oOP47",
        "outputId": "f9b71e67-5bf8-42ae-8011-221cb0262a45"
      },
      "execution_count": null
    },
    {
      "cell_type": "markdown",
      "source": [
        "##Matplotlib example"
      ],
      "metadata": {
        "id": "YPbZt6OYOP48"
      }
    },
    {
      "cell_type": "markdown",
      "source": [
        "You can also use `clear_output()` to clear figures and plots."
      ],
      "metadata": {
        "id": "kWzJ2V3YOP48"
      }
    },
    {
      "cell_type": "code",
      "source": [
        "%matplotlib inline\n",
        "import numpy as np\n",
        "import matplotlib.pyplot as plt"
      ],
      "outputs": [],
      "metadata": {
        "id": "q2v7LeF5OP48"
      },
      "execution_count": null
    },
    {
      "cell_type": "code",
      "source": [
        "from scipy.special import jn\n",
        "x = np.linspace(0,5)\n",
        "f, ax = plt.subplots()\n",
        "ax.set_title(\"Bessel functions\")\n",
        "\n",
        "for n in range(1,10):\n",
        "    time.sleep(1)\n",
        "    ax.plot(x, jn(x,n))\n",
        "    clear_output(wait=True)\n",
        "    display(f)\n",
        "\n",
        "# close the figure at the end, so we don't get a duplicate\n",
        "# of the last plot\n",
        "plt.close()"
      ],
      "outputs": [
        {
          "output_type": "display_data",
          "data": {},
          "metadata": {}
        }
      ],
      "metadata": {
        "id": "C3dHkbNaOP48",
        "outputId": "51269676-2e30-44bf-ae9a-2c3bad1d3bbf"
      },
      "execution_count": null
    }
  ]
}