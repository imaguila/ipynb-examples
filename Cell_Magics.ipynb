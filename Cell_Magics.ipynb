{
  "cells": [
    {
      "attachments": {},
      "cell_type": "markdown",
      "metadata": {
        "id": "yarUpzvfOTy8"
      },
      "source": [
        "# The cell magics in IPython"
      ]
    },
    {
      "cell_type": "markdown",
      "metadata": {
        "id": "L3OM4HSZOTy-"
      },
      "source": [
        "IPython has a system of commands we call 'magics' that provide effectively a mini command language that is orthogonal to the syntax of Python and is extensible by the user with new commands.  Magics are meant to be typed interactively, so they use command-line conventions, such as using whitespace for separating arguments, dashes for options and other conventions typical of a command-line environment.\n",
        "\n",
        "Magics come in two kinds:\n",
        "\n",
        "* Line magics: these are commands prepended by one `%` character and whose arguments only extend to the end of the current line.\n",
        "* Cell magics: these use *two* percent characters as a marker (`%%`), and they receive as argument *both* the current line where they are declared and the whole body of the cell.  Note that cell magics can *only* be used as the first line in a cell, and as a general principle they can't be 'stacked' (i.e. you can only use one cell magic per cell).  A few of them, because of how they operate, can be stacked, but that is something you will discover on a case by case basis.\n",
        "\n",
        "The `%lsmagic` magic is used to list all available magics, and it will show both line and cell magics currently defined:"
      ]
    },
    {
      "cell_type": "code",
      "execution_count": null,
      "metadata": {
        "id": "-eoeHfTbOTy_",
        "outputId": "0fd0e871-dd69-4dcf-8dbe-dcfeba16dbb8"
      },
      "outputs": [
        {
          "data": {},
          "execution_count": 1,
          "metadata": {},
          "output_type": "execute_result"
        }
      ],
      "source": [
        "%lsmagic"
      ]
    },
    {
      "cell_type": "markdown",
      "metadata": {
        "id": "HlkX1joXOTzA"
      },
      "source": [
        "Since in the introductory section we already covered the most frequently used line magics, we will focus here on the cell magics, which offer a great amount of power.\n",
        "\n",
        "Let's load matplotlib and numpy so we can use numerics/plotting at will later on."
      ]
    },
    {
      "cell_type": "code",
      "execution_count": null,
      "metadata": {
        "id": "li_h5-5dOTzA"
      },
      "outputs": [],
      "source": [
        "%matplotlib inline\n",
        "import numpy as np\n",
        "import matplotlib.pyplot as plt"
      ]
    },
    {
      "cell_type": "markdown",
      "metadata": {
        "id": "sbwbs618OTzA"
      },
      "source": [
        "##<!--====-->\n",
        ",Some simple cell magics"
      ]
    },
    {
      "cell_type": "markdown",
      "metadata": {
        "id": "gyHX2O1GOTzB"
      },
      "source": [
        "Timing the execution of code; the 'timeit' magic exists both in line and cell form:"
      ]
    },
    {
      "cell_type": "code",
      "execution_count": null,
      "metadata": {
        "id": "s7axyNpCOTzB",
        "outputId": "6c671cbd-62ba-441e-b9f8-47e18845af4e"
      },
      "outputs": [
        {
          "name": "stdout",
          "output_type": "stream",
          "text": [
            "100 loops, best of 3: 6.05 ms per loop\n"
          ]
        }
      ],
      "source": [
        "%timeit np.linalg.eigvals(np.random.rand(100,100))"
      ]
    },
    {
      "cell_type": "code",
      "execution_count": null,
      "metadata": {
        "id": "op1_ocUIOTzC",
        "outputId": "6102143d-6e3e-4ac6-eead-de4adac70d1b"
      },
      "outputs": [
        {
          "name": "stdout",
          "output_type": "stream",
          "text": [
            "100 loops, best of 3: 6.07 ms per loop\n"
          ]
        }
      ],
      "source": [
        "%%timeit a = np.random.rand(100, 100)\n",
        "np.linalg.eigvals(a)"
      ]
    },
    {
      "cell_type": "markdown",
      "metadata": {
        "id": "GNL5FLXEOTzC"
      },
      "source": [
        "The `%%capture` magic can be used to capture the stdout/err of any block of python code, either to discard it (if it's noise to you) or to store it in a variable for later use:"
      ]
    },
    {
      "cell_type": "code",
      "execution_count": null,
      "metadata": {
        "id": "B3_bmqquOTzD"
      },
      "outputs": [],
      "source": [
        "%%capture capt\n",
        "from __future__ import print_function\n",
        "import sys\n",
        "print('Hello stdout')\n",
        "print('and stderr', file=sys.stderr)"
      ]
    },
    {
      "cell_type": "code",
      "execution_count": null,
      "metadata": {
        "id": "TAeMCfrjOTzD",
        "outputId": "c7940528-8e14-4f2f-e300-803184e29a01"
      },
      "outputs": [
        {
          "data": {},
          "execution_count": 6,
          "metadata": {},
          "output_type": "execute_result"
        }
      ],
      "source": [
        "capt.stdout, capt.stderr"
      ]
    },
    {
      "cell_type": "code",
      "execution_count": null,
      "metadata": {
        "id": "7rucFJshOTzE",
        "outputId": "1bbe51c1-24cc-4c22-f5ac-9e6e09882799"
      },
      "outputs": [
        {
          "name": "stdout",
          "output_type": "stream",
          "text": [
            "Hello stdout\n"
          ]
        },
        {
          "name": "stderr",
          "output_type": "stream",
          "text": [
            "and stderr\n"
          ]
        }
      ],
      "source": [
        "capt.show()"
      ]
    },
    {
      "cell_type": "markdown",
      "metadata": {
        "id": "8g8-oiv-OTzF"
      },
      "source": [
        "The `%%writefile` magic is a very useful tool that writes the cell contents as a named file:"
      ]
    },
    {
      "cell_type": "code",
      "execution_count": null,
      "metadata": {
        "id": "-F6Dn8IrOTzF",
        "outputId": "cc554a45-cda0-4c0a-9f17-ca890b3953b3"
      },
      "outputs": [
        {
          "name": "stdout",
          "output_type": "stream",
          "text": [
            "Writing foo.py\n"
          ]
        }
      ],
      "source": [
        "%%writefile foo.py\n",
        "print('Hello world')"
      ]
    },
    {
      "cell_type": "code",
      "execution_count": null,
      "metadata": {
        "id": "p7T2h1MPOTzG",
        "outputId": "91aaeefe-3198-4751-c20f-c57a9341c92a"
      },
      "outputs": [
        {
          "name": "stdout",
          "output_type": "stream",
          "text": [
            "Hello world\n"
          ]
        }
      ],
      "source": [
        "%run foo"
      ]
    },
    {
      "cell_type": "markdown",
      "metadata": {
        "id": "aPcNOc6XOTzG"
      },
      "source": [
        "##<!--====-->\n",
        ",Magics for running code under other interpreters"
      ]
    },
    {
      "cell_type": "markdown",
      "metadata": {
        "id": "0TUjZsk3OTzG"
      },
      "source": [
        "IPython has a `%%script` cell magic, which lets you run a cell in\n",
        "a subprocess of any interpreter on your system, such as: bash, ruby, perl, zsh, R, etc.\n",
        "\n",
        "It can even be a script of your own, which expects input on stdin."
      ]
    },
    {
      "cell_type": "markdown",
      "metadata": {
        "id": "fvhPDG-ROTzG"
      },
      "source": [
        "To use it, simply pass a path or shell command to the program you want to run on the `%%script` line,\n",
        "and the rest of the cell will be run by that script, and stdout/err from the subprocess are captured and displayed."
      ]
    },
    {
      "cell_type": "code",
      "execution_count": null,
      "metadata": {
        "id": "qe_k8VslOTzG",
        "outputId": "bc9e091e-f70d-499f-b0c8-1c706820be74"
      },
      "outputs": [
        {
          "name": "stdout",
          "output_type": "stream",
          "text": [
            "hello from Python 2.7.2 (default, Oct 11 2012, 20:14:37) \n",
            "[GCC 4.2.1 Compatible Apple Clang 4.0 (tags/Apple/clang-418.0.60)]\n"
          ]
        }
      ],
      "source": [
        "%%script python\n",
        "import sys\n",
        "print 'hello from Python %s' % sys.version"
      ]
    },
    {
      "cell_type": "code",
      "execution_count": null,
      "metadata": {
        "id": "i3YCkFgdOTzH",
        "outputId": "dbc33a4f-6f60-48de-c5f8-bb4a70cced6d"
      },
      "outputs": [
        {
          "name": "stdout",
          "output_type": "stream",
          "text": [
            "hello from Python: 3.3.1 (v3.3.1:d9893d13c628, Apr  6 2013, 11:07:11) \n",
            "[GCC 4.2.1 (Apple Inc. build 5666) (dot 3)]\n"
          ]
        }
      ],
      "source": [
        "%%script python3\n",
        "import sys\n",
        "print('hello from Python: %s' % sys.version)"
      ]
    },
    {
      "cell_type": "markdown",
      "metadata": {
        "id": "v5DLwjm2OTzH"
      },
      "source": [
        "IPython also creates aliases for a few common interpreters, such as bash, ruby, perl, etc.\n",
        "\n",
        "These are all equivalent to `%%script <name>`"
      ]
    },
    {
      "cell_type": "code",
      "execution_count": null,
      "metadata": {
        "id": "EbdhlPiIOTzH",
        "outputId": "959cade9-4761-40fd-d9d4-05c56f38f6eb"
      },
      "outputs": [
        {
          "name": "stdout",
          "output_type": "stream",
          "text": [
            "Hello from Ruby 1.9.3\n"
          ]
        }
      ],
      "source": [
        "%%ruby\n",
        "puts \"Hello from Ruby #{RUBY_VERSION}\""
      ]
    },
    {
      "cell_type": "code",
      "execution_count": null,
      "metadata": {
        "id": "HJzMWRBLOTzH",
        "outputId": "b9dad1a9-b94e-4961-a706-9e1b3a5dda75"
      },
      "outputs": [
        {
          "name": "stdout",
          "output_type": "stream",
          "text": [
            "hello from /usr/local/bin/bash\n"
          ]
        }
      ],
      "source": [
        "%%bash\n",
        "echo \"hello from $BASH\""
      ]
    },
    {
      "cell_type": "markdown",
      "metadata": {
        "id": "yxwEQEQeOTzI"
      },
      "source": [
        "##Exercise: write your own script that numbers input lines"
      ]
    },
    {
      "cell_type": "markdown",
      "metadata": {
        "id": "wsbEkxjWOTzI"
      },
      "source": [
        "Write a file, called `lnum.py`, such that the following cell works as shown (hint: don't forget about the executable bit!): "
      ]
    },
    {
      "cell_type": "code",
      "execution_count": null,
      "metadata": {
        "id": "Ygs555c0OTzI",
        "outputId": "d629c924-8932-49f6-d06e-85b1d9fee5a5"
      },
      "outputs": [
        {
          "name": "stdout",
          "output_type": "stream",
          "text": [
            "0: my first line\n",
            "1: my second\n",
            "2: more\n",
            "---- END ----\n"
          ]
        }
      ],
      "source": [
        "%%script ./lnum.py\n",
        "my first line\n",
        "my second\n",
        "more"
      ]
    },
    {
      "cell_type": "markdown",
      "metadata": {
        "id": "E6D7uSBPOTzI"
      },
      "source": [
        "##Capturing output"
      ]
    },
    {
      "cell_type": "markdown",
      "metadata": {
        "id": "S-kt-7oSOTzI"
      },
      "source": [
        "You can also capture stdout/err from these subprocesses into Python variables, instead of letting them go directly to stdout/err"
      ]
    },
    {
      "cell_type": "code",
      "execution_count": null,
      "metadata": {
        "id": "6LcYLXs6OTzI",
        "outputId": "f98393d5-e4a8-4795-8538-c2d302fe3432"
      },
      "outputs": [
        {
          "name": "stdout",
          "output_type": "stream",
          "text": [
            "hi, stdout\n"
          ]
        },
        {
          "name": "stderr",
          "output_type": "stream",
          "text": [
            "hello, stderr\n"
          ]
        }
      ],
      "source": [
        "%%bash\n",
        "echo \"hi, stdout\"\n",
        "echo \"hello, stderr\" >&2\n"
      ]
    },
    {
      "cell_type": "code",
      "execution_count": null,
      "metadata": {
        "id": "o7U-kRnkOTzI"
      },
      "outputs": [],
      "source": [
        "%%bash --out output --err error\n",
        "echo \"hi, stdout\"\n",
        "echo \"hello, stderr\" >&2"
      ]
    },
    {
      "cell_type": "code",
      "execution_count": null,
      "metadata": {
        "id": "ZlKLTb6gOTzI",
        "outputId": "def57931-3cca-4001-a859-13ab00e21cbc"
      },
      "outputs": [
        {
          "name": "stdout",
          "output_type": "stream",
          "text": [
            "hello, stderr\n",
            "\n",
            "hi, stdout\n",
            "\n"
          ]
        }
      ],
      "source": [
        "print(error)\n",
        "print(output)"
      ]
    },
    {
      "cell_type": "markdown",
      "metadata": {
        "id": "aQ_9DgJYOTzJ"
      },
      "source": [
        "##Background Scripts"
      ]
    },
    {
      "cell_type": "markdown",
      "metadata": {
        "id": "yTgm1rodOTzJ"
      },
      "source": [
        "These scripts can be run in the background, by adding the `--bg` flag.\n",
        "\n",
        "When you do this, output is discarded unless you use the `--out/err`\n",
        "flags to store output as above."
      ]
    },
    {
      "cell_type": "code",
      "execution_count": null,
      "metadata": {
        "id": "V5P2WONAOTzJ",
        "outputId": "de840520-dedb-4d65-d125-f676ecc8f0d0"
      },
      "outputs": [
        {
          "name": "stdout",
          "output_type": "stream",
          "text": [
            "Starting job # 0 in a separate thread.\n"
          ]
        }
      ],
      "source": [
        "%%ruby --bg --out ruby_lines\n",
        "for n in 1...10\n",
        "    sleep 1\n",
        "    puts \"line #{n}\"\n",
        "    STDOUT.flush\n",
        "end"
      ]
    },
    {
      "cell_type": "markdown",
      "metadata": {
        "id": "Wpyogz7lOTzJ"
      },
      "source": [
        "When you do store output of a background thread, these are the stdout/err *pipes*,\n",
        "rather than the text of the output."
      ]
    },
    {
      "cell_type": "code",
      "execution_count": null,
      "metadata": {
        "id": "TfyR0bgWOTzJ",
        "outputId": "23430de2-3b13-4907-f451-7f47b9ea1246"
      },
      "outputs": [
        {
          "data": {},
          "execution_count": 34,
          "metadata": {},
          "output_type": "execute_result"
        }
      ],
      "source": [
        "ruby_lines"
      ]
    },
    {
      "cell_type": "code",
      "execution_count": null,
      "metadata": {
        "id": "prk2i6HVOTzJ",
        "outputId": "57021665-62b8-4bed-951c-7e1dd1248dd4"
      },
      "outputs": [
        {
          "name": "stdout",
          "output_type": "stream",
          "text": [
            "line 1\n",
            "line 2\n",
            "line 3\n",
            "line 4\n",
            "line 5\n",
            "line 6\n",
            "line 7\n",
            "line 8\n",
            "line 9\n",
            "\n"
          ]
        }
      ],
      "source": [
        "print(ruby_lines.read())"
      ]
    },
    {
      "cell_type": "markdown",
      "metadata": {
        "id": "EvENAOBGOTzK"
      },
      "source": [
        "#Cython Magic Functions Extension"
      ]
    },
    {
      "cell_type": "markdown",
      "metadata": {
        "id": "fWI-pWkLOTzK"
      },
      "source": [
        "##Loading the extension"
      ]
    },
    {
      "cell_type": "markdown",
      "metadata": {
        "id": "zpBb4oCjOTzK"
      },
      "source": [
        "IPtyhon has a `cythonmagic` extension that contains a number of magic functions for working with Cython code. This extension can be loaded using the `%load_ext` magic as follows:"
      ]
    },
    {
      "cell_type": "code",
      "execution_count": null,
      "metadata": {
        "id": "qWwU_lLFOTzK"
      },
      "outputs": [],
      "source": [
        "%load_ext cythonmagic"
      ]
    },
    {
      "cell_type": "markdown",
      "metadata": {
        "id": "l-2v4674OTzK"
      },
      "source": [
        "The `%%cython_pyximport` magic allows you to enter arbitrary Cython code into a cell. That Cython code is written as a `.pyx` file in the current working directory and then imported using `pyximport`.  You have the specify the name of the module that the Code will appear in. All symbols from the module are imported automatically by the magic function."
      ]
    },
    {
      "cell_type": "code",
      "execution_count": null,
      "metadata": {
        "id": "IfGQ9IySOTzK"
      },
      "outputs": [],
      "source": [
        "%%cython_pyximport foo\n",
        "def f(x):\n",
        "    return 4.0*x"
      ]
    },
    {
      "cell_type": "code",
      "execution_count": null,
      "metadata": {
        "id": "suM0eqRGOTzK",
        "outputId": "ef94a52b-6288-4b30-8251-362b0e8ad3df"
      },
      "outputs": [
        {
          "data": {},
          "execution_count": 6,
          "metadata": {},
          "output_type": "execute_result"
        }
      ],
      "source": [
        "f(10)"
      ]
    },
    {
      "cell_type": "markdown",
      "metadata": {
        "id": "EeL8zjwXOTzK"
      },
      "source": [
        "##The %cython magic"
      ]
    },
    {
      "cell_type": "markdown",
      "metadata": {
        "id": "nt73XRRZOTzK"
      },
      "source": [
        "Probably the most important magic is the `%cython` magic.  This is similar to the `%%cython_pyximport` magic, but doesn't require you to specify a module name. Instead, the `%%cython` magic manages everything using temporary files in the `~/.cython/magic` directory.  All of the symbols in the Cython module are imported automatically by the magic.\n",
        "\n",
        "Here is a simple example of a Black-Scholes options pricing algorithm written in Cython:"
      ]
    },
    {
      "cell_type": "code",
      "execution_count": null,
      "metadata": {
        "id": "8wwxqybBOTzL"
      },
      "outputs": [],
      "source": [
        "%%cython\n",
        "cimport cython\n",
        "from libc.math cimport exp, sqrt, pow, log, erf\n",
        "\n",
        "@cython.cdivision(True)\n",
        "cdef double std_norm_cdf(double x) nogil:\n",
        "    return 0.5*(1+erf(x/sqrt(2.0)))\n",
        "\n",
        "@cython.cdivision(True)\n",
        "def black_scholes(double s, double k, double t, double v,\n",
        "                 double rf, double div, double cp):\n",
        "    \"\"\"Price an option using the Black-Scholes model.\n",
        "    \n",
        "    s : initial stock price\n",
        "    k : strike price\n",
        "    t : expiration time\n",
        "    v : volatility\n",
        "    rf : risk-free rate\n",
        "    div : dividend\n",
        "    cp : +1/-1 for call/put\n",
        "    \"\"\"\n",
        "    cdef double d1, d2, optprice\n",
        "    with nogil:\n",
        "        d1 = (log(s/k)+(rf-div+0.5*pow(v,2))*t)/(v*sqrt(t))\n",
        "        d2 = d1 - v*sqrt(t)\n",
        "        optprice = cp*s*exp(-div*t)*std_norm_cdf(cp*d1) - \\\n",
        "            cp*k*exp(-rf*t)*std_norm_cdf(cp*d2)\n",
        "    return optprice"
      ]
    },
    {
      "cell_type": "code",
      "execution_count": null,
      "metadata": {
        "id": "cI6-hDo4OTzL",
        "outputId": "6c24997c-781d-4e36-dbde-1bd1cf9aaa36"
      },
      "outputs": [
        {
          "data": {},
          "execution_count": 8,
          "metadata": {},
          "output_type": "execute_result"
        }
      ],
      "source": [
        "black_scholes(100.0, 100.0, 1.0, 0.3, 0.03, 0.0, -1)"
      ]
    },
    {
      "cell_type": "code",
      "execution_count": null,
      "metadata": {
        "id": "P86npQcTOTzL",
        "outputId": "ebf85a4a-6d71-4663-892b-7df90b69b0e5"
      },
      "outputs": [
        {
          "name": "stdout",
          "output_type": "stream",
          "text": [
            "1000000 loops, best of 3: 366 ns per loop\n"
          ]
        }
      ],
      "source": [
        "%timeit black_scholes(100.0, 100.0, 1.0, 0.3, 0.03, 0.0, -1)"
      ]
    },
    {
      "cell_type": "markdown",
      "metadata": {
        "id": "xDxguEIfOTzL"
      },
      "source": [
        "Cython allows you to specify additional libraries to be linked with your extension, you can do so with the `-l` flag (also spelled `--lib`).  Note that this flag can be passed more than once to specify multiple libraries, such as `-lm -llib2 --lib lib3`.  Here's a simple example of how to access the system math library:"
      ]
    },
    {
      "cell_type": "code",
      "execution_count": null,
      "metadata": {
        "id": "ifMRHvgYOTzL",
        "outputId": "5fb70f75-87d9-4aaf-cfd1-8705db9b5ebb"
      },
      "outputs": [
        {
          "name": "stdout",
          "output_type": "stream",
          "text": [
            "sin(1)= 0.841470984808\n"
          ]
        }
      ],
      "source": [
        "%%cython -lm\n",
        "from libc.math cimport sin\n",
        "print 'sin(1)=', sin(1)"
      ]
    },
    {
      "cell_type": "markdown",
      "metadata": {
        "id": "uwK-KEzlOTzM"
      },
      "source": [
        "You can similarly use the `-I/--include` flag to add include directories to the search path, and `-c/--compile-args` to add extra flags that are passed to Cython via the `extra_compile_args` of the distutils `Extension` class.  Please see [the Cython docs on C library usage](http://docs.cython.org/src/tutorial/clibraries.html) for more details on the use of these flags."
      ]
    },
    {
      "cell_type": "markdown",
      "metadata": {
        "id": "D-pE9_cTOTzM"
      },
      "source": [
        "#Rmagic Functions Extension"
      ]
    },
    {
      "cell_type": "markdown",
      "metadata": {
        "id": "x_AGOMNxOTzM"
      },
      "source": [
        "IPython has an `rmagic` extension that contains a some magic functions for working with R via rpy2. This extension can be loaded using the `%load_ext` magic as follows:"
      ]
    },
    {
      "cell_type": "code",
      "execution_count": null,
      "metadata": {
        "id": "Aqb_dFAwOTzM"
      },
      "outputs": [],
      "source": [
        "%load_ext rmagic"
      ]
    },
    {
      "cell_type": "markdown",
      "metadata": {
        "id": "-UlJPFdaOTzM"
      },
      "source": [
        "A typical use case one imagines is having some numpy arrays, wanting to compute some statistics of interest on these\n",
        " arrays and return the result back to python. Let's suppose we just want to fit a simple linear model to a scatterplot."
      ]
    },
    {
      "cell_type": "code",
      "execution_count": null,
      "metadata": {
        "id": "qw2qDtvhOTzM"
      },
      "outputs": [],
      "source": [
        "%matplotlib inline\n",
        "import numpy as np\n",
        "import matplotlib.pyplot as plt"
      ]
    },
    {
      "cell_type": "code",
      "execution_count": null,
      "metadata": {
        "id": "U2gxAcFNOTzM",
        "outputId": "f3667c92-98da-49a6-aa53-3028048052be"
      },
      "outputs": [
        {
          "data": {},
          "execution_count": 3,
          "metadata": {},
          "output_type": "execute_result"
        },
        {
          "data": {},
          "metadata": {},
          "output_type": "display_data"
        }
      ],
      "source": [
        "X = np.array([0,1,2,3,4])\n",
        "Y = np.array([3,5,4,6,7])\n",
        "plt.scatter(X, Y)"
      ]
    },
    {
      "cell_type": "markdown",
      "metadata": {
        "id": "4ixFLpn7OTzN"
      },
      "source": [
        "We can accomplish this by first pushing variables to R, fitting a model and returning the results. The line magic %Rpush copies its arguments to variables of the same name in rpy2. The %R line magic evaluates the string in rpy2 and returns the results. In this case, the coefficients of a linear model."
      ]
    },
    {
      "cell_type": "code",
      "execution_count": null,
      "metadata": {
        "id": "nnzZKVsIOTzN",
        "outputId": "141ac0c8-6cdb-4fb0-8261-025463b66338"
      },
      "outputs": [
        {
          "data": {},
          "execution_count": 4,
          "metadata": {},
          "output_type": "execute_result"
        }
      ],
      "source": [
        "%Rpush X Y\n",
        "%R lm(Y~X)$coef"
      ]
    },
    {
      "cell_type": "markdown",
      "metadata": {
        "id": "itV3eAH1OTzN"
      },
      "source": [
        "It is also possible to return more than one value with %R."
      ]
    },
    {
      "cell_type": "code",
      "execution_count": null,
      "metadata": {
        "id": "TNjSAf_nOTzN",
        "outputId": "42303802-0033-4f53-e094-338c9bccb040"
      },
      "outputs": [
        {
          "data": {},
          "execution_count": 5,
          "metadata": {},
          "output_type": "execute_result"
        }
      ],
      "source": [
        "%R resid(lm(Y~X)); coef(lm(X~Y))"
      ]
    },
    {
      "cell_type": "markdown",
      "metadata": {
        "id": "1PKRN-XfOTzN"
      },
      "source": [
        "One can also easily capture the results of %R into python objects. Like R, the return value of this multiline expression (multiline in the sense that it is separated by ';') is the final value, which is \n",
        "the *coef(lm(X~Y))*."
      ]
    },
    {
      "cell_type": "markdown",
      "metadata": {
        "id": "Bh8zA2ABOTzN"
      },
      "source": [
        "To pull other variables from R, there are two more line magics, %Rpull and %Rget. Both are useful after some R code has been executed and there are variables\n",
        "in the rpy2 namespace that one would like to retrieve. The main difference is that one\n",
        " returns the value (%Rget), while the other pulls it to self.shell.user_ns (%Rpull). Imagine we've stored the results\n",
        "of some calculation in the variable \"a\" in rpy2's namespace. By using the %R magic, we can obtain these results and\n",
        "store them in b. We can also pull them directly to user_ns with %Rpull. They are both views on the same data."
      ]
    },
    {
      "cell_type": "code",
      "execution_count": null,
      "metadata": {
        "id": "QF3L4nQmOTzO",
        "outputId": "70eff449-c7b1-4bf3-cce1-0904b243fade"
      },
      "outputs": [
        {
          "name": "stdout",
          "output_type": "stream",
          "text": [
            "[-0.2  0.9 -1.   0.1  0.2]\n"
          ]
        }
      ],
      "source": [
        "b = %R a=resid(lm(Y~X))\n",
        "%Rpull a\n",
        "print(a)\n",
        "assert id(b.data) == id(a.data)\n",
        "%R -o a"
      ]
    },
    {
      "cell_type": "markdown",
      "metadata": {
        "id": "89MnyKXTOTzO"
      },
      "source": [
        "##Plotting and capturing output"
      ]
    },
    {
      "cell_type": "markdown",
      "metadata": {
        "id": "MvurZB48OTzO"
      },
      "source": [
        "R's console (i.e. its stdout() connection) is captured by ipython, as are any plots which are published as PNG files like the notebook with arguments --pylab inline. As a call to %R may produce a return value (see above) we must ask what happens to a magic like the one below. The R code specifies that something is published to the notebook. If anything is published to the notebook, that call to %R returns None."
      ]
    },
    {
      "cell_type": "code",
      "execution_count": null,
      "metadata": {
        "id": "byOtffA5OTzO",
        "outputId": "aa904a69-7c11-4c32-cda5-878fa1cebd96"
      },
      "outputs": [
        {
          "data": {},
          "metadata": {},
          "output_type": "display_data"
        },
        {
          "data": {},
          "metadata": {},
          "output_type": "display_data"
        },
        {
          "name": "stdout",
          "output_type": "stream",
          "text": [
            "v1 is: [ 10.]\n",
            "v2 is: [ 10.]\n"
          ]
        }
      ],
      "source": [
        "from __future__ import print_function\n",
        "v1 = %R plot(X,Y); print(summary(lm(Y~X))); vv=mean(X)*mean(Y)\n",
        "print('v1 is:', v1)\n",
        "v2 = %R mean(X)*mean(Y)\n",
        "print('v2 is:', v2)"
      ]
    },
    {
      "cell_type": "markdown",
      "metadata": {
        "id": "LEf8oglUOTzO"
      },
      "source": [
        "##Cell level magic"
      ]
    },
    {
      "cell_type": "markdown",
      "metadata": {
        "id": "301CWulsOTzO"
      },
      "source": [
        "Often, we will want to do more than a simple linear regression model. There may be several lines of R code that we want to \n",
        "use before returning to python. This is the cell-level magic.\n",
        "\n",
        "\n",
        "For the cell level magic, inputs can be passed via the -i or --inputs argument in the line. These variables are copied \n",
        "from the shell namespace to R's namespace using rpy2.robjects.r.assign. It would be nice not to have to copy these into R: rnumpy ( http://bitbucket.org/njs/rnumpy/wiki/API ) has done some work to limit or at least make transparent the number of copies of an array. This seems like a natural thing to try to build on. Arrays can be output from R via the -o or --outputs argument in the line. All other arguments are sent to R's png function, which is the graphics device used to create the plots.\n",
        "\n",
        "We can redo the above calculations in one ipython cell. We might also want to add some output such as a summary\n",
        " from R or perhaps the standard plotting diagnostics of the lm."
      ]
    },
    {
      "cell_type": "code",
      "execution_count": null,
      "metadata": {
        "id": "IABmzph3OTzO",
        "outputId": "6e5b9df2-1e10-4403-e1bf-7d5996b762aa"
      },
      "outputs": [
        {
          "data": {},
          "metadata": {},
          "output_type": "display_data"
        },
        {
          "data": {},
          "metadata": {},
          "output_type": "display_data"
        }
      ],
      "source": [
        "%%R -i X,Y -o XYcoef\n",
        "XYlm = lm(Y~X)\n",
        "XYcoef = coef(XYlm)\n",
        "print(summary(XYlm))\n",
        "par(mfrow=c(2,2))\n",
        "plot(XYlm)"
      ]
    },
    {
      "cell_type": "markdown",
      "metadata": {
        "id": "A14gWCLKOTzO"
      },
      "source": [
        "#octavemagic: Octave inside IPython"
      ]
    },
    {
      "cell_type": "markdown",
      "metadata": {
        "id": "PnuJwmSvOTzP"
      },
      "source": [
        "The `octavemagic` extension provides the ability to interact with Octave.  It depends on the `oct2py` and `h5py` packages,\n",
        "which may be installed using `easy_install`.  It has been closely modeled after the R extension, so many of its names and usage patterns are the same.\n",
        "\n",
        "To enable the extension, load it as follows:"
      ]
    },
    {
      "cell_type": "code",
      "execution_count": null,
      "metadata": {
        "id": "2U5JVfA_OTzP"
      },
      "outputs": [],
      "source": [
        "%load_ext octavemagic"
      ]
    },
    {
      "cell_type": "markdown",
      "metadata": {
        "id": "BcMjXOSvOTzP"
      },
      "source": [
        "##Overview"
      ]
    },
    {
      "cell_type": "markdown",
      "metadata": {
        "id": "iukHaAl1OTzP"
      },
      "source": [
        "Loading the extension enables three magic functions: `%octave`, `%octave_push`, and `%octave_pull`.\n",
        "\n",
        "The first is for executing one or more lines of Octave, while the latter allow moving variables between the Octave and Python workspace.\n",
        "Here you see an example of how to execute a single line of Octave, and how to transfer the generated value back to Python:"
      ]
    },
    {
      "cell_type": "code",
      "execution_count": null,
      "metadata": {
        "id": "x0hy_5_rOTzP",
        "outputId": "7bf1c0d5-2804-46ed-e421-ee452e09268a"
      },
      "outputs": [
        {
          "data": {},
          "execution_count": 110,
          "metadata": {},
          "output_type": "execute_result"
        }
      ],
      "source": [
        "x = %octave [1 2; 3 4];\n",
        "x"
      ]
    },
    {
      "cell_type": "code",
      "execution_count": null,
      "metadata": {
        "id": "uWn4PK_YOTzP",
        "outputId": "9b998c26-f1eb-4228-d83d-fd4645cbe3fb"
      },
      "outputs": [
        {
          "data": {},
          "execution_count": 111,
          "metadata": {},
          "output_type": "execute_result"
        }
      ],
      "source": [
        "a = [1, 2, 3]\n",
        "\n",
        "%octave_push a\n",
        "%octave a = a * 2;\n",
        "%octave_pull a\n",
        "a"
      ]
    },
    {
      "cell_type": "markdown",
      "metadata": {
        "id": "_kyDDnCLOTzP"
      },
      "source": [
        "When using the cell magic, `%%octave` (note the double `%`), multiple lines of Octave can be executed together.  Unlike\n",
        "with the single cell magic, no value is returned, so we use the `-i` and `-o` flags to specify input and output variables."
      ]
    },
    {
      "cell_type": "code",
      "execution_count": null,
      "metadata": {
        "id": "uJID0Y65OTzP"
      },
      "outputs": [],
      "source": [
        "%%octave -i x -o y\n",
        "y = x + 3;"
      ]
    },
    {
      "cell_type": "code",
      "execution_count": null,
      "metadata": {
        "id": "TlRL7nYBOTzQ",
        "outputId": "ea3ad91b-4b85-4fed-ec52-7bab7d2f248f"
      },
      "outputs": [
        {
          "data": {},
          "execution_count": 117,
          "metadata": {},
          "output_type": "execute_result"
        }
      ],
      "source": [
        "y"
      ]
    },
    {
      "cell_type": "markdown",
      "metadata": {
        "id": "NMdkiUSROTzQ"
      },
      "source": [
        "##Plotting"
      ]
    },
    {
      "cell_type": "markdown",
      "metadata": {
        "id": "qa3tstfoOTzQ"
      },
      "source": [
        "Plot output is automatically captured and displayed, and using the `-f` flag you may choose its format (currently, `png` and `svg` are supported)."
      ]
    },
    {
      "cell_type": "code",
      "execution_count": null,
      "metadata": {
        "id": "3XSfZmQKOTzQ",
        "outputId": "c3300355-758f-44c2-8543-8120462fab88"
      },
      "outputs": [
        {
          "data": {},
          "metadata": {},
          "output_type": "display_data"
        },
        {
          "data": {},
          "metadata": {},
          "output_type": "display_data"
        }
      ],
      "source": [
        "%%octave -f svg\n",
        "\n",
        "p = [12 -2.5 -8 -0.1 8];\n",
        "x = 0:0.01:1;\n",
        "\n",
        "polyout(p, 'x')\n",
        "plot(x, polyval(p, x));"
      ]
    },
    {
      "cell_type": "markdown",
      "metadata": {
        "id": "P8TrBfLWOTzQ"
      },
      "source": [
        "The plot size is adjusted using the `-s` flag:"
      ]
    },
    {
      "cell_type": "code",
      "execution_count": null,
      "metadata": {
        "id": "5u8ZW8cROTzQ",
        "outputId": "d4726153-bdd2-44e5-df1c-9eeb804465e5"
      },
      "outputs": [
        {
          "data": {},
          "metadata": {},
          "output_type": "display_data"
        }
      ],
      "source": [
        "%%octave -s 500,500\n",
        "\n",
        "# butterworth filter, order 2, cutoff pi/2 radians\n",
        "b = [0.292893218813452  0.585786437626905  0.292893218813452];\n",
        "a = [1  0  0.171572875253810];\n",
        "freqz(b, a, 32);"
      ]
    },
    {
      "cell_type": "code",
      "execution_count": null,
      "metadata": {
        "id": "0iZUyjSqOTzQ",
        "outputId": "2ef3d7c1-842b-495d-cf52-624d3d6bb467"
      },
      "outputs": [
        {
          "data": {},
          "metadata": {},
          "output_type": "display_data"
        }
      ],
      "source": [
        "%%octave -s 600,200 -f png\n",
        "\n",
        "subplot(121);\n",
        "[x, y] = meshgrid(0:0.1:3);\n",
        "r = sin(x - 0.5).^2 + cos(y - 0.5).^2;\n",
        "surf(x, y, r);\n",
        "\n",
        "subplot(122);\n",
        "sombrero()"
      ]
    }
  ],
  "metadata": {
    "colab": {
      "provenance": []
    },
    "language_info": {
      "name": "python"
    }
  },
  "nbformat": 4,
  "nbformat_minor": 0
}
