{
  "nbformat": 4,
  "nbformat_minor": 0,
  "metadata": {
    "colab": {
      "provenance": []
    }
  },
  "cells": [
    {
      "cell_type": "markdown",
      "source": [
        "#Basic Numerical Integration: the Trapezoid Rule"
      ],
      "metadata": {
        "id": "F201Hy_3RlLM"
      }
    },
    {
      "cell_type": "markdown",
      "source": [
        "A simple illustration of the trapezoid rule for definite integration:\n",
        "\n",
        "$$\n",
        "\\int_{a}^{b} f(x)\\, dx \\approx \\frac{1}{2} \\sum_{k=1}^{N} \\left( x_{k} - x_{k-1} \\right) \\left( f(x_{k}) + f(x_{k-1}) \\right).\n",
        "$$\n",
        "<br>\n",
        "First, we define a simple function and sample it between 0 and 10 at 200 points"
      ],
      "metadata": {
        "id": "tS_hXSBvRlLQ"
      }
    },
    {
      "cell_type": "code",
      "source": [
        "%matplotlib inline\n",
        "import numpy as np\n",
        "import matplotlib.pyplot as plt"
      ],
      "outputs": [],
      "metadata": {
        "id": "ynPSuL5qRlLR"
      },
      "execution_count": null
    },
    {
      "cell_type": "code",
      "source": [
        "def f(x):\n",
        "    return (x-3)*(x-5)*(x-7)+85\n",
        "\n",
        "x = np.linspace(0, 10, 200)\n",
        "y = f(x)"
      ],
      "outputs": [],
      "metadata": {
        "id": "C7MvKDUzRlLT"
      },
      "execution_count": null
    },
    {
      "cell_type": "markdown",
      "source": [
        "Choose a region to integrate over and take only a few points in that region"
      ],
      "metadata": {
        "id": "-Tp9bOSSRlLU"
      }
    },
    {
      "cell_type": "code",
      "source": [
        "a, b = 1, 9\n",
        "xint = x[np.logical_and(x>=a, x<=b)][::30]\n",
        "yint = y[np.logical_and(x>=a, x<=b)][::30]"
      ],
      "outputs": [],
      "metadata": {
        "id": "TGrKt_ceRlLU"
      },
      "execution_count": null
    },
    {
      "cell_type": "markdown",
      "source": [
        "Plot both the function and the area below it in the trapezoid approximation"
      ],
      "metadata": {
        "id": "yUkat-Z8RlLU"
      }
    },
    {
      "cell_type": "code",
      "source": [
        "plt.plot(x, y, lw=2)\n",
        "plt.axis([0, 10, 0, 140])\n",
        "plt.fill_between(xint, 0, yint, facecolor='gray', alpha=0.4)\n",
        "plt.text(0.5 * (a + b), 30,r\"$\\int_a^b f(x)dx$\", horizontalalignment='center', fontsize=20);"
      ],
      "outputs": [
        {
          "output_type": "display_data",
          "data": {},
          "metadata": {}
        }
      ],
      "metadata": {
        "id": "PcJLPLg8RlLV",
        "outputId": "f60c70f6-dae3-47d5-e977-914c359b13cd"
      },
      "execution_count": null
    },
    {
      "cell_type": "markdown",
      "source": [
        "Compute the integral both at high accuracy and with the trapezoid approximation"
      ],
      "metadata": {
        "id": "8BH1j8S8RlLW"
      }
    },
    {
      "cell_type": "code",
      "source": [
        "from __future__ import print_function\n",
        "from scipy.integrate import quad, trapz\n",
        "integral, error = quad(f, 1, 9)\n",
        "print(\"The integral is:\", integral, \"+/-\", error)\n",
        "print(\"The trapezoid approximation with\", len(xint), \"points is:\", trapz(yint, xint))"
      ],
      "outputs": [
        {
          "output_type": "stream",
          "text": [
            "The integral is: 680.0 +/- 7.54951656745e-12\n",
            "The trapezoid approximation with 6 points is: 621.286411141\n"
          ],
          "name": "stdout"
        }
      ],
      "metadata": {
        "id": "0T7mHmb4RlLW",
        "outputId": "c6750a10-0e5b-4b56-b7ac-ddbbb4772a83"
      },
      "execution_count": null
    }
  ]
}