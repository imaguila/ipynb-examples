{
  "cells": [
    {
      "attachments": {},
      "cell_type": "markdown",
      "metadata": {
        "id": "erXAyk8xRVN9"
      },
      "source": [
        "# Using R Within the IPython Notebok"
      ]
    },
    {
      "cell_type": "markdown",
      "metadata": {
        "id": "7fUEHn8GRVOB"
      },
      "source": [
        "Using the `rmagic` extension, users can run R code from within the IPython Notebook. This example Notebook demonstrates this capability. "
      ]
    },
    {
      "cell_type": "code",
      "execution_count": null,
      "metadata": {
        "id": "Gfnhzkr6RVOC"
      },
      "outputs": [],
      "source": [
        "%matplotlib inline"
      ]
    },
    {
      "attachments": {},
      "cell_type": "markdown",
      "metadata": {
        "id": "UESiLwprRVOD"
      },
      "source": [
        "## Line magics"
      ]
    },
    {
      "cell_type": "markdown",
      "metadata": {
        "id": "C569WyumRVOE"
      },
      "source": [
        "IPython has an `rmagic` extension that contains a some magic functions for working with R via rpy2. This extension can be loaded using the `%load_ext` magic as follows:"
      ]
    },
    {
      "cell_type": "code",
      "execution_count": null,
      "metadata": {
        "id": "EC0bihqHRVOE"
      },
      "outputs": [],
      "source": [
        "%load_ext rmagic "
      ]
    },
    {
      "cell_type": "markdown",
      "metadata": {
        "id": "GZ34FnZiRVOF"
      },
      "source": [
        "A typical use case one imagines is having some numpy arrays, wanting to compute some statistics of interest on these\n",
        " arrays and return the result back to python. Let's suppose we just want to fit a simple linear model to a scatterplot."
      ]
    },
    {
      "cell_type": "code",
      "execution_count": null,
      "metadata": {
        "id": "OmvkIXWvRVOF",
        "outputId": "752d9ea3-8539-444b-c086-a0b7ef322507"
      },
      "outputs": [
        {
          "data": {},
          "execution_count": 3,
          "metadata": {},
          "output_type": "execute_result"
        },
        {
          "data": {},
          "metadata": {},
          "output_type": "display_data"
        }
      ],
      "source": [
        "import numpy as np\n",
        "import matplotlib.pyplot as plt\n",
        "X = np.array([0,1,2,3,4])\n",
        "Y = np.array([3,5,4,6,7])\n",
        "plt.scatter(X, Y)"
      ]
    },
    {
      "cell_type": "markdown",
      "metadata": {
        "id": "1FgJmv43RVOH"
      },
      "source": [
        "We can accomplish this by first pushing variables to R, fitting a model and returning the results. The line magic %Rpush copies its arguments to variables of the same name in rpy2. The %R line magic evaluates the string in rpy2 and returns the results. In this case, the coefficients of a linear model."
      ]
    },
    {
      "cell_type": "code",
      "execution_count": null,
      "metadata": {
        "id": "jct8XndRRVOI",
        "outputId": "ae128e89-09e7-42d8-f5d3-26ec034fd971"
      },
      "outputs": [
        {
          "data": {},
          "execution_count": 3,
          "metadata": {},
          "output_type": "execute_result"
        }
      ],
      "source": [
        "%Rpush X Y\n",
        "%R lm(Y~X)$coef"
      ]
    },
    {
      "cell_type": "markdown",
      "metadata": {
        "id": "VfphW1c4RVOJ"
      },
      "source": [
        "We can check that this is correct fairly easily:"
      ]
    },
    {
      "cell_type": "code",
      "execution_count": null,
      "metadata": {
        "id": "xN1b-9ufRVOJ",
        "outputId": "0f2debb3-d943-4715-8b4e-21190e329486"
      },
      "outputs": [
        {
          "data": {},
          "execution_count": 4,
          "metadata": {},
          "output_type": "execute_result"
        }
      ],
      "source": [
        "Xr = X - X.mean(); Yr = Y - Y.mean()\n",
        "slope = (Xr*Yr).sum() / (Xr**2).sum()\n",
        "intercept = Y.mean() - X.mean() * slope\n",
        "(intercept, slope)"
      ]
    },
    {
      "cell_type": "markdown",
      "metadata": {
        "id": "mJ-EHni_RVOK"
      },
      "source": [
        "It is also possible to return more than one value with %R."
      ]
    },
    {
      "cell_type": "code",
      "execution_count": null,
      "metadata": {
        "id": "sc6lhCGaRVOL",
        "outputId": "1071616f-f65a-4f70-9d94-f4a0d1b0c047"
      },
      "outputs": [
        {
          "data": {},
          "execution_count": 5,
          "metadata": {},
          "output_type": "execute_result"
        }
      ],
      "source": [
        "%R resid(lm(Y~X)); coef(lm(X~Y))\n"
      ]
    },
    {
      "cell_type": "markdown",
      "metadata": {
        "id": "WcYIgtuTRVOL"
      },
      "source": [
        "One can also easily capture the results of %R into python objects. Like R, the return value of this multiline expression (multiline in the sense that it is separated by ';') is the final value, which is \n",
        "the *coef(lm(X~Y))*. To pull other variables from R, there is one more magic."
      ]
    },
    {
      "cell_type": "markdown",
      "metadata": {
        "id": "hkoy2ndCRVOL"
      },
      "source": [
        "There are two more line magics, %Rpull and %Rget. Both are useful after some R code has been executed and there are variables\n",
        "in the rpy2 namespace that one would like to retrieve. The main difference is that one\n",
        " returns the value (%Rget), while the other pulls it to self.shell.user_ns (%Rpull). Imagine we've stored the results\n",
        "of some calculation in the variable \"a\" in rpy2's namespace. By using the %R magic, we can obtain these results and\n",
        "store them in b. We can also pull them directly to user_ns with %Rpull. They are both views on the same data."
      ]
    },
    {
      "cell_type": "code",
      "execution_count": null,
      "metadata": {
        "id": "SSiGyuwPRVOM",
        "outputId": "5800c317-5029-4d7d-e4d2-1c44e882e661"
      },
      "outputs": [
        {
          "name": "stdout",
          "output_type": "stream",
          "text": [
            "[-0.2  0.9 -1.   0.1  0.2]\n"
          ]
        }
      ],
      "source": [
        "b = %R a=resid(lm(Y~X))\n",
        "%Rpull a\n",
        "print(a)\n",
        "assert id(b.data) == id(a.data)\n",
        "%R -o a"
      ]
    },
    {
      "cell_type": "markdown",
      "metadata": {
        "id": "44gKk8BaRVOM"
      },
      "source": [
        "%Rpull is equivalent to calling %R with just -o\n"
      ]
    },
    {
      "cell_type": "code",
      "execution_count": null,
      "metadata": {
        "id": "-nk4eMlGRVON",
        "outputId": "f99ca621-c4b3-415d-cb78-af2470d44c90"
      },
      "outputs": [
        {
          "name": "stdout",
          "output_type": "stream",
          "text": [
            "[-0.2  0.9 -1.   0.1  0.2]\n",
            "[ 3.2  0.9]\n"
          ]
        }
      ],
      "source": [
        "%R d=resid(lm(Y~X)); e=coef(lm(Y~X))\n",
        "%R -o d -o e\n",
        "%Rpull e\n",
        "print(d)\n",
        "print(e)\n",
        "import numpy as np\n",
        "np.testing.assert_almost_equal(d, a)"
      ]
    },
    {
      "cell_type": "markdown",
      "metadata": {
        "id": "T4zZV0fcRVON"
      },
      "source": [
        "On the other hand %Rpush is equivalent to calling %R with just -i and no trailing code."
      ]
    },
    {
      "cell_type": "code",
      "execution_count": null,
      "metadata": {
        "id": "nNqliIXsRVOO",
        "outputId": "857eaee8-6c51-44cb-ec07-9f430e90065f"
      },
      "outputs": [
        {
          "data": {},
          "execution_count": 8,
          "metadata": {},
          "output_type": "execute_result"
        }
      ],
      "source": [
        "A = np.arange(20)\n",
        "%R -i A\n",
        "%R mean(A)\n"
      ]
    },
    {
      "cell_type": "markdown",
      "metadata": {
        "id": "LprHiIdwRVOO"
      },
      "source": [
        "The magic %Rget retrieves one variable from R."
      ]
    },
    {
      "cell_type": "code",
      "execution_count": null,
      "metadata": {
        "id": "QjoKiRxmRVOP",
        "outputId": "4a8d9340-ada7-422c-becc-278c1b576161"
      },
      "outputs": [
        {
          "data": {},
          "execution_count": 9,
          "metadata": {},
          "output_type": "execute_result"
        }
      ],
      "source": [
        "%Rget A"
      ]
    },
    {
      "attachments": {},
      "cell_type": "markdown",
      "metadata": {
        "id": "FBa-aWBIRVOP"
      },
      "source": [
        "## Plotting and capturing output"
      ]
    },
    {
      "cell_type": "markdown",
      "metadata": {
        "id": "ZCZap7PORVOQ"
      },
      "source": [
        "R's console (i.e. its stdout() connection) is captured by ipython, as are any plots which are published as PNG files like the notebook with arguments --pylab inline. As a call to %R may produce a return value (see above) we must ask what happens to a magic like the one below. The R code specifies that something is published to the notebook. If anything is published to the notebook, that call to %R returns None."
      ]
    },
    {
      "cell_type": "code",
      "execution_count": null,
      "metadata": {
        "id": "kOt88l6WRVOR",
        "outputId": "4ef83f2f-87b9-4d7c-e126-2bbe5e56032e"
      },
      "outputs": [
        {
          "data": {},
          "metadata": {},
          "output_type": "display_data"
        },
        {
          "data": {},
          "metadata": {},
          "output_type": "display_data"
        },
        {
          "name": "stdout",
          "output_type": "stream",
          "text": [
            "v1 is: [ 10.]\n",
            "v2 is: [ 10.]\n"
          ]
        }
      ],
      "source": [
        "from __future__ import print_function\n",
        "v1 = %R plot(X,Y); print(summary(lm(Y~X))); vv=mean(X)*mean(Y)\n",
        "print('v1 is:', v1)\n",
        "v2 = %R mean(X)*mean(Y)\n",
        "print('v2 is:', v2)"
      ]
    },
    {
      "attachments": {},
      "cell_type": "markdown",
      "metadata": {
        "id": "Gr81EJISRVOR"
      },
      "source": [
        "## What value is returned from %R?"
      ]
    },
    {
      "cell_type": "markdown",
      "metadata": {
        "id": "DqwBef55RVOR"
      },
      "source": [
        "Some calls have no particularly interesting return value, the magic %R will not return anything in this case. The return value in rpy2 is actually NULL so %R returns None."
      ]
    },
    {
      "cell_type": "code",
      "execution_count": null,
      "metadata": {
        "id": "lZflx3RKRVOS",
        "outputId": "ada78092-147c-436d-9e7c-fce57c487aec"
      },
      "outputs": [
        {
          "data": {},
          "metadata": {},
          "output_type": "display_data"
        }
      ],
      "source": [
        "v = %R plot(X,Y)\n",
        "assert v == None"
      ]
    },
    {
      "cell_type": "markdown",
      "metadata": {
        "id": "ZusoUQFYRVOT"
      },
      "source": [
        "Also, if the return value of a call to %R (in line mode) has just been printed to the console, then its value is also not returned."
      ]
    },
    {
      "cell_type": "code",
      "execution_count": null,
      "metadata": {
        "id": "FeOaoLf9RVOU",
        "outputId": "5ae84429-4652-4898-c94a-a8fc7a987be2"
      },
      "outputs": [
        {
          "data": {},
          "metadata": {},
          "output_type": "display_data"
        }
      ],
      "source": [
        "v = %R print(X)\n",
        "assert v == None"
      ]
    },
    {
      "cell_type": "markdown",
      "metadata": {
        "id": "99t92acmRVOU"
      },
      "source": [
        "But, if the last value did not print anything to console, the value is returned:\n"
      ]
    },
    {
      "cell_type": "code",
      "execution_count": null,
      "metadata": {
        "id": "9kmCLLPHRVOV",
        "outputId": "aacf2771-e207-4329-dfd6-0378ef23ebbe"
      },
      "outputs": [
        {
          "data": {},
          "metadata": {},
          "output_type": "display_data"
        },
        {
          "name": "stdout",
          "output_type": "stream",
          "text": [
            "v: [0 1 2 3 4]\n"
          ]
        }
      ],
      "source": [
        "v = %R print(summary(X)); X\n",
        "print('v:', v)"
      ]
    },
    {
      "cell_type": "markdown",
      "metadata": {
        "id": "XCmV74apRVOV"
      },
      "source": [
        "The return value can be suppressed by a trailing ';' or an -n argument.\n"
      ]
    },
    {
      "cell_type": "code",
      "execution_count": null,
      "metadata": {
        "id": "l5qgANf0RVOV"
      },
      "outputs": [],
      "source": [
        "%R -n X"
      ]
    },
    {
      "cell_type": "code",
      "execution_count": null,
      "metadata": {
        "id": "MCa7FR1WRVOW"
      },
      "outputs": [],
      "source": [
        "%R X; "
      ]
    },
    {
      "attachments": {},
      "cell_type": "markdown",
      "metadata": {
        "id": "rIpbZILMRVOW"
      },
      "source": [
        "## Cell level magic"
      ]
    },
    {
      "cell_type": "markdown",
      "metadata": {
        "id": "OYK_YmJORVOW"
      },
      "source": [
        "Often, we will want to do more than a simple linear regression model. There may be several lines of R code that we want to \n",
        "use before returning to python. This is the cell-level magic.\n",
        "\n",
        "\n",
        "For the cell level magic, inputs can be passed via the -i or --inputs argument in the line. These variables are copied \n",
        "from the shell namespace to R's namespace using rpy2.robjects.r.assign. It would be nice not to have to copy these into R: rnumpy ( http://bitbucket.org/njs/rnumpy/wiki/API ) has done some work to limit or at least make transparent the number of copies of an array. This seems like a natural thing to try to build on. Arrays can be output from R via the -o or --outputs argument in the line. All other arguments are sent to R's png function, which is the graphics device used to create the plots.\n",
        "\n",
        "We can redo the above calculations in one ipython cell. We might also want to add some output such as a summary\n",
        " from R or perhaps the standard plotting diagnostics of the lm."
      ]
    },
    {
      "cell_type": "code",
      "execution_count": null,
      "metadata": {
        "id": "PLJkLWQiRVOX",
        "outputId": "8cb11fa2-01ed-42d5-aa5d-87bccff54031"
      },
      "outputs": [
        {
          "data": {},
          "metadata": {},
          "output_type": "display_data"
        },
        {
          "data": {},
          "metadata": {},
          "output_type": "display_data"
        }
      ],
      "source": [
        "%%R -i X,Y -o XYcoef\n",
        "XYlm = lm(Y~X)\n",
        "XYcoef = coef(XYlm)\n",
        "print(summary(XYlm))\n",
        "par(mfrow=c(2,2))\n",
        "plot(XYlm)"
      ]
    },
    {
      "attachments": {},
      "cell_type": "markdown",
      "metadata": {
        "id": "alZqmlrbRVOY"
      },
      "source": [
        "## Passing data back and forth"
      ]
    },
    {
      "cell_type": "markdown",
      "metadata": {
        "id": "RQbJ4fUzRVOZ"
      },
      "source": [
        "Currently, data is passed through RMagics.pyconverter when going from python to R and RMagics.Rconverter when \n",
        "going from R to python. These currently default to numpy.ndarray. Future work will involve writing better converters, most likely involving integration with http://pandas.sourceforge.net.\n",
        "\n",
        "Passing ndarrays into R seems to require a copy, though once an object is returned to python, this object is NOT copied, and it is possible to change its values.\n"
      ]
    },
    {
      "cell_type": "code",
      "execution_count": null,
      "metadata": {
        "id": "R8akfw1iRVOZ"
      },
      "outputs": [],
      "source": [
        "seq1 = np.arange(10)"
      ]
    },
    {
      "cell_type": "code",
      "execution_count": null,
      "metadata": {
        "id": "O7guM-UdRVOa",
        "outputId": "31846af2-f203-481e-ef09-a91489090708"
      },
      "outputs": [
        {
          "data": {},
          "metadata": {},
          "output_type": "display_data"
        }
      ],
      "source": [
        "%%R -i seq1 -o seq2\n",
        "seq2 = rep(seq1, 2)\n",
        "print(seq2)"
      ]
    },
    {
      "cell_type": "code",
      "execution_count": null,
      "metadata": {
        "id": "n_c53yliRVOa",
        "outputId": "76906d2c-16e8-4259-a291-270a106bb737"
      },
      "outputs": [
        {
          "data": {},
          "execution_count": 19,
          "metadata": {},
          "output_type": "execute_result"
        }
      ],
      "source": [
        "seq2[::2] = 0\n",
        "seq2"
      ]
    },
    {
      "cell_type": "code",
      "execution_count": null,
      "metadata": {
        "id": "w2HsE8LmRVOb",
        "outputId": "293cf06e-ce1b-40ee-9e32-8020ebb2fbfb"
      },
      "outputs": [
        {
          "data": {},
          "metadata": {},
          "output_type": "display_data"
        }
      ],
      "source": [
        "%%R\n",
        "print(seq2)"
      ]
    },
    {
      "cell_type": "markdown",
      "metadata": {
        "id": "_PdFJcyqRVOb"
      },
      "source": [
        "Once the array data has been passed to R, modifring its contents does not modify R's copy of the data."
      ]
    },
    {
      "cell_type": "code",
      "execution_count": null,
      "metadata": {
        "id": "gSIG9wiBRVOb",
        "outputId": "4857fc80-c77d-4126-a43c-d304d44be66b"
      },
      "outputs": [
        {
          "data": {},
          "metadata": {},
          "output_type": "display_data"
        }
      ],
      "source": [
        "seq1[0] = 200\n",
        "%R print(seq1)"
      ]
    },
    {
      "cell_type": "markdown",
      "metadata": {
        "id": "xjNfR0CdRVOc"
      },
      "source": [
        "But, if we pass data as both input and output, then the value of \"data\" in user_ns will be overwritten and the\n",
        "new array will be a view of the data in R's copy."
      ]
    },
    {
      "cell_type": "code",
      "execution_count": null,
      "metadata": {
        "id": "r4PCh_TVRVOc",
        "outputId": "90357bda-1c2b-4e19-fbae-046e52ba7867"
      },
      "outputs": [
        {
          "name": "stdout",
          "output_type": "stream",
          "text": [
            "[200   1   2   3   4   5   6   7   8   9]\n",
            "[200   1   2   3   4   5   6   7   8   9]\n"
          ]
        },
        {
          "data": {},
          "metadata": {},
          "output_type": "display_data"
        }
      ],
      "source": [
        "print(seq1)\n",
        "%R -i seq1 -o seq1\n",
        "print(seq1)\n",
        "seq1[0] = 200\n",
        "%R print(seq1)\n",
        "seq1_view = %R seq1\n",
        "assert(id(seq1_view.data) == id(seq1.data))"
      ]
    },
    {
      "attachments": {},
      "cell_type": "markdown",
      "metadata": {
        "id": "ZI5tCvIGRVOc"
      },
      "source": [
        "## Exception handling\n"
      ]
    },
    {
      "cell_type": "markdown",
      "metadata": {
        "id": "E7qUq_6bRVOc"
      },
      "source": [
        "Exceptions are handled by passing back rpy2's exception and the line that triggered it."
      ]
    },
    {
      "cell_type": "code",
      "execution_count": null,
      "metadata": {
        "id": "hLN5eAj4RVOd",
        "outputId": "9f730b13-dc19-4c16-aeb9-857fa5929399"
      },
      "outputs": [
        {
          "name": "stdout",
          "output_type": "stream",
          "text": [
            "parsing and evaluating line \"nosuchvar\".\n",
            "R error message: \"Error in eval(expr, envir, enclos) : object 'nosuchvar' not found\n",
            "\"\n",
            " R stdout:\"Error in eval(expr, envir, enclos) : object 'nosuchvar' not found\n",
            "\"\n",
            "\n"
          ]
        }
      ],
      "source": [
        "try:\n",
        "    %R -n nosuchvar\n",
        "except Exception as e:\n",
        "    print(e)\n",
        "    pass"
      ]
    },
    {
      "attachments": {},
      "cell_type": "markdown",
      "metadata": {
        "id": "JpnT81WCRVOd"
      },
      "source": [
        "## Structured arrays and data frames\n"
      ]
    },
    {
      "cell_type": "markdown",
      "metadata": {
        "id": "Nyj6rx3nRVOd"
      },
      "source": [
        "In R, data frames play an important role as they allow array-like objects of mixed type with column names (and row names). In bumpy, the closest analogy is a structured array with named fields. In future work, it would be nice to use pandas to return full-fledged DataFrames from rpy2. In the mean time, structured arrays can be passed back and forth with the -d flag to %R, %Rpull, and %Rget"
      ]
    },
    {
      "cell_type": "code",
      "execution_count": null,
      "metadata": {
        "id": "BHU-WxGBRVOe"
      },
      "outputs": [],
      "source": [
        "datapy= np.array([(1, 2.9, 'a'), (2, 3.5, 'b'), (3, 2.1, 'c')],\n",
        "          dtype=[('x', '<i4'), ('y', '<f8'), ('z', '|S1')])\n"
      ]
    },
    {
      "cell_type": "code",
      "execution_count": null,
      "metadata": {
        "id": "rFKDaH0sRVOe"
      },
      "outputs": [],
      "source": [
        "%%R -i datapy -d datar\n",
        "datar = datapy"
      ]
    },
    {
      "cell_type": "code",
      "execution_count": null,
      "metadata": {
        "id": "3xj5DxwARVOe",
        "outputId": "99457dfd-2034-4caf-f28f-767201dfa145"
      },
      "outputs": [
        {
          "data": {},
          "execution_count": 26,
          "metadata": {},
          "output_type": "execute_result"
        }
      ],
      "source": [
        "datar"
      ]
    },
    {
      "cell_type": "code",
      "execution_count": null,
      "metadata": {
        "id": "SEgBhiOvRVOf",
        "outputId": "539bf9aa-1550-4e9a-b142-556b76935afe"
      },
      "outputs": [
        {
          "data": {},
          "execution_count": 27,
          "metadata": {},
          "output_type": "execute_result"
        }
      ],
      "source": [
        "%R datar2 = datapy\n",
        "%Rpull -d datar2\n",
        "datar2"
      ]
    },
    {
      "cell_type": "code",
      "execution_count": null,
      "metadata": {
        "id": "VFsHTmQIRVOf",
        "outputId": "9ccd7ab7-f654-40ee-ce1f-84c9d441071f"
      },
      "outputs": [
        {
          "data": {},
          "execution_count": 28,
          "metadata": {},
          "output_type": "execute_result"
        }
      ],
      "source": [
        "%Rget -d datar2"
      ]
    },
    {
      "cell_type": "markdown",
      "metadata": {
        "id": "XTBXrNGQRVOf"
      },
      "source": [
        "For arrays without names, the -d argument has no effect because the R object has no colnames or names."
      ]
    },
    {
      "cell_type": "code",
      "execution_count": null,
      "metadata": {
        "id": "J6Y5p6OSRVOg",
        "outputId": "4f001e39-d99d-4784-e693-69333c016a71"
      },
      "outputs": [
        {
          "data": {},
          "execution_count": 29,
          "metadata": {},
          "output_type": "execute_result"
        }
      ],
      "source": [
        "Z = np.arange(6)\n",
        "%R -i Z\n",
        "%Rget -d Z"
      ]
    },
    {
      "cell_type": "markdown",
      "metadata": {
        "id": "yAXIPc9QRVOg"
      },
      "source": [
        "For mixed-type data frames in R, if the -d flag is not used, then an array of a single type is returned and\n",
        "its value is transposed. This would be nice to fix, but it seems something that should be fixed at the rpy2 level (See: https://bitbucket.org/lgautier/rpy2/issue/44/numpyrecarray-as-dataframe)"
      ]
    },
    {
      "cell_type": "code",
      "execution_count": null,
      "metadata": {
        "id": "rdPrzajkRVOg",
        "outputId": "08ed51e4-689d-4ab3-9627-ef885a8af74a"
      },
      "outputs": [
        {
          "data": {},
          "execution_count": 30,
          "metadata": {},
          "output_type": "execute_result"
        }
      ],
      "source": [
        "%Rget datar2"
      ]
    }
  ],
  "metadata": {
    "colab": {
      "provenance": []
    },
    "language_info": {
      "name": "python"
    }
  },
  "nbformat": 4,
  "nbformat_minor": 0
}
