{
  "nbformat": 4,
  "nbformat_minor": 0,
  "metadata": {
    "colab": {
      "provenance": []
    }
  },
  "cells": [
    {
      "cell_type": "markdown",
      "source": [
        "# SymPy: Open Source Symbolic Mathematics\n",
        "\n",
        "This notebook uses the [SymPy](http://sympy.org) package to perform symbolic manipulations,\n",
        "and combined with numpy and matplotlib, also displays numerical visualizations of symbolically\n",
        "constructed expressions.\n",
        "\n",
        "We first load sympy printing extensions, as well as all of sympy:"
      ],
      "metadata": {
        "id": "WvE0e3IzRf29"
      }
    },
    {
      "cell_type": "code",
      "source": [
        "from IPython.display import display\n",
        "\n",
        "from sympy.interactive import printing\n",
        "printing.init_printing()\n",
        "\n",
        "from __future__ import division\n",
        "import sympy as sym\n",
        "from sympy import *\n",
        "x, y, z = symbols(\"x y z\")\n",
        "k, m, n = symbols(\"k m n\", integer=True)\n",
        "f, g, h = map(Function, 'fgh')"
      ],
      "outputs": [],
      "metadata": {
        "id": "_Mc4iwjGRf3A"
      },
      "execution_count": null
    },
    {
      "cell_type": "markdown",
      "source": [
        "<h2>Elementary operations</h2>"
      ],
      "metadata": {
        "id": "8TkG3f1DRf3C"
      }
    },
    {
      "cell_type": "code",
      "source": [
        "Rational(3,2)*pi + exp(I*x) / (x**2 + y)"
      ],
      "outputs": [
        {
          "output_type": "execute_result",
          "data": {},
          "metadata": {},
          "execution_count": 2
        }
      ],
      "metadata": {
        "id": "ZAuN9sJGRf3C",
        "outputId": "1180f480-fb93-400f-8c06-3f222142077c"
      },
      "execution_count": null
    },
    {
      "cell_type": "code",
      "source": [
        "exp(I*x).subs(x,pi).evalf()"
      ],
      "outputs": [
        {
          "output_type": "execute_result",
          "data": {},
          "metadata": {},
          "execution_count": 3
        }
      ],
      "metadata": {
        "id": "Xod-Gg5URf3D",
        "outputId": "da9aa5c4-b4ed-45b5-8af1-6d42267eeccb"
      },
      "execution_count": null
    },
    {
      "cell_type": "code",
      "source": [
        "e = x + 2*y"
      ],
      "outputs": [],
      "metadata": {
        "id": "v4n0tbKARf3D"
      },
      "execution_count": null
    },
    {
      "cell_type": "code",
      "source": [
        "srepr(e)"
      ],
      "outputs": [
        {
          "output_type": "execute_result",
          "data": {},
          "metadata": {},
          "execution_count": 5
        }
      ],
      "metadata": {
        "id": "XnT16iqYRf3E",
        "outputId": "994104ac-8356-4c5b-8cdc-422b93272306"
      },
      "execution_count": null
    },
    {
      "cell_type": "code",
      "source": [
        "exp(pi * sqrt(163)).evalf(50)"
      ],
      "outputs": [
        {
          "output_type": "execute_result",
          "data": {},
          "metadata": {},
          "execution_count": 6
        }
      ],
      "metadata": {
        "id": "F8OBF-W6Rf3E",
        "outputId": "b358bf46-763c-4b9e-f6ce-5954ff45f2b7"
      },
      "execution_count": null
    },
    {
      "cell_type": "markdown",
      "source": [
        "<h2>Algebra<h2>"
      ],
      "metadata": {
        "id": "mmOVBw5QRf3F"
      }
    },
    {
      "cell_type": "code",
      "source": [
        "eq = ((x+y)**2 * (x+1))\n",
        "eq"
      ],
      "outputs": [
        {
          "output_type": "execute_result",
          "data": {},
          "metadata": {},
          "execution_count": 7
        }
      ],
      "metadata": {
        "id": "7zC5V-QZRf3F",
        "outputId": "15f1594c-6882-4e97-bf90-9df1dcbe965d"
      },
      "execution_count": null
    },
    {
      "cell_type": "code",
      "source": [
        "expand(eq)"
      ],
      "outputs": [
        {
          "output_type": "execute_result",
          "data": {},
          "metadata": {},
          "execution_count": 8
        }
      ],
      "metadata": {
        "id": "lqCOpnPtRf3F",
        "outputId": "47f174fe-39ca-47c1-b8f4-9a12f0f9f081"
      },
      "execution_count": null
    },
    {
      "cell_type": "code",
      "source": [
        "a = 1/x + (x*sin(x) - 1)/x\n",
        "a"
      ],
      "outputs": [
        {
          "output_type": "execute_result",
          "data": {},
          "metadata": {},
          "execution_count": 9
        }
      ],
      "metadata": {
        "id": "5uUY_jl9Rf3G",
        "outputId": "eaba63c7-60a5-4493-e696-3b5f006eb441"
      },
      "execution_count": null
    },
    {
      "cell_type": "code",
      "source": [
        "simplify(a)"
      ],
      "outputs": [
        {
          "output_type": "execute_result",
          "data": {},
          "metadata": {},
          "execution_count": 10
        }
      ],
      "metadata": {
        "id": "KRYNktiARf3G",
        "outputId": "26c7eee6-c4d9-46a5-cd75-12c6de6c3846"
      },
      "execution_count": null
    },
    {
      "cell_type": "code",
      "source": [
        "eq = Eq(x**3 + 2*x**2 + 4*x + 8, 0)\n",
        "eq"
      ],
      "outputs": [
        {
          "output_type": "execute_result",
          "data": {},
          "metadata": {},
          "execution_count": 11
        }
      ],
      "metadata": {
        "id": "0kqnL6UPRf3G",
        "outputId": "94f9b15f-388b-42fe-a873-42c9b0593875"
      },
      "execution_count": null
    },
    {
      "cell_type": "code",
      "source": [
        "solve(eq, x)"
      ],
      "outputs": [
        {
          "output_type": "execute_result",
          "data": {},
          "metadata": {},
          "execution_count": 12
        }
      ],
      "metadata": {
        "id": "QtCZ1XuZRf3G",
        "outputId": "adbe97b7-d679-457b-b42c-8e401b493260"
      },
      "execution_count": null
    },
    {
      "cell_type": "code",
      "source": [
        "a, b = symbols('a b')\n",
        "Sum(6*n**2 + 2**n, (n, a, b))"
      ],
      "outputs": [
        {
          "output_type": "execute_result",
          "data": {},
          "metadata": {},
          "execution_count": 13
        }
      ],
      "metadata": {
        "id": "qYmO5KNtRf3H",
        "outputId": "64ff6464-6b40-450f-a997-c5d4f9b5150c"
      },
      "execution_count": null
    },
    {
      "cell_type": "markdown",
      "source": [
        "<h2>Calculus</h2>"
      ],
      "metadata": {
        "id": "x8mlNmJJRf3H"
      }
    },
    {
      "cell_type": "code",
      "source": [
        "limit((sin(x)-x)/x**3, x, 0)"
      ],
      "outputs": [
        {
          "output_type": "execute_result",
          "data": {},
          "metadata": {},
          "execution_count": 14
        }
      ],
      "metadata": {
        "id": "InKcP91PRf3H",
        "outputId": "a34568ed-45a1-49c9-c3c0-9245c7a288d5"
      },
      "execution_count": null
    },
    {
      "cell_type": "code",
      "source": [
        "(1/cos(x)).series(x, 0, 6)"
      ],
      "outputs": [
        {
          "output_type": "execute_result",
          "data": {},
          "metadata": {},
          "execution_count": 15
        }
      ],
      "metadata": {
        "id": "6mjad6jRRf3H",
        "outputId": "a65eda5d-e3fb-4f7b-bef9-bb5454279ce3"
      },
      "execution_count": null
    },
    {
      "cell_type": "code",
      "source": [
        "diff(cos(x**2)**2 / (1+x), x)"
      ],
      "outputs": [
        {
          "output_type": "execute_result",
          "data": {},
          "metadata": {},
          "execution_count": 16
        }
      ],
      "metadata": {
        "id": "nBbjdR3cRf3H",
        "outputId": "c5493222-fc2c-471c-f0bc-13ac30155462"
      },
      "execution_count": null
    },
    {
      "cell_type": "code",
      "source": [
        "integrate(x**2 * cos(x), (x, 0, pi/2))"
      ],
      "outputs": [
        {
          "output_type": "execute_result",
          "data": {},
          "metadata": {},
          "execution_count": 17
        }
      ],
      "metadata": {
        "id": "bBEowFiqRf3I",
        "outputId": "7d67c3a4-972d-4b01-b3a6-a42a964b392a"
      },
      "execution_count": null
    },
    {
      "cell_type": "code",
      "source": [
        "eqn = Eq(Derivative(f(x),x,x) + 9*f(x), 1)\n",
        "display(eqn)\n",
        "dsolve(eqn, f(x))"
      ],
      "outputs": [
        {
          "output_type": "display_data",
          "data": {},
          "metadata": {}
        },
        {
          "output_type": "execute_result",
          "data": {},
          "metadata": {},
          "execution_count": 18
        }
      ],
      "metadata": {
        "id": "KC9vdt16Rf3I",
        "outputId": "488edd45-2bf6-4aaf-90e6-1c35f12dcf21"
      },
      "execution_count": null
    },
    {
      "cell_type": "markdown",
      "source": [
        "# Illustrating Taylor series\n",
        "\n",
        "We will define a function to compute the Taylor series expansions of a symbolically defined expression at\n",
        "various orders and visualize all the approximations together with the original function"
      ],
      "metadata": {
        "id": "6-8SaIT1Rf3I"
      }
    },
    {
      "cell_type": "code",
      "source": [
        "%matplotlib inline\n",
        "import numpy as np\n",
        "import matplotlib.pyplot as plt"
      ],
      "outputs": [],
      "metadata": {
        "id": "L-p63DN9Rf3I"
      },
      "execution_count": null
    },
    {
      "cell_type": "code",
      "source": [
        "# You can change the default figure size to be a bit larger if you want,\n",
        "# uncomment the next line for that:\n",
        "#plt.rc('figure', figsize=(10, 6))"
      ],
      "outputs": [],
      "metadata": {
        "id": "Wbt5-b5xRf3I"
      },
      "execution_count": null
    },
    {
      "cell_type": "code",
      "source": [
        "def plot_taylor_approximations(func, x0=None, orders=(2, 4), xrange=(0,1), yrange=None, npts=200):\n",
        "    \"\"\"Plot the Taylor series approximations to a function at various orders.\n",
        "\n",
        "    Parameters\n",
        "    ----------\n",
        "    func : a sympy function\n",
        "    x0 : float\n",
        "      Origin of the Taylor series expansion.  If not given, x0=xrange[0].\n",
        "    orders : list\n",
        "      List of integers with the orders of Taylor series to show.  Default is (2, 4).\n",
        "    xrange : 2-tuple or array.\n",
        "      Either an (xmin, xmax) tuple indicating the x range for the plot (default is (0, 1)),\n",
        "      or the actual array of values to use.\n",
        "    yrange : 2-tuple\n",
        "      (ymin, ymax) tuple indicating the y range for the plot.  If not given,\n",
        "      the full range of values will be automatically used. \n",
        "    npts : int\n",
        "      Number of points to sample the x range with.  Default is 200.\n",
        "    \"\"\"\n",
        "    if not callable(func):\n",
        "        raise ValueError('func must be callable')\n",
        "    if isinstance(xrange, (list, tuple)):\n",
        "        x = np.linspace(float(xrange[0]), float(xrange[1]), npts)\n",
        "    else:\n",
        "        x = xrange\n",
        "    if x0 is None: x0 = x[0]\n",
        "    xs = sym.Symbol('x')\n",
        "    # Make a numpy-callable form of the original function for plotting\n",
        "    fx = func(xs)\n",
        "    f = sym.lambdify(xs, fx, modules=['numpy'])\n",
        "    # We could use latex(fx) instead of str(), but matploblib gets confused\n",
        "    # with some of the (valid) latex constructs sympy emits.  So we play it safe.\n",
        "    plt.plot(x, f(x), label=str(fx), lw=2)\n",
        "    # Build the Taylor approximations, plotting as we go\n",
        "    apps = {}\n",
        "    for order in orders:\n",
        "        app = fx.series(xs, x0, n=order).removeO()\n",
        "        apps[order] = app\n",
        "        # Must be careful here: if the approximation is a constant, we can't\n",
        "        # blindly use lambdify as it won't do the right thing.  In that case, \n",
        "        # evaluate the number as a float and fill the y array with that value.\n",
        "        if isinstance(app, sym.numbers.Number):\n",
        "            y = np.zeros_like(x)\n",
        "            y.fill(app.evalf())\n",
        "        else:\n",
        "            fa = sym.lambdify(xs, app, modules=['numpy'])\n",
        "            y = fa(x)\n",
        "        tex = sym.latex(app).replace('$', '')\n",
        "        plt.plot(x, y, label=r'$n=%s:\\, %s$' % (order, tex) )\n",
        "        \n",
        "    # Plot refinements\n",
        "    if yrange is not None:\n",
        "        plt.ylim(*yrange)\n",
        "    plt.grid()\n",
        "    plt.legend(loc='best').get_frame().set_alpha(0.8)"
      ],
      "outputs": [],
      "metadata": {
        "id": "YpUSjuAMRf3J"
      },
      "execution_count": null
    },
    {
      "cell_type": "markdown",
      "source": [
        "With this function defined, we can now use it for any sympy function or expression"
      ],
      "metadata": {
        "id": "mXFsGSEfRf3J"
      }
    },
    {
      "cell_type": "code",
      "source": [
        "plot_taylor_approximations(sin, 0, [2, 4, 6], (0, 2*pi), (-2,2))"
      ],
      "outputs": [
        {
          "output_type": "display_data",
          "data": {},
          "metadata": {}
        }
      ],
      "metadata": {
        "id": "2JVDaGdTRf3J",
        "outputId": "b5a11eef-8b4f-4880-939e-b501dd425bdf"
      },
      "execution_count": null
    },
    {
      "cell_type": "code",
      "source": [
        "plot_taylor_approximations(cos, 0, [2, 4, 6], (0, 2*pi), (-2,2))"
      ],
      "outputs": [
        {
          "output_type": "display_data",
          "data": {},
          "metadata": {}
        }
      ],
      "metadata": {
        "id": "i2RIK7n_Rf3K",
        "outputId": "d8f6ab59-020f-4833-d06b-4e1a777baa18"
      },
      "execution_count": null
    },
    {
      "cell_type": "markdown",
      "source": [
        "This shows easily how a Taylor series is useless beyond its convergence radius, illustrated by \n",
        "a simple function that has singularities on the real axis:"
      ],
      "metadata": {
        "id": "BH04zfC5Rf3K"
      }
    },
    {
      "cell_type": "code",
      "source": [
        "# For an expression made from elementary functions, we must first make it into\n",
        "# a callable function, the simplest way is to use the Python lambda construct.\n",
        "plot_taylor_approximations(lambda x: 1/cos(x), 0, [2,4,6], (0, 2*pi), (-5,5))"
      ],
      "outputs": [
        {
          "output_type": "display_data",
          "data": {},
          "metadata": {}
        }
      ],
      "metadata": {
        "id": "E8vYF-U6Rf3K",
        "outputId": "38953b49-8601-4422-e529-84168fee422f"
      },
      "execution_count": null
    }
  ]
}