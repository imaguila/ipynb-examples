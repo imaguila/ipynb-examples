{
  "nbformat": 4,
  "nbformat_minor": 0,
  "metadata": {
    "colab": {
      "provenance": []
    }
  },
  "cells": [
    {
      "cell_type": "markdown",
      "source": [
        "The Markdown parser included in IPython is MathJax-aware.  This means that you can freely mix in mathematical expressions using the [MathJax subset of Tex and LaTeX](http://docs.mathjax.org/en/latest/tex.html#tex-support).  [Some examples from the MathJax site](http://www.mathjax.org/demos/tex-samples/) are reproduced below, as well as the Markdown+TeX source."
      ],
      "metadata": {
        "id": "HrjZzlYQRqj7"
      }
    },
    {
      "cell_type": "markdown",
      "source": [
        "# Motivating Examples\n",
        "\n",
        "---\n",
        "\n",
        "## The Lorenz Equations\n",
        "### Source\n",
        "```\\begin{aligned}\n",
        "\\dot{x} & = \\sigma(y-x) \\\\\n",
        "\\dot{y} & = \\rho x - y - xz \\\\\n",
        "\\dot{z} & = -\\beta z + xy\n",
        "\\end{aligned}\n",
        "```\n",
        "### Display\n",
        "\\begin{aligned}\n",
        "\\dot{x} & = \\sigma(y-x) \\\\\n",
        "\\dot{y} & = \\rho x - y - xz \\\\\n",
        "\\dot{z} & = -\\beta z + xy\n",
        "\\end{aligned}"
      ],
      "metadata": {
        "id": "eA0s_UaVRqj-"
      }
    },
    {
      "cell_type": "markdown",
      "source": [
        "## The Cauchy-Schwarz Inequality\n",
        "### Source\n",
        "```\\begin{equation*}\n",
        "\\left( \\sum_{k=1}^n a_k b_k \\right)^2 \\leq \\left( \\sum_{k=1}^n a_k^2 \\right) \\left( \\sum_{k=1}^n b_k^2 \\right)\n",
        "\\end{equation*}\n",
        "```\n",
        "### Display\n",
        "\\begin{equation*}\n",
        "\\left( \\sum_{k=1}^n a_k b_k \\right)^2 \\leq \\left( \\sum_{k=1}^n a_k^2 \\right) \\left( \\sum_{k=1}^n b_k^2 \\right)\n",
        "\\end{equation*}"
      ],
      "metadata": {
        "id": "PDfZD6XfRqj_"
      }
    },
    {
      "cell_type": "markdown",
      "source": [
        "## A Cross Product Formula\n",
        "### Source\n",
        "```\\begin{equation*}\n",
        "\\mathbf{V}_1 \\times \\mathbf{V}_2 =  \\begin{vmatrix}\n",
        "\\mathbf{i} & \\mathbf{j} & \\mathbf{k} \\\\\n",
        "\\frac{\\partial X}{\\partial u} &  \\frac{\\partial Y}{\\partial u} & 0 \\\\\n",
        "\\frac{\\partial X}{\\partial v} &  \\frac{\\partial Y}{\\partial v} & 0\n",
        "\\end{vmatrix}  \n",
        "\\end{equation*}\n",
        "```\n",
        "### Display\n",
        "\\begin{equation*}\n",
        "\\mathbf{V}_1 \\times \\mathbf{V}_2 =  \\begin{vmatrix}\n",
        "\\mathbf{i} & \\mathbf{j} & \\mathbf{k} \\\\\n",
        "\\frac{\\partial X}{\\partial u} &  \\frac{\\partial Y}{\\partial u} & 0 \\\\\n",
        "\\frac{\\partial X}{\\partial v} &  \\frac{\\partial Y}{\\partial v} & 0\n",
        "\\end{vmatrix}  \n",
        "\\end{equation*}"
      ],
      "metadata": {
        "id": "xkaDTD7eRqkA"
      }
    },
    {
      "cell_type": "markdown",
      "source": [
        "## The probability of getting \\(k\\) heads when flipping \\(n\\) coins is\n",
        "### Source\n",
        "```\\begin{equation*}\n",
        "P(E)   = {n \\choose k} p^k (1-p)^{ n-k} \n",
        "\\end{equation*}\n",
        "```\n",
        "### Display\n",
        "\\begin{equation*}\n",
        "P(E)   = {n \\choose k} p^k (1-p)^{ n-k} \n",
        "\\end{equation*}"
      ],
      "metadata": {
        "id": "FSGFueaRRqkB"
      }
    },
    {
      "cell_type": "markdown",
      "source": [
        "## An Identity of Ramanujan\n",
        "### Source\n",
        "```\\begin{equation*}\n",
        "\\frac{1}{\\Bigl(\\sqrt{\\phi \\sqrt{5}}-\\phi\\Bigr) e^{\\frac25 \\pi}} =\n",
        "1+\\frac{e^{-2\\pi}} {1+\\frac{e^{-4\\pi}} {1+\\frac{e^{-6\\pi}}\n",
        "{1+\\frac{e^{-8\\pi}} {1+\\ldots} } } } \n",
        "\\end{equation*}\n",
        "```\n",
        "### Display\n",
        "\\begin{equation*}\n",
        "\\frac{1}{\\Bigl(\\sqrt{\\phi \\sqrt{5}}-\\phi\\Bigr) e^{\\frac25 \\pi}} =\n",
        "1+\\frac{e^{-2\\pi}} {1+\\frac{e^{-4\\pi}} {1+\\frac{e^{-6\\pi}}\n",
        "{1+\\frac{e^{-8\\pi}} {1+\\ldots} } } } \n",
        "\\end{equation*}"
      ],
      "metadata": {
        "id": "9xOwK-ATRqkB"
      }
    },
    {
      "cell_type": "markdown",
      "source": [
        "## A Rogers-Ramanujan Identity\n",
        "### Source\n",
        "```\\begin{equation*}\n",
        "1 +  \\frac{q^2}{(1-q)}+\\frac{q^6}{(1-q)(1-q^2)}+\\cdots =\n",
        "\\prod_{j=0}^{\\infty}\\frac{1}{(1-q^{5j+2})(1-q^{5j+3})},\n",
        "\\quad\\quad \\text{for $|q|<1$}. \n",
        "\\end{equation*}\n",
        "```\n",
        "### Display\n",
        "\\begin{equation*}\n",
        "1 + \\frac{q^2}{(1-q)}+\\frac{q^6}{(1-q)(1-q^2)}+\\cdots =\n",
        "\\prod_{j=0}^{\\infty}\\frac{1}{(1-q^{5j+2})(1-q^{5j+3})},\n",
        "\\quad\\quad \\text{for $|q|<1$}. \n",
        "\\end{equation*}"
      ],
      "metadata": {
        "id": "mpfs0gCbRqkC"
      }
    },
    {
      "cell_type": "markdown",
      "source": [
        "## Maxwell's Equations\n",
        "### Source\n",
        "```\\begin{aligned}\n",
        "\\nabla \\times \\vec{\\mathbf{B}} -\\, \\frac1c\\, \\frac{\\partial\\vec{\\mathbf{E}}}{\\partial t} & = \\frac{4\\pi}{c}\\vec{\\mathbf{j}} \\\\   \\nabla \\cdot \\vec{\\mathbf{E}} & = 4 \\pi \\rho \\\\\n",
        "\\nabla \\times \\vec{\\mathbf{E}}\\, +\\, \\frac1c\\, \\frac{\\partial\\vec{\\mathbf{B}}}{\\partial t} & = \\vec{\\mathbf{0}} \\\\\n",
        "\\nabla \\cdot \\vec{\\mathbf{B}} & = 0 \n",
        "\\end{aligned}\n",
        "```\n",
        "### Display\n",
        "\\begin{aligned}\n",
        "\\nabla \\times \\vec{\\mathbf{B}} -\\, \\frac1c\\, \\frac{\\partial\\vec{\\mathbf{E}}}{\\partial t} & = \\frac{4\\pi}{c}\\vec{\\mathbf{j}} \\\\   \\nabla \\cdot \\vec{\\mathbf{E}} & = 4 \\pi \\rho \\\\\n",
        "\\nabla \\times \\vec{\\mathbf{E}}\\, +\\, \\frac1c\\, \\frac{\\partial\\vec{\\mathbf{B}}}{\\partial t} & = \\vec{\\mathbf{0}} \\\\\n",
        "\\nabla \\cdot \\vec{\\mathbf{B}} & = 0 \n",
        "\\end{aligned}"
      ],
      "metadata": {
        "id": "8wiXuB0DRqkC"
      }
    },
    {
      "cell_type": "markdown",
      "source": [
        "# Equation Numbering and References\n",
        "\n",
        "---\n",
        "\n",
        "Equation numbering and referencing will be available in a future version of IPython."
      ],
      "metadata": {
        "id": "L018RrtERqkD"
      }
    },
    {
      "cell_type": "markdown",
      "source": [
        "# Inline Typesetting (Mixing Markdown and TeX)\n",
        "\n",
        "---\n",
        "\n",
        "While display equations look good for a page of samples, the ability to mix math and *formatted* **text** in a paragraph is also important.\n",
        "\n",
        "## Source\n",
        "``` This expression $\\sqrt{3x-1}+(1+x)^2$ is an example of a TeX inline equation in a **[Markdown-formatted](http://daringfireball.net/projects/markdown/)** sentence.  \n",
        "```\n",
        "## Display\n",
        "This expression $\\sqrt{3x-1}+(1+x)^2$ is an example of a TeX inline equation in a **[Markdown-formatted](http://daringfireball.net/projects/markdown/)** sentence.  "
      ],
      "metadata": {
        "id": "Mt5GAH_kRqkD"
      }
    },
    {
      "cell_type": "markdown",
      "source": [
        "# Other Syntax\n",
        "\n",
        "---\n",
        "\n",
        "You will notice in other places on the web that `$$` are needed explicitly to begin and end MathJax typesetting.  This is **not** required if you will be using TeX environments, but the IPython notebook will accept this syntax on legacy notebooks.  \n",
        "\n",
        "### Source\n",
        "```$$\n",
        "\\begin{array}{c}\n",
        "y_1 \\\\\\\n",
        "y_2 \\mathtt{t}_i \\\\\\\n",
        "z_{3,4}\n",
        "\\end{array}\n",
        "$$\n",
        "```\n",
        "\n",
        "```\n",
        "$$\n",
        "\\begin{array}{c}\n",
        "y_1 \\cr\n",
        "y_2 \\mathtt{t}_i \\cr\n",
        "y_{3}\n",
        "\\end{array}\n",
        "$$\n",
        "```\n",
        "\n",
        "```\n",
        "$$\\begin{eqnarray} \n",
        "x' &=& &x \\sin\\phi &+& z \\cos\\phi \\\\\n",
        "z' &=& - &x \\cos\\phi &+& z \\sin\\phi \\\\\n",
        "\\end{eqnarray}$$\n",
        "```\n",
        "\n",
        "```\n",
        "$$\n",
        "x=4\n",
        "$$\n",
        "```\n",
        "\n",
        "### Display\n",
        "$$\n",
        "\\begin{array}{c}\n",
        "y_1 \\\\\\\n",
        "y_2 \\mathtt{t}_i \\\\\\\n",
        "z_{3,4}\n",
        "\\end{array}\n",
        "$$\n",
        "\n",
        "$$\n",
        "\\begin{array}{c}\n",
        "y_1 \\cr\n",
        "y_2 \\mathtt{t}_i \\cr\n",
        "y_{3}\n",
        "\\end{array}\n",
        "$$\n",
        "\n",
        "$$\\begin{eqnarray} \n",
        "x' &=& &x \\sin\\phi &+& z \\cos\\phi \\\\\n",
        "z' &=& - &x \\cos\\phi &+& z \\sin\\phi \\\\\n",
        "\\end{eqnarray}$$\n",
        "\n",
        "$$\n",
        "x=4\n",
        "$$"
      ],
      "metadata": {
        "id": "cxSkGFC5RqkE"
      }
    }
  ]
}