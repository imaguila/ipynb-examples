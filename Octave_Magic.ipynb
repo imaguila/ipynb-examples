{
  "nbformat": 4,
  "nbformat_minor": 0,
  "metadata": {
    "colab": {
      "name": "Octave Magic",
      "provenance": []
    }
  },
  "cells": [
    {
      "cell_type": "markdown",
      "source": [
        "#Using Octave Inside IPython"
      ],
      "metadata": {
        "id": "jWFgp5D1OyZs"
      }
    },
    {
      "cell_type": "markdown",
      "source": [
        "##Installation"
      ],
      "metadata": {
        "id": "_QiTylkgOyZu"
      }
    },
    {
      "cell_type": "markdown",
      "source": [
        "The `octavemagic` extension provides the ability to interact with Octave.  It depends on the `oct2py` package,\n",
        "which may be installed using `easy_install`.\n",
        "\n",
        "To enable the extension, load it as follows:"
      ],
      "metadata": {
        "id": "7P1y10pEOyZu"
      }
    },
    {
      "cell_type": "code",
      "source": [
        "%load_ext octavemagic"
      ],
      "outputs": [],
      "metadata": {
        "id": "t9L5aJ4wOyZw"
      },
      "execution_count": null
    },
    {
      "cell_type": "markdown",
      "source": [
        "##Overview"
      ],
      "metadata": {
        "id": "c2XXAiTeOyZw"
      }
    },
    {
      "cell_type": "markdown",
      "source": [
        "Loading the extension enables three magic functions: `%octave`, `%octave_push`, and `%octave_pull`.\n",
        "\n",
        "The first is for executing one or more lines of Octave, while the latter allow moving variables between the Octave and Python workspace.\n",
        "Here you see an example of how to execute a single line of Octave, and how to transfer the generated value back to Python:"
      ],
      "metadata": {
        "id": "y9Z2Iy1JOyZw"
      }
    },
    {
      "cell_type": "code",
      "source": [
        "x = %octave [1 2; 3 4];\n",
        "x"
      ],
      "outputs": [
        {
          "output_type": "execute_result",
          "data": {},
          "execution_count": 19
        }
      ],
      "metadata": {
        "id": "BD8r-0BROyZx",
        "outputId": "8255b76c-2bbf-40cf-d539-2b4ee720a6fe"
      },
      "execution_count": null
    },
    {
      "cell_type": "code",
      "source": [
        "a = [1, 2, 3]\n",
        "\n",
        "%octave_push a\n",
        "%octave a = a * 2;\n",
        "%octave_pull a\n",
        "a"
      ],
      "outputs": [
        {
          "output_type": "execute_result",
          "data": {},
          "execution_count": 20
        }
      ],
      "metadata": {
        "id": "EyMh3JNTOyZx",
        "outputId": "a97d0c58-10b0-42a4-b699-26e94f64feac"
      },
      "execution_count": null
    },
    {
      "cell_type": "markdown",
      "source": [
        "When using the cell magic, `%%octave` (note the double `%`), multiple lines of Octave can be executed together.  Unlike\n",
        "with the single cell magic, no value is returned, so we use the `-i` and `-o` flags to specify input and output variables."
      ],
      "metadata": {
        "id": "A4woHw4wOyZx"
      }
    },
    {
      "cell_type": "code",
      "source": [
        "%%octave -i x -o y\n",
        "y = x + 3;"
      ],
      "outputs": [],
      "metadata": {
        "id": "v7m7NHzWOyZy"
      },
      "execution_count": null
    },
    {
      "cell_type": "code",
      "source": [
        "y"
      ],
      "outputs": [
        {
          "output_type": "execute_result",
          "data": {},
          "execution_count": 22
        }
      ],
      "metadata": {
        "id": "3lR6qPQnOyZy",
        "outputId": "18e4e2c3-6f15-4cb4-b8e5-e21596627c2a"
      },
      "execution_count": null
    },
    {
      "cell_type": "markdown",
      "source": [
        "##Plotting"
      ],
      "metadata": {
        "id": "ecC19mf0OyZy"
      }
    },
    {
      "cell_type": "markdown",
      "source": [
        "Plot output is automatically captured and displayed, and using the `-f` flag you may choose its format (currently, `png` and `svg` are supported)."
      ],
      "metadata": {
        "id": "-eCXtBosOyZy"
      }
    },
    {
      "cell_type": "code",
      "source": [
        "%%octave -f svg\n",
        "\n",
        "p = [12 -2.5 -8 -0.1 8];\n",
        "x = 0:0.01:1;\n",
        "\n",
        "polyout(p, 'x')\n",
        "plot(x, polyval(p, x));"
      ],
      "outputs": [
        {
          "output_type": "display_data",
          "data": {}
        },
        {
          "output_type": "display_data",
          "data": {}
        }
      ],
      "metadata": {
        "id": "vVRdCGR6OyZy",
        "outputId": "fa71d853-4e85-4bf9-bf10-7612df94b813"
      },
      "execution_count": null
    },
    {
      "cell_type": "markdown",
      "source": [
        "The plot size is adjusted using the `-s` flag:"
      ],
      "metadata": {
        "id": "Bsi1emodOyZy"
      }
    },
    {
      "cell_type": "code",
      "source": [
        "%%octave -s 500,500\n",
        "\n",
        "# butterworth filter, order 2, cutoff pi/2 radians\n",
        "b = [0.292893218813452  0.585786437626905  0.292893218813452];\n",
        "a = [1  0  0.171572875253810];\n",
        "freqz(b, a, 32);"
      ],
      "outputs": [
        {
          "output_type": "display_data",
          "data": {}
        }
      ],
      "metadata": {
        "id": "uj5shfO_OyZz",
        "outputId": "71630d4c-8a7e-4e64-fbda-2f31073146f8"
      },
      "execution_count": null
    },
    {
      "cell_type": "code",
      "source": [
        "%%octave -s 600,200 -f png\n",
        "\n",
        "subplot(121);\n",
        "[x, y] = meshgrid(0:0.1:3);\n",
        "r = sin(x - 0.5).^2 + cos(y - 0.5).^2;\n",
        "surf(x, y, r);\n",
        "\n",
        "subplot(122);\n",
        "sombrero()"
      ],
      "outputs": [
        {
          "output_type": "display_data",
          "data": {}
        }
      ],
      "metadata": {
        "id": "uxGpg3SJOyZz",
        "outputId": "bb562974-3b28-43f6-d645-bdda6dfcc390"
      },
      "execution_count": null
    },
    {
      "cell_type": "markdown",
      "source": [
        "##Future work"
      ],
      "metadata": {
        "id": "BUkm8qJJOyZz"
      }
    },
    {
      "cell_type": "markdown",
      "source": [
        "After the next release of `oct2py`, we'll add the ability to interrupt/kill the current Octave session without restarting the Python kernel."
      ],
      "metadata": {
        "id": "H12OVEH3OyZz"
      }
    }
  ]
}