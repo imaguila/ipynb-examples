{
  "nbformat": 4,
  "nbformat_minor": 0,
  "metadata": {
    "colab": {
      "name": "Cython Magics",
      "provenance": []
    }
  },
  "cells": [
    {
      "cell_type": "markdown",
      "source": [
        "#Cython Magic Functions"
      ],
      "metadata": {
        "id": "NEhbVXZGObiG"
      }
    },
    {
      "cell_type": "markdown",
      "source": [
        "##Loading the extension"
      ],
      "metadata": {
        "id": "Dtlkk3CgObiI"
      }
    },
    {
      "cell_type": "markdown",
      "source": [
        "IPtyhon has a `cythonmagic` extension that contains a number of magic functions for working with Cython code. This extension can be loaded using the `%load_ext` magic as follows:"
      ],
      "metadata": {
        "id": "68gRtTbLObiI"
      }
    },
    {
      "cell_type": "code",
      "source": [
        "%load_ext cythonmagic"
      ],
      "outputs": [],
      "metadata": {
        "id": "SfC31ahGObiJ"
      },
      "execution_count": null
    },
    {
      "cell_type": "markdown",
      "source": [
        "##The %cython_inline magic"
      ],
      "metadata": {
        "id": "EK3kduD6ObiJ"
      }
    },
    {
      "cell_type": "markdown",
      "source": [
        "The `%%cython_inline` magic uses `Cython.inline` to compile a Cython expression. This allows you to enter and run a function body with Cython code. Use a bare `return` statement to return values. "
      ],
      "metadata": {
        "id": "xHRs14nmObiJ"
      }
    },
    {
      "cell_type": "code",
      "source": [
        "a = 10\n",
        "b = 20"
      ],
      "outputs": [],
      "metadata": {
        "id": "UliC71hfObiJ"
      },
      "execution_count": null
    },
    {
      "cell_type": "code",
      "source": [
        "%%cython_inline\n",
        "return a+b"
      ],
      "outputs": [
        {
          "output_type": "execute_result",
          "data": {},
          "execution_count": 3
        }
      ],
      "metadata": {
        "id": "xgkdQye7ObiK",
        "outputId": "26048424-8d08-41ca-b721-b73f4222d755"
      },
      "execution_count": null
    },
    {
      "cell_type": "markdown",
      "source": [
        "##The %cython_pyximport magic"
      ],
      "metadata": {
        "id": "Mqle5rguObiK"
      }
    },
    {
      "cell_type": "markdown",
      "source": [
        "The `%%cython_pyximport` magic allows you to enter arbitrary Cython code into a cell. That Cython code is written as a `.pyx` file in the current working directory and then imported using `pyximport`.  You have the specify the name of the module that the Code will appear in. All symbols from the module are imported automatically by the magic function."
      ],
      "metadata": {
        "id": "-aiDLzBLObiK"
      }
    },
    {
      "cell_type": "code",
      "source": [
        "%%cython_pyximport foo\n",
        "def f(x):\n",
        "    return 4.0*x"
      ],
      "outputs": [],
      "metadata": {
        "id": "pmtvGAArObiL"
      },
      "execution_count": null
    },
    {
      "cell_type": "code",
      "source": [
        "f(10)"
      ],
      "outputs": [
        {
          "output_type": "execute_result",
          "data": {},
          "execution_count": 5
        }
      ],
      "metadata": {
        "id": "6-YnM-5jObiL",
        "outputId": "5f5a8cb1-7dca-4005-e57d-729428574168"
      },
      "execution_count": null
    },
    {
      "cell_type": "markdown",
      "source": [
        "##The %cython magic"
      ],
      "metadata": {
        "id": "ow5DAlKiObiL"
      }
    },
    {
      "cell_type": "markdown",
      "source": [
        "Probably the most important magic is the `%cython` magic.  This is similar to the `%%cython_pyximport` magic, but doesn't require you to specify a module name. Instead, the `%%cython` magic uses manages everything using temporary files in the `~/.cython/magic` directory.  All of the symbols in the Cython module are imported automatically by the magic.\n",
        "\n",
        "Here is a simple example of a Black-Scholes options pricing algorithm written in Cython. Please note that this example might not compile on non-POSIX systems (e.g., Windows) because of a missing `erf` symbol."
      ],
      "metadata": {
        "id": "uGNAvBMEObiL"
      }
    },
    {
      "cell_type": "code",
      "source": [
        "%%cython\n",
        "cimport cython\n",
        "from libc.math cimport exp, sqrt, pow, log, erf\n",
        "\n",
        "@cython.cdivision(True)\n",
        "cdef double std_norm_cdf(double x) nogil:\n",
        "    return 0.5*(1+erf(x/sqrt(2.0)))\n",
        "\n",
        "@cython.cdivision(True)\n",
        "def black_scholes(double s, double k, double t, double v,\n",
        "                 double rf, double div, double cp):\n",
        "    \"\"\"Price an option using the Black-Scholes model.\n",
        "    \n",
        "    s : initial stock price\n",
        "    k : strike price\n",
        "    t : expiration time\n",
        "    v : volatility\n",
        "    rf : risk-free rate\n",
        "    div : dividend\n",
        "    cp : +1/-1 for call/put\n",
        "    \"\"\"\n",
        "    cdef double d1, d2, optprice\n",
        "    with nogil:\n",
        "        d1 = (log(s/k)+(rf-div+0.5*pow(v,2))*t)/(v*sqrt(t))\n",
        "        d2 = d1 - v*sqrt(t)\n",
        "        optprice = cp*s*exp(-div*t)*std_norm_cdf(cp*d1) - \\\n",
        "            cp*k*exp(-rf*t)*std_norm_cdf(cp*d2)\n",
        "    return optprice"
      ],
      "outputs": [],
      "metadata": {
        "id": "_3hZcu_sObiL"
      },
      "execution_count": null
    },
    {
      "cell_type": "code",
      "source": [
        "black_scholes(100.0, 100.0, 1.0, 0.3, 0.03, 0.0, -1)"
      ],
      "outputs": [
        {
          "output_type": "execute_result",
          "data": {},
          "execution_count": 7
        }
      ],
      "metadata": {
        "id": "u0qak8TbObiM",
        "outputId": "220b28b3-c44c-4db1-e9f2-57cd5e14b095"
      },
      "execution_count": null
    },
    {
      "cell_type": "code",
      "source": [
        "%timeit black_scholes(100.0, 100.0, 1.0, 0.3, 0.03, 0.0, -1)"
      ],
      "outputs": [
        {
          "output_type": "stream",
          "text": [
            "1000000 loops, best of 3: 821 ns per loop\n"
          ],
          "name": "stdout"
        }
      ],
      "metadata": {
        "id": "G5t7ZsmzObiM",
        "outputId": "bb069af1-671b-4e1f-9fe8-9c535bcb86a9"
      },
      "execution_count": null
    },
    {
      "cell_type": "markdown",
      "source": [
        "##External libraries"
      ],
      "metadata": {
        "id": "VmoiYpKMObiM"
      }
    },
    {
      "cell_type": "markdown",
      "source": [
        "Cython allows you to specify additional libraries to be linked with your extension, you can do so with the `-l` flag (also spelled `--lib`).  Note that this flag can be passed more than once to specify multiple libraries, such as `-lm -llib2 --lib lib3`.  Here's a simple example of how to access the system math library:"
      ],
      "metadata": {
        "id": "9UbtZ8AXObiM"
      }
    },
    {
      "cell_type": "code",
      "source": [
        "%%cython -lm\n",
        "from libc.math cimport sin\n",
        "print 'sin(1)=', sin(1)"
      ],
      "outputs": [
        {
          "output_type": "stream",
          "text": [
            "sin(1)= 0.841470984808\n"
          ],
          "name": "stdout"
        }
      ],
      "metadata": {
        "id": "8jqSm8HGObiM",
        "outputId": "748fbbfb-5233-4672-9ca2-cd47dde0e1a1"
      },
      "execution_count": null
    },
    {
      "cell_type": "markdown",
      "source": [
        "You can similarly use the `-I/--include` flag to add include directories to the search path, and `-c/--compile-args` to add extra flags that are passed to Cython via the `extra_compile_args` of the distutils `Extension` class.  Please see [the Cython docs on C library usage](http://docs.cython.org/src/tutorial/clibraries.html) for more details on the use of these flags."
      ],
      "metadata": {
        "id": "1MgKZRgYObiN"
      }
    }
  ]
}